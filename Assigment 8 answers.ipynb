{
 "cells": [
  {
   "cell_type": "code",
   "execution_count": null,
   "id": "7eda0aa0",
   "metadata": {},
   "outputs": [],
   "source": [
    "1.PyInputPlus is a Python module used for taking inputs with additional validation features. PyInputPlus will keep asking the user for text until they enter valid input.\n",
    "\n",
    "2.You can import the module with import pyinputplus as pyip so that you can enter a shorter name when calling the module's functions. PyInputPlus has functions for entering a variety of input, including strings, numbers, dates, yes/no, True/False, emails, and files\n",
    "\n",
    "3.The inputInt() function returns an integer, while the inputFloat() function returns a float value. The inputFloat() function returns an integer, while the inputInt() function returns a float. The inputInt() function returns an integer, while the inputFloat() function returns a string value\n",
    "\n",
    "4.pyip.inputInt(min = 0, max =99)\n",
    "\n",
    "5.please provide answer for this\n",
    "\n",
    "6.please provide answer for this\n",
    "\n",
    "7.please provide answer for this"
   ]
  }
 ],
 "metadata": {
  "kernelspec": {
   "display_name": "Python 3 (ipykernel)",
   "language": "python",
   "name": "python3"
  },
  "language_info": {
   "codemirror_mode": {
    "name": "ipython",
    "version": 3
   },
   "file_extension": ".py",
   "mimetype": "text/x-python",
   "name": "python",
   "nbconvert_exporter": "python",
   "pygments_lexer": "ipython3",
   "version": "3.9.12"
  }
 },
 "nbformat": 4,
 "nbformat_minor": 5
}

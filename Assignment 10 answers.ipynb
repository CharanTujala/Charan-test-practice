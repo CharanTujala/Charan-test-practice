{
 "cells": [
  {
   "cell_type": "code",
   "execution_count": null,
   "id": "33faf9d2",
   "metadata": {},
   "outputs": [],
   "source": [
    "1.While shutil. copy() will copy a single file, shutil. copytree() will copy an entire folder and every folder and file contained in it\n",
    "\n",
    "2.rename() method in Python is used to rename a file or directory.\n",
    "\n",
    "3.The send2trash functions will move a file or folder to the recycle bin, while shutil functions will permanently delete files and folders.\n",
    "\n",
    "4.please provide answer for this\n",
    "\n",
    "5.please provide answer for this"
   ]
  }
 ],
 "metadata": {
  "kernelspec": {
   "display_name": "Python 3 (ipykernel)",
   "language": "python",
   "name": "python3"
  },
  "language_info": {
   "codemirror_mode": {
    "name": "ipython",
    "version": 3
   },
   "file_extension": ".py",
   "mimetype": "text/x-python",
   "name": "python",
   "nbconvert_exporter": "python",
   "pygments_lexer": "ipython3",
   "version": "3.9.12"
  }
 },
 "nbformat": 4,
 "nbformat_minor": 5
}

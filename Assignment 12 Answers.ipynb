{
 "cells": [
  {
   "cell_type": "code",
   "execution_count": null,
   "id": "0fb336b7",
   "metadata": {},
   "outputs": [],
   "source": [
    "1.Please provide answer for this\n",
    "\n",
    "2.To extract text from a page, you need to get a Page object, which represents a single page of a PDF, from a PdfFileReader object. You can get a Page object by calling the getPage() method ➋ on a PdfFileReader object and passing it the page number of the page you're interested in—in our case, 0.\n",
    "\n",
    "\n",
    "3.The total number of pages in the document is stored in the numPages attribute of a PdfFileReader object\n",
    "\n",
    "4.Please provide answer for this\n",
    "\n",
    "\n",
    "5.This method involves using shortcuts to rotate a PDF. While viewing a PDF document, press the \"Ctrl+Shift+L\" keys or \"Ctrl+Shift+R\" keys to rotate the current page to the left or right.\n",
    "\n",
    "\n",
    "6.Please provide answer for this\n",
    "\n",
    "\n",
    "7.Please provide answer for this\n",
    "\n",
    "8.Please provide answer for this\n",
    "\n",
    "9.True and False are specific bool values. Use default False when you have a bool field and you want the default to be False. Don't use False as a value for a non- bool field. None is used as a generic placeholder when the value will be set later.\n",
    "\n",
    "10.Please provide answer for this\n",
    "\n",
    "11.Please provide answer for this\n",
    "\n",
    "12.Please provide answer for this"
   ]
  }
 ],
 "metadata": {
  "kernelspec": {
   "display_name": "Python 3 (ipykernel)",
   "language": "python",
   "name": "python3"
  },
  "language_info": {
   "codemirror_mode": {
    "name": "ipython",
    "version": 3
   },
   "file_extension": ".py",
   "mimetype": "text/x-python",
   "name": "python",
   "nbconvert_exporter": "python",
   "pygments_lexer": "ipython3",
   "version": "3.9.12"
  }
 },
 "nbformat": 4,
 "nbformat_minor": 5
}

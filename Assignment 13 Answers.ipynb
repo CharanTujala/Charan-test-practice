{
 "cells": [
  {
   "cell_type": "code",
   "execution_count": null,
   "id": "3f3b1094",
   "metadata": {},
   "outputs": [],
   "source": [
    "1.Excel is more superior when compared with the CSV file format; thus, CSV consumes less amount of file size when the user is importing data; it is a much faster format compared to excel. CSV does not manipulate data and stores it as-is. Excel also allows the user the add-in feature.\n",
    "\n",
    "2.First, call open() and pass it 'w' to open a file in write mode ❶. This will create the object you can then pass to csv. writer() ❷ to create a Writer object. On Windows, you'll also need to pass a blank string for the open() function's newline keyword argument.\n",
    "\n",
    "3.First, call open() and pass it 'w' to open a file in write mode ❶. This will create the object you can then pass to csv. writer() ❷ to create a Writer object. On Windows, you'll also need to pass a blank string for the open() function's newline keyword argument.\n",
    "\n",
    "4.writerows()\n",
    "This function takes a list of iterables as parameter and writes each item as a comma separated line of items in the file\n",
    "\n",
    "5.The delimiter and lineterminator Keyword Arguments\n",
    "The delimiter is the character that appears between cells on a row. By default, the delimiter for a CSV file is a comma. The line terminator is the character that comes at the end of a row. By default, the line terminator is a newline.\n",
    "\n",
    "6.loads() method return Python data structure of JSON string or data\n",
    "\n",
    "7.loads() method return Python data structure of JSON string or data"
   ]
  }
 ],
 "metadata": {
  "kernelspec": {
   "display_name": "Python 3 (ipykernel)",
   "language": "python",
   "name": "python3"
  },
  "language_info": {
   "codemirror_mode": {
    "name": "ipython",
    "version": 3
   },
   "file_extension": ".py",
   "mimetype": "text/x-python",
   "name": "python",
   "nbconvert_exporter": "python",
   "pygments_lexer": "ipython3",
   "version": "3.9.12"
  }
 },
 "nbformat": 4,
 "nbformat_minor": 5
}

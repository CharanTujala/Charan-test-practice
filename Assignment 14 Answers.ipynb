{
 "cells": [
  {
   "cell_type": "code",
   "execution_count": null,
   "id": "e7aeab9d",
   "metadata": {},
   "outputs": [],
   "source": [
    "1.RGBA(Red-Green-Blue-Alpha)\n",
    "The RGB color model is extended in this specification to include “alpha” to allow specification of the opacity of a color.\n",
    "\n",
    "\n",
    "2.import the Image module from the Pillow library from PIL import Image.\n",
    "Open any image and get the RAGBAG values. img = Image.open('image.png') rgba = img.convert(“RGBA”) ...\n",
    "Change the color. Data will be an Imaging Core object containing thousands of tuples of RGBA values. ...\n",
    "Store the changed image\n",
    "\n",
    "3.please provide answer for this\n",
    "\n",
    "\n",
    "4.please provie answer for this\n",
    "\n",
    "5.please provie answer for this\n",
    "\n",
    "6.please provie answer for this\n",
    "\n",
    "\n",
    "7.The 'ImageDraw' module provides simple 2D graphics support for Image Object. Generally, we use this module to create new images, annotate or retouch existing images and to generate graphics on the fly for web use. The graphics commands support the drawing of shapes and annotation of text\n",
    "\n",
    "\n",
    "8.please provie answer for this"
   ]
  }
 ],
 "metadata": {
  "kernelspec": {
   "display_name": "Python 3 (ipykernel)",
   "language": "python",
   "name": "python3"
  },
  "language_info": {
   "codemirror_mode": {
    "name": "ipython",
    "version": 3
   },
   "file_extension": ".py",
   "mimetype": "text/x-python",
   "name": "python",
   "nbconvert_exporter": "python",
   "pygments_lexer": "ipython3",
   "version": "3.9.12"
  }
 },
 "nbformat": 4,
 "nbformat_minor": 5
}

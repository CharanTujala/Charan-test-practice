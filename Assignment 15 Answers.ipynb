{
 "cells": [
  {
   "cell_type": "code",
   "execution_count": null,
   "id": "fbcc0218",
   "metadata": {},
   "outputs": [],
   "source": [
    "1.please provide answer for this\n",
    "\n",
    "\n",
    "2.please provide answer for this\n",
    "\n",
    "3.One minute has 60 seconds, One hour has 60 minutes and one day has 24 hours. Thus, 80 x 60 x 24 = 86,400 seconds in a day.\n",
    "\n",
    "4. please provide answer for this\n",
    "\n",
    "5.please provide answer for this\n",
    "\n",
    "6.please provide answer for this\n",
    "\n",
    "7.please provide answer for this"
   ]
  }
 ],
 "metadata": {
  "kernelspec": {
   "display_name": "Python 3 (ipykernel)",
   "language": "python",
   "name": "python3"
  },
  "language_info": {
   "codemirror_mode": {
    "name": "ipython",
    "version": 3
   },
   "file_extension": ".py",
   "mimetype": "text/x-python",
   "name": "python",
   "nbconvert_exporter": "python",
   "pygments_lexer": "ipython3",
   "version": "3.9.12"
  }
 },
 "nbformat": 4,
 "nbformat_minor": 5
}

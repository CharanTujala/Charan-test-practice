{
 "cells": [
  {
   "cell_type": "code",
   "execution_count": null,
   "id": "b14d2db8",
   "metadata": {},
   "outputs": [],
   "source": [
    "1.Square brackets are lists while parentheses are tuples.\n",
    "\n",
    "\n",
    "2.Iterator\tGenerator\n",
    "Iterators are used mostly to iterate or convert other objects to an iterator using iter() function.\tGenerators are mostly used in loops to generate an iterator by returning all the values in the loop without affecting the iteration of the loop\n",
    "\n",
    "\n",
    "3.It is fairly simple to create a generator in Python. It is as easy as defining a normal function, but with a yield statement instead of a return statement. If a function contains at least one yield statement (it may contain other yield or return statements), it becomes a generator function\n",
    "\n",
    "\n",
    "4.In its simplest form, a yield statement looks much like a return statement, except that instead of stopping execution of the function and returning, yield instead provides a value to the code looping over the generator and pauses execution of the generator function.\n",
    "\n",
    "\n",
    "5.please provide answer for this\n",
    "\n"
   ]
  }
 ],
 "metadata": {
  "kernelspec": {
   "display_name": "Python 3 (ipykernel)",
   "language": "python",
   "name": "python3"
  },
  "language_info": {
   "codemirror_mode": {
    "name": "ipython",
    "version": 3
   },
   "file_extension": ".py",
   "mimetype": "text/x-python",
   "name": "python",
   "nbconvert_exporter": "python",
   "pygments_lexer": "ipython3",
   "version": "3.9.12"
  }
 },
 "nbformat": 4,
 "nbformat_minor": 5
}

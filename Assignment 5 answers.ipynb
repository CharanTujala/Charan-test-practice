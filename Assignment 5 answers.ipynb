{
 "cells": [
  {
   "cell_type": "code",
   "execution_count": null,
   "id": "4909c6a2",
   "metadata": {},
   "outputs": [],
   "source": [
    "1.To create an empty dictionary, the dictionary should be set to {}.\n",
    "\n",
    "2.{'foo': 42}\n",
    "\n",
    "3.A list refers to a collection of various index value pairs like that in the case of an array in C++. A dictionary refers to a hashed structure of various pairs of keys and values\n",
    "\n",
    "4.There is no difference. The in operator checks whether a value exists as a key in the dictionary.\n",
    "\n",
    "\n",
    "5.There is no difference. The in operator checks whether a value exists as a key in the dictionary. 'cat' in spam checks whether there is a 'cat' key in the dictionary, while 'cat' in spam.\n",
    "\n",
    "6.There is no difference. The in operator checks whether a value exists as a key in the dictionary. 'cat' in spam checks whether there is a 'cat' key in the dictionary, while 'cat' in spam.\n",
    "\n",
    "7.please provide answer for this\n",
    "\n",
    "8.Use pprint() to Pretty Print a Dictionary in Python\n",
    "Within the pprint module there is a function with the same name pprint() , which is the function used to pretty-print the given string or object. First, declare an array of dictionaries. Afterward, pretty print it using the function pprint"
   ]
  }
 ],
 "metadata": {
  "kernelspec": {
   "display_name": "Python 3 (ipykernel)",
   "language": "python",
   "name": "python3"
  },
  "language_info": {
   "codemirror_mode": {
    "name": "ipython",
    "version": 3
   },
   "file_extension": ".py",
   "mimetype": "text/x-python",
   "name": "python",
   "nbconvert_exporter": "python",
   "pygments_lexer": "ipython3",
   "version": "3.9.12"
  }
 },
 "nbformat": 4,
 "nbformat_minor": 5
}

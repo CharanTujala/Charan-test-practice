{
 "cells": [
  {
   "cell_type": "code",
   "execution_count": null,
   "id": "3b26e6ec",
   "metadata": {},
   "outputs": [],
   "source": [
    "1.To insert characters that are illegal in a string, use an escape character. An escape character is a backslash \\ followed by the character you want to insert.\n",
    "\n",
    "2.It is used in representing certain whitespace characters: \"\\t\" is a tab, \"\\n\" is a newline, and \"\\r\" is a carriage return\n",
    "\n",
    "3.If you want an actual backslash in the string or regex, you have to write two: \\\\ . If you're using a string to create a regular expression (rather than using a regular expression literal as I did above), note that you're dealing with two levels: The string level, and the regular expression level.\n",
    "        \n",
    "4.please provide answer for this\n",
    "\n",
    "5.Just use \\n ; Python automatically translates that to the proper newline character for your platform.\n",
    "\n",
    "6.'e',string indices must be integers,'Hello','lo, world!'\n",
    "\n",
    "7.'HELLO',True,'hello'\n",
    "\n",
    "8.please provide answer for this\n",
    "\n",
    "9.str.ljust(s, width[, fillchar])\n",
    "  str.rjust(s, width[, fillchar])\n",
    "  str.center(s, width[, fillchar])\n",
    "\n",
    "10.To remove whitespace characters from the beginning or from the end of a string only, you use the trimStart() or trimEnd() method.\n"
   ]
  },
  {
   "cell_type": "code",
   "execution_count": null,
   "id": "95bba601",
   "metadata": {},
   "outputs": [],
   "source": []
  }
 ],
 "metadata": {
  "kernelspec": {
   "display_name": "Python 3 (ipykernel)",
   "language": "python",
   "name": "python3"
  },
  "language_info": {
   "codemirror_mode": {
    "name": "ipython",
    "version": 3
   },
   "file_extension": ".py",
   "mimetype": "text/x-python",
   "name": "python",
   "nbconvert_exporter": "python",
   "pygments_lexer": "ipython3",
   "version": "3.9.12"
  }
 },
 "nbformat": 4,
 "nbformat_minor": 5
}

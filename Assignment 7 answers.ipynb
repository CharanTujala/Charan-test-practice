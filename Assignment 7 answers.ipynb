{
 "cells": [
  {
   "cell_type": "code",
   "execution_count": 2,
   "id": "93f2e965",
   "metadata": {},
   "outputs": [
    {
     "ename": "SyntaxError",
     "evalue": "invalid syntax (3749952323.py, line 1)",
     "output_type": "error",
     "traceback": [
      "\u001b[1;36m  Input \u001b[1;32mIn [2]\u001b[1;36m\u001b[0m\n\u001b[1;33m    1.The re. compile() function returns Regex objects.\u001b[0m\n\u001b[1;37m      ^\u001b[0m\n\u001b[1;31mSyntaxError\u001b[0m\u001b[1;31m:\u001b[0m invalid syntax\n"
     ]
    }
   ],
   "source": [
    "1.The re. compile() function returns Regex objects.\n",
    "\n",
    "2. Raw strings are used so that backslashes do not have to be escaped.\n",
    "\n",
    "3. The re.search() function takes two parameters and returns a match object if there is a match. If there is more than one match, only the first occurrence of the match will be returned. If no matches are found, the value None is returned.\n",
    "\n",
    "4.The group() method returns strings of the matched text.\n",
    "\n",
    "5.please provide answer for this\n",
    "\n",
    "6.please provide answer for this\n",
    "\n",
    "7.The findall() method returns a list of strings or a list of tuples of strings. What makes it return one or the other? If the regex has no groups, a list of strings is returned. If the regex has groups, a list of tuples of strings is returned.\n",
    "\n",
    "8.The character class is the most basic regex concept after a literal match. It makes one small sequence of characters match a larger set of characters. For example, [A-Z] could stand for any uppercase letter in the English alphabet, and \\d could mean any digit\n",
    "\n",
    "\n",
    "9.Each character in a regular expression (that is, each character in the string describing its pattern) is either a metacharacter, having a special meaning, or a regular character that has a literal meaning. For example, in the regex b. , 'b' is a literal character that matches just 'b', while '.\n",
    "\n",
    "\n",
    "10.Each of them are quantifiers, the star quantifier( * ) means that the preceding expression can match zero or more times it is like {0,} while the plus quantifier( + ) indicate that the preceding expression MUST match at least one time or multiple times and it is the same as {1,} . Show activity on this post\n",
    "\n",
    "\n",
    "11.please provide answer for this\n",
    "\n",
    "12.please provide answer for this\n",
    "\n",
    "13.please provide answer for this\n",
    "\n",
    "14.(. *?) matches any character ( . ) any number of times ( * ), as few times as possible to make the regex match ( ? ). You'll get a match on any string, but you'll only capture a blank string because of the question mark\n",
    "\n",
    "\n",
    "15.For example, the character class [a-zA-Z0-9] will match all lowercase letters, uppercase letters, and numbers.\n",
    "\n",
    "\n",
    "16.Use the (?i) and [optionally] (?-i) mode modifiers: (?i)G[a-b](?-i).*\n",
    "    \n",
    "    \n",
    "17.please provide answer for this\n",
    "\n",
    "\n",
    "18.please provide answer for this\n",
    "\n",
    "\n",
    "19.please provide answer for this\n",
    "\n",
    "\n",
    "20.please provide answer for this\n",
    "\n",
    "\n",
    "21.please provide answer for this\n",
    "\n",
    "22.please provide answer for this"
   ]
  },
  {
   "cell_type": "code",
   "execution_count": null,
   "id": "983ef426",
   "metadata": {},
   "outputs": [],
   "source": []
  }
 ],
 "metadata": {
  "kernelspec": {
   "display_name": "Python 3 (ipykernel)",
   "language": "python",
   "name": "python3"
  },
  "language_info": {
   "codemirror_mode": {
    "name": "ipython",
    "version": 3
   },
   "file_extension": ".py",
   "mimetype": "text/x-python",
   "name": "python",
   "nbconvert_exporter": "python",
   "pygments_lexer": "ipython3",
   "version": "3.9.12"
  }
 },
 "nbformat": 4,
 "nbformat_minor": 5
}

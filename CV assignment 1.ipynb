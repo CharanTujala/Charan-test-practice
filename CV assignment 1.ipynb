{
 "cells": [
  {
   "cell_type": "code",
   "execution_count": null,
   "id": "743a6845",
   "metadata": {},
   "outputs": [],
   "source": [
    "1.ans--A feature is a distinctive trait or a special attraction. Feature can also mean to give special attention to something. The word feature has several other senses as a noun and a verb. A feature is a unique quality or characteristic that something has\n",
    "\n",
    "\n",
    "2.Ans--Edges represents the object boundaries. So edge detection is a very important preprocessing step for any object detection or recognition process. Simple edge detection kernels are based on approximation of gradient images. Another advanced edge detection algorithms will discussed in details\n",
    "\n",
    "3.Ans--In image processing, a kernel, convolution matrix, or mask is a small matrix. It is used for blurring, sharpening, embossing, edge detection, and more. This is accomplished by doing a convolution between a kernel and an image\n",
    "\n",
    "4.Ans--What is the significance of a convolutional kernel added to a 3x3 matrix of zeroes\n",
    "\n",
    "5.Ans--Padding is the space that's inside the element between the element and the border. Padding goes around all four sides of the content and you can target and change the padding for each side (just like a margin)\n",
    "\n",
    "\n",
    "6.Ans-a long step or the distance covered by such a step She crossed the room in only a few strides\n",
    "\n",
    "7.Ans-What are the shapes of PyTorch&#39;s 2D convolution&#39;s input and weight parameters\n",
    "\n",
    "8.Ans--Typically, a \"channel\" refers to a certain component that defines pixel values in a digital image. A color image, for example is an aggregate of three channels (red, green and blue). The color data of an image is stored in three arrays of values, known as channels\n",
    "\n",
    "9.Ans--In convolution, let us define C as our kernel, Large as the input image, Small as the output image from convolution. After the convolution (matrix multiplication), we down-sample the large image into a small output image. The implementation of convolution in matrix multiplication follows as C x Large = Small.\n",
    "\n"
   ]
  }
 ],
 "metadata": {
  "kernelspec": {
   "display_name": "Python 3 (ipykernel)",
   "language": "python",
   "name": "python3"
  },
  "language_info": {
   "codemirror_mode": {
    "name": "ipython",
    "version": 3
   },
   "file_extension": ".py",
   "mimetype": "text/x-python",
   "name": "python",
   "nbconvert_exporter": "python",
   "pygments_lexer": "ipython3",
   "version": "3.9.12"
  }
 },
 "nbformat": 4,
 "nbformat_minor": 5
}

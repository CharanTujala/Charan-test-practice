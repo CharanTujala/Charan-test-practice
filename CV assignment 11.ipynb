{
 "cells": [
  {
   "cell_type": "code",
   "execution_count": null,
   "id": "ec25b9a3",
   "metadata": {},
   "outputs": [],
   "source": [
    "1.ans-What do REGION PROPOSALS entail\n",
    "\n",
    "2.Ans-Non Maximum Suppression is a computer vision method that selects a single entity out of many overlapping entities (for example bounding boxes in object detection). The criteria is usually discarding entities that are below a given probability bound\n",
    "\n",
    "3.Ans--What exactly is mAP\n",
    "\n",
    "4.Ans--What is a frames per second (FPS)\n",
    "\n",
    "5.Ans-What is an IOU (INTERSECTION OVER UNION)\n",
    "\n",
    "6.Ans--Precision-Recall (PR) Curve –\n",
    "A PR curve is simply a graph with Precision values on the y-axis and Recall values on the x-axis. In other words, the PR curve contains TP/(TP+FN) on the y-axis and TP/(TP+FP) on the x-axis. It is important to note that Precisi\n",
    "\n",
    "\n",
    "7.Ans-What is Selective Search? Selective Search is a region proposal algorithm used in object detection. It is designed to be fast with a very high recall. It is based on computing hierarchical grouping of similar regions based on color, texture, size and shape compatibility.\n",
    "\n",
    "\n",
    "8.Ans--Faster R-CNN is a single-stage model that is trained end-to-end. It uses a novel region proposal network (RPN) for generating region proposals, which save time compared to traditional algorithms like Selective Search. It uses the ROI Pooling layer to extract a fixed-length feature vector from each region proposal.\n",
    "\n",
    "\n",
    "9.Ans--9. What exactly is the Localization Module\n",
    "\n",
    "10.Ans-Drawback of R-CNN and the modification:\n",
    "Training is a multi-stage pipeline. -> End-to-end joint training.\n",
    "Training is expensive in space and time. -> Convolutional layer sharing. Classification in memory. ...\n",
    "Test-time detection is slow. -> Single scale testing, SVD fc layer."
   ]
  }
 ],
 "metadata": {
  "kernelspec": {
   "display_name": "Python 3 (ipykernel)",
   "language": "python",
   "name": "python3"
  },
  "language_info": {
   "codemirror_mode": {
    "name": "ipython",
    "version": 3
   },
   "file_extension": ".py",
   "mimetype": "text/x-python",
   "name": "python",
   "nbconvert_exporter": "python",
   "pygments_lexer": "ipython3",
   "version": "3.9.12"
  }
 },
 "nbformat": 4,
 "nbformat_minor": 5
}

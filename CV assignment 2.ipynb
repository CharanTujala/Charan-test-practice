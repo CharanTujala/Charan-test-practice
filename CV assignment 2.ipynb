{
 "cells": [
  {
   "cell_type": "code",
   "execution_count": null,
   "id": "47acacfd",
   "metadata": {},
   "outputs": [],
   "source": [
    "1.ans--A Convolutional Neural Network, also known as CNN or ConvNet, is a class of neural networks that specializes in processing data that has a grid-like topology, such as an image. A digital image is a binary representation of visual data\n",
    "\n",
    "\n",
    "2.Ans--How does refactoring parts of your neural network definition favor you\n",
    "\n",
    "3.Ans--What does it mean to flatten? Is it necessary to include it in the MNIST CNN? What is the reason\n",
    "for this\n",
    "\n",
    "4.Ans--NCHW stands for: batch N, channels C, depth D, height H, width W. It is a way to store multidimensional arrays / data frames / matrix into memory, which can be considered as a 1-D array\n",
    "    \n",
    "    \n",
    "5.Ans--Why are there 7*7*(1168-16) multiplications in the MNIST CNN&#39;s third layer\n",
    "\n",
    "6.Ans--The receptive field encompasses the sensory receptors that feed into sensory neurons and thus includes specific receptors on a neuron as well as collectives of receptors that are capable of activating a neuron via synaptic connections.\n",
    "\n",
    "\n",
    "7.Ans-What is the scale of an activation&#39;s receptive field after two stride-2 convolutions? What is the\n",
    "reason for this\n",
    "\n",
    "8.Ans--In the tensor methods, a color image is represented by a third-order tensor and a color video is represented by a fourth-order tensor, and their entries are real numbers which denote the values of red, green or blue channels. ..\n",
    "\n",
    "\n",
    "9.Ans--How does a color input interact with a convolution\n"
   ]
  }
 ],
 "metadata": {
  "kernelspec": {
   "display_name": "Python 3 (ipykernel)",
   "language": "python",
   "name": "python3"
  },
  "language_info": {
   "codemirror_mode": {
    "name": "ipython",
    "version": 3
   },
   "file_extension": ".py",
   "mimetype": "text/x-python",
   "name": "python",
   "nbconvert_exporter": "python",
   "pygments_lexer": "ipython3",
   "version": "3.9.12"
  }
 },
 "nbformat": 4,
 "nbformat_minor": 5
}

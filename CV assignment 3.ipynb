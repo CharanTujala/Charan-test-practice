{
 "cells": [
  {
   "cell_type": "code",
   "execution_count": null,
   "id": "0605a79a",
   "metadata": {},
   "outputs": [],
   "source": [
    "1.ans--After each stride-2 conv, why do we double the number of filters\n",
    "\n",
    "2.Ans--Why do we use a larger kernel with MNIST (with simple cnn) in the first conv\n",
    "\n",
    "3.ans-What data is saved by ActivationStats for each layer\n",
    "\n",
    "4.Ans--How do we get a learner&#39;s callback after they&#39;ve completed training\n",
    "\n",
    "5.Ans--What are the drawbacks of activations above zero\n",
    "\n",
    "6.Ans--6.Draw up the benefits and drawbacks of practicing in larger batches\n",
    "\n",
    "7.Ans--Why should we avoid starting training with a high learning rate\n",
    "\n",
    "8.Ans-What are the pros of studying with a high rate of learning\n",
    "\n",
    "9.Ans--Why do we want to end the training with a low learning rate"
   ]
  }
 ],
 "metadata": {
  "kernelspec": {
   "display_name": "Python 3 (ipykernel)",
   "language": "python",
   "name": "python3"
  },
  "language_info": {
   "codemirror_mode": {
    "name": "ipython",
    "version": 3
   },
   "file_extension": ".py",
   "mimetype": "text/x-python",
   "name": "python",
   "nbconvert_exporter": "python",
   "pygments_lexer": "ipython3",
   "version": "3.9.12"
  }
 },
 "nbformat": 4,
 "nbformat_minor": 5
}

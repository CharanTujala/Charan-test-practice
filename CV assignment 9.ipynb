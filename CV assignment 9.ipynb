{
 "cells": [
  {
   "cell_type": "code",
   "execution_count": null,
   "id": "e893900e",
   "metadata": {},
   "outputs": [],
   "source": [
    "1.ans-What are the advantages of a CNN for image classification over a completely linked DNN?\n",
    "2. Consider a CNN with three convolutional layers, each of which has three kernels, a stride of two,\n",
    "and SAME padding. The bottom layer generates 100 function maps, the middle layer 200, and the\n",
    "top layer 400. RGB images with a size of 200 x 300 pixels are used as input. How many criteria does\n",
    "the CNN have in total? How much RAM would this network need when making a single instance\n",
    "prediction if we&#39;re using 32-bit floats? What if you were to practice on a batch of 50 images?\n",
    "3. What are five things you might do to fix the problem if your GPU runs out of memory while\n",
    "training a CNN?\n",
    "4. Why would you use a max pooling layer instead with a convolutional layer of the same stride?\n",
    "5. When would a local response normalization layer be useful?\n",
    "6. In comparison to LeNet-5, what are the main innovations in AlexNet? What about GoogLeNet and\n",
    "ResNet&#39;s core innovations?\n",
    "7. On MNIST, build your own CNN and strive to achieve the best possible accuracy.\n",
    "8. Using Inception v3 to classify broad images. a.\n",
    "Images of different animals can be downloaded. Load them in Python using the\n",
    "matplotlib.image.mpimg.imread() or scipy.misc.imread() functions, for example. Resize and/or crop\n",
    "them to 299 x 299 pixels, and make sure they only have three channels (RGB) and no transparency.\n",
    "The photos used to train the Inception model were preprocessed to have values ranging from -1.0 to\n",
    "1.0, so make sure yours do as well.\n",
    "9. Large-scale image recognition using transfer learning.\n",
    "a. Make a training set of at least 100 images for each class. You might, for example, identify your\n",
    "own photos based on their position (beach, mountain, area, etc.) or use an existing dataset, such as\n",
    "the flowers dataset or MIT&#39;s places dataset (requires registration, and it is huge).\n",
    "b. Create a preprocessing phase that resizes and crops the image to 299 x 299 pixels while also\n",
    "adding some randomness for data augmentation.\n",
    "c. Using the previously trained Inception v3 model, freeze all layers up to the bottleneck layer (the\n",
    "last layer before output layer) and replace output layer with appropriate number of outputs for\n",
    "your new classification task (e.g., the flowers dataset has five mutually exclusive classes so the\n",
    "output layer must have five neurons and use softmax activation function).\n",
    "d. Separate the data into two sets: a training and a test set. The training set is used to train the\n",
    "model, and the test set is used to evaluate it."
   ]
  }
 ],
 "metadata": {
  "kernelspec": {
   "display_name": "Python 3 (ipykernel)",
   "language": "python",
   "name": "python3"
  },
  "language_info": {
   "codemirror_mode": {
    "name": "ipython",
    "version": 3
   },
   "file_extension": ".py",
   "mimetype": "text/x-python",
   "name": "python",
   "nbconvert_exporter": "python",
   "pygments_lexer": "ipython3",
   "version": "3.9.12"
  }
 },
 "nbformat": 4,
 "nbformat_minor": 5
}

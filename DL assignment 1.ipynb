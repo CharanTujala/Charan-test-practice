{
 "cells": [
  {
   "cell_type": "code",
   "execution_count": null,
   "id": "6e9f40dd",
   "metadata": {},
   "outputs": [],
   "source": [
    "1.Ans--summation, in physiology, the additive effect of several electrical impulses on a neuromuscular junction, the junction between a nerve cell and a muscle cell. Individually the stimuli cannot evoke a response, but collectively they can generate a response\n",
    "\n",
    "2.Ans-A step function is a function like that used by the original Perceptron. The output is a certain value, A1, if the input sum is above a certain threshold and A0 if the input sum is below a certain threshold. The values used by the Perceptron were A1 = 1 and A0 = 0\n",
    "\n",
    "3.Ans-The McCulloch-Pitts model was an extremely simple artificial neuron. The inputs could be either a zero or a one. And the output was a zero or a one. And each input could be either excitatory or inhibitory\n",
    "\n",
    "4.Ans--MADALINE (Many ADALINE) is a three-layer (input, hidden, output), fully connected, feed-forward artificial neural network architecture for classification that uses ADALINE units in its hidden and output layers, i.e. its activation function is the sign function. The three-layer network uses memistors.\n",
    "\n",
    "5.Ans--What is the constraint of a simple perceptron? Why it may fail with a real-world data set\n",
    "\n",
    "6.Ans--What is linearly inseparable problem? What is the role of the hidden layer\n",
    "\n",
    "7.Ans-The XOr problem is that we need to build a Neural Network (a perceptron in our case) to produce the truth table related to the XOr logical operator. This is a binary classification problem. Hence, supervised learning is a better way to solve it. In this case, we will be using perceptrons.\n",
    "\n",
    "\n",
    "8.Ans--Design a multi-layer perceptron to implement A XOR B\n",
    "\n",
    "9.Ans-Single-layer feed-forward network\n",
    "The output layer is formed when different weights are applied to input nodes and the cumulative effect per node is taken. After this, the neurons collectively give the output layer to compute the output signals\n",
    "\n",
    "\n",
    "10.Ans-Explain the competitive network architecture of ANN.\n",
    "\n",
    "11.Ans--Consider a multi-layer feed forward neural network. Enumerate and explain steps in the\n",
    "backpropagation algorithm used to train the network.\n",
    "\n",
    "\n",
    "12.Ans-The key advantages of neural networks are as follows.\n",
    "Efficiency. ...\n",
    "Continuous Learning. ...\n",
    "Data retrieval. ...\n",
    "Multitasking is one of the common advantages of Neural Networks. ...\n",
    "\n",
    "\n",
    "13.Ans-Write short notes on any two of the following:\n",
    "\n",
    "1. Biological neuron\n",
    "2. ReLU function\n",
    "3. Single-layer feed forward ANN\n",
    "4. Gradient descent\n",
    "5. Recurrent networks"
   ]
  }
 ],
 "metadata": {
  "kernelspec": {
   "display_name": "Python 3 (ipykernel)",
   "language": "python",
   "name": "python3"
  },
  "language_info": {
   "codemirror_mode": {
    "name": "ipython",
    "version": 3
   },
   "file_extension": ".py",
   "mimetype": "text/x-python",
   "name": "python",
   "nbconvert_exporter": "python",
   "pygments_lexer": "ipython3",
   "version": "3.9.12"
  }
 },
 "nbformat": 4,
 "nbformat_minor": 5
}

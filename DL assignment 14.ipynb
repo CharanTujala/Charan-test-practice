{
 "cells": [
  {
   "cell_type": "code",
   "execution_count": null,
   "id": "0a105f66",
   "metadata": {},
   "outputs": [],
   "source": [
    "1.Ans--Is it okay to initialize all the weights to the same value as long as that value is selected\n",
    "randomly using He initialization'\n",
    "\n",
    "2.Ans--t is possible and common to initialize the biases to be zero, since the asymmetry breaking is provided by the small random numbers in the weights.\n",
    "\n",
    "3.Ans--ELU becomes smooth slowly until its output equal to -α whereas RELU sharply smoothes. ELU is a strong alternative to ReLU. Unlike to ReLU, ELU can produce negative outputs\n",
    "\n",
    "4.Ans-In which cases would you want to use each of the following activation functions: ELU, leaky\n",
    "ReLU (and its variants), ReLU, tanh, logistic, and softmax\n",
    "\n",
    "5.Ans-If you set the momentum hyperparameter too close to 1 (e.g., 0.99999) when using an SGD optimizer, then the algorithm will likely pick up a lot of speed, hopefully moving roughly toward the global minimum, but its momentum will carry it right past the minimum.\n",
    "\n",
    "6.Ans--Name three ways you can produce a sparse model.\n",
    "\n",
    "7.Ans--Does dropout slow down training? Does it slow down inference (i.e., making predictions on\n",
    "new instances)"
   ]
  }
 ],
 "metadata": {
  "kernelspec": {
   "display_name": "Python 3 (ipykernel)",
   "language": "python",
   "name": "python3"
  },
  "language_info": {
   "codemirror_mode": {
    "name": "ipython",
    "version": 3
   },
   "file_extension": ".py",
   "mimetype": "text/x-python",
   "name": "python",
   "nbconvert_exporter": "python",
   "pygments_lexer": "ipython3",
   "version": "3.9.12"
  }
 },
 "nbformat": 4,
 "nbformat_minor": 5
}

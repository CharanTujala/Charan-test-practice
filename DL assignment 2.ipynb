{
 "cells": [
  {
   "cell_type": "code",
   "execution_count": null,
   "id": "0af5bb7d",
   "metadata": {},
   "outputs": [],
   "source": [
    "1.Ans--Describe the structure of an artificial neuron. How is it similar to a biological neuron? What\n",
    "are its main components\n",
    "\n",
    "\n",
    "2.Ans-Types of Activation Functions\n",
    "Sigmoid Function. In an ANN, the sigmoid function is a non-linear AF used primarily in feedforward neural networks. ...\n",
    "Hyperbolic Tangent Function (Tanh) ...\n",
    "Softmax Function. ...\n",
    "Softsign Function. ..\n",
    "\n",
    "\n",
    "3.Ans--Explain, in details, Rosenblatt’s perceptron model. How can a set of data be classified using a\n",
    "simple perceptron?\n",
    "2. Use a simple perceptron with weights w 0 , w 1 , and w 2  as −1, 2, and 1, respectively, to classify\n",
    "data points (3, 4); (5, 2); (1, −3); (−8, −3); (−3, 0).\n",
    "2. Explain the basic structure of a multi-layer perceptron. Explain how it can solve the XOR\n",
    "problem.\n",
    "3. What is artificial neural network (ANN)? Explain some of the salient highlights in the\n",
    "different architectural options for ANN.\n",
    "4. Explain the learning process of an ANN. Explain, with example, the challenge in assigning\n",
    "synaptic weights for the interconnection between neurons? How can this challenge be\n",
    "addressed?\n",
    "5. Explain, in details, the backpropagation algorithm. What are the limitations of this\n",
    "algorithm?\n",
    "6. Describe, in details, the process of adjusting the interconnection weights in a multi-layer\n",
    "neural network.\n",
    "7. What are the steps in the backpropagation algorithm? Why a multi-layer neural network is\n",
    "required?\n",
    "8. Write short notes on:\n",
    "\n",
    "1. Artificial neuron\n",
    "2. Multi-layer perceptron\n",
    "3. Deep learning\n",
    "4. Learning rate\n",
    "2. Write the difference between:-\n",
    "\n",
    "1. Activation function vs threshold function\n",
    "2. Step function vs sigmoid function\n",
    "3. Single layer vs multi-layer perceptron"
   ]
  }
 ],
 "metadata": {
  "kernelspec": {
   "display_name": "Python 3 (ipykernel)",
   "language": "python",
   "name": "python3"
  },
  "language_info": {
   "codemirror_mode": {
    "name": "ipython",
    "version": 3
   },
   "file_extension": ".py",
   "mimetype": "text/x-python",
   "name": "python",
   "nbconvert_exporter": "python",
   "pygments_lexer": "ipython3",
   "version": "3.9.12"
  }
 },
 "nbformat": 4,
 "nbformat_minor": 5
}

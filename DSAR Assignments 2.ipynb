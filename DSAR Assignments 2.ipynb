{
 "cells": [
  {
   "cell_type": "code",
   "execution_count": null,
   "id": "90f3a1fd",
   "metadata": {},
   "outputs": [],
   "source": [
    "1.aNS--What are the 5 major common challenges of the telecom industry, and how to\n",
    "overcome them using AI?\n",
    "\n",
    "2.AANS-Rising economic factors are leading to higher operating costs for banks. Increasing legislation, policies, and strict compliance are putting additional pressure on the banking sector. Existing software, processes, and business infrastructure can be expensive to change or adapt.\n",
    "\n",
    "3.ANS--Prediction of future outcomes and trends: With its power to predict future scenarios by analyzing past behaviors, AI helps banks predict future outcomes and trends. This helps banks to identify fraud, detect anti-money laundering pattern and make customer recommendations.\n",
    "    \n",
    "4.ANS--Chatbots are examples of AI in banking that are replacing the front-desk scenes at the banks. These AI-led machines provide next level digitized and customized interactive experiences to the customers.\n",
    "\n",
    "5.ANS--AI and ML algorithms help insurers verify policy holder data (from basic contact information to assets) and perform more accurate risk assessment based on an analysis of the prospective policyholder's past behavior as well as the behavior of those who have similar demographic characteristics\n",
    "    "
   ]
  }
 ],
 "metadata": {
  "kernelspec": {
   "display_name": "Python 3 (ipykernel)",
   "language": "python",
   "name": "python3"
  },
  "language_info": {
   "codemirror_mode": {
    "name": "ipython",
    "version": 3
   },
   "file_extension": ".py",
   "mimetype": "text/x-python",
   "name": "python",
   "nbconvert_exporter": "python",
   "pygments_lexer": "ipython3",
   "version": "3.9.12"
  }
 },
 "nbformat": 4,
 "nbformat_minor": 5
}

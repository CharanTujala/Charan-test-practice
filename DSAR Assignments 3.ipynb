{
 "cells": [
  {
   "cell_type": "code",
   "execution_count": null,
   "id": "1e5cb27d",
   "metadata": {},
   "outputs": [],
   "source": [
    "1.ans--Here are four major areas where insurers can implement AI to improve customer engagement, combat fraud and streamline business processes.\n",
    "Fraud Detection & Credit Analysis. ...\n",
    "Customer Profiling & Segmentation. ...\n",
    "Product & Policy Design. ...\n",
    "Underwriting & Claims Assessment.\n",
    "\n",
    "\n",
    "2.ans--Top 4 Techniques of Artificial Intelligence\n",
    "Machine Learning. It is one of the applications of AI where machines are not explicitly programmed to perform certain tasks; rather, they learn and improve from experience automatically. ...\n",
    "NLP (Natural Language Processing) ...\n",
    "Automation and Robotics. ...\n",
    "Machine Vision\n",
    "\n",
    "\n",
    "3.ans--Surveillance cameras are very useful for detecting, recording, and deterring any unwanted activity, but require a person constantly watching them for immediate actions to be taken. Security systems are more conducive to stopping a crime before it happens and alerts authorities in real time rather than after the fact\n",
    "\n",
    "\n",
    "4.ans--AI can be used by cybersecurity professionals to reinforce cybersecurity best practices and minimize the attack surface rather than continually being on the lookout for malicious activity. On the flipside, cybercriminals can take advantage of those same AI systems for malicious purposes.\n",
    "\n",
    "\n",
    "5.ans--AI analyzes relationships between threats like malicious files, suspicious IP addresses or insiders in seconds or minutes. AI provides curated risk analysis, reducing the time security analysts take to make critical decisions and remediate threats."
   ]
  }
 ],
 "metadata": {
  "kernelspec": {
   "display_name": "Python 3 (ipykernel)",
   "language": "python",
   "name": "python3"
  },
  "language_info": {
   "codemirror_mode": {
    "name": "ipython",
    "version": 3
   },
   "file_extension": ".py",
   "mimetype": "text/x-python",
   "name": "python",
   "nbconvert_exporter": "python",
   "pygments_lexer": "ipython3",
   "version": "3.9.12"
  }
 },
 "nbformat": 4,
 "nbformat_minor": 5
}

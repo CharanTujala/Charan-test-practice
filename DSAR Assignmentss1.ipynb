{
 "cells": [
  {
   "cell_type": "code",
   "execution_count": null,
   "id": "3a8cc492",
   "metadata": {},
   "outputs": [],
   "source": [
    "1.ans--AI has the potential to make traffic more efficient, ease traffic congestion, free driver's time, make parking easier, and encourage car- and ridesharing. As AI helps to keep road traffic flowing, it can also reduce fuel consumption caused by vehicles idling when stationary and improve air quality and urban planning\n",
    "\n",
    "2.Ans--AI has the potential to make traffic more efficient, ease traffic congestion, free driver's time, make parking easier, and encourage car- and ridesharing. As AI helps to keep road traffic flowing, it can also reduce fuel consumption caused by vehicles idling when stationary and improve air quality and urban planning\n",
    "\n",
    "3.Ans--In logistics, AI unlocks Big Data's true potential.\n",
    "Using the power of Big Data, logistics companies will be able to make accurate predictions and improve their performance. It can also be used for enhanced predictive analytics and improved automation to drive strategic decisions\n",
    "\n",
    "4.Ans--How AI-Powered robots help in detecting oil sleep?\n",
    "\n",
    "\n",
    "5.Ans--Surface Analysis/Geological Assessment.\n",
    "Reducing Well/Equipment Downtime.\n",
    "Optimizing Production and Scheduling.\n",
    "Asset Tracking and Maintenance Using Digital Twins.\n",
    "Defect Detection"
   ]
  }
 ],
 "metadata": {
  "kernelspec": {
   "display_name": "Python 3 (ipykernel)",
   "language": "python",
   "name": "python3"
  },
  "language_info": {
   "codemirror_mode": {
    "name": "ipython",
    "version": 3
   },
   "file_extension": ".py",
   "mimetype": "text/x-python",
   "name": "python",
   "nbconvert_exporter": "python",
   "pygments_lexer": "ipython3",
   "version": "3.9.12"
  }
 },
 "nbformat": 4,
 "nbformat_minor": 5
}

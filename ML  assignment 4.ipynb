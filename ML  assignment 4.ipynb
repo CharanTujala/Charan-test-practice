{
 "cells": [
  {
   "cell_type": "code",
   "execution_count": null,
   "id": "8a7ba274",
   "metadata": {},
   "outputs": [],
   "source": [
    "1.Ans--The 7 Key Steps To Build Your Machine Learning Model\n",
    "Step 1: Collect Data. ...\n",
    "Step 2: Prepare the data. ...\n",
    "Step 3: Choose the model. ...\n",
    "Step 4 Train your machine model. ...\n",
    "Step 5: Evaluation. ...\n",
    "Step 6: Parameter Tuning. ...\n",
    "    \n",
    "    \n",
    " 2.Ans--Data can come in many forms, but machine learning models rely on four primary data types. These include numerical data, categorical data, time series data, and text data\n",
    "\n",
    "3.Ans--Categorical data refers to a data type that can be stored and identified based on the names or labels given to them. Numerical data refers to the data that is in the form of numbers, and not in any language or descriptive form. Also known as qualitative data as it qualifies data before classifying it\n",
    "\n",
    "     Feature Selection vs Dimensionality Reduction\n",
    "While both methods are used for reducing the number of features in a dataset, there is an important difference. Feature selection is simply selecting and excluding given features without changing them. Dimensionality reduction transforms features into a lower dimension.\n",
    "\n",
    "\n",
    "4.Ans--Why is it necessary to investigate data? Is there a discrepancy in how qualitative and quantitative\n",
    "data are explored\n",
    "\n",
    "5.Ans--A histogram is a chart that plots the distribution of a numeric variable's values as a series of bars. Each bar typically covers a range of numeric values called a bin or class; a bar's height indicates the frequency of data points with a value within the corresponding bin\n",
    "\n",
    "\n",
    "6.Ans--5 ways to deal with outliers in data\n",
    "Set up a filter in your testing tool. Even though this has a little cost, filtering out outliers is worth it. ...\n",
    "Remove or change outliers during post-test analysis. ...\n",
    "Change the value of outliers. ...\n",
    "\n",
    "\n",
    "7.Ans--What are the various central inclination measures? Why does mean vary too much from median in\n",
    "certain data sets\n",
    "\n",
    "8.Ans-Describe how a scatter plot can be used to investigate bivariate relationships. Is it possible to find\n",
    "outliers using a scatter plot\n",
    "\n",
    "9.Ans--To describe the relationship between two categorical variables, we use a special type of table called a cross-tabulation (or \"crosstab\" for short). In a cross-tabulation, the categories of one variable determine the rows of the table, and the categories of the other variable determine the columns\n",
    "\n"
   ]
  }
 ],
 "metadata": {
  "kernelspec": {
   "display_name": "Python 3 (ipykernel)",
   "language": "python",
   "name": "python3"
  },
  "language_info": {
   "codemirror_mode": {
    "name": "ipython",
    "version": 3
   },
   "file_extension": ".py",
   "mimetype": "text/x-python",
   "name": "python",
   "nbconvert_exporter": "python",
   "pygments_lexer": "ipython3",
   "version": "3.9.12"
  }
 },
 "nbformat": 4,
 "nbformat_minor": 5
}

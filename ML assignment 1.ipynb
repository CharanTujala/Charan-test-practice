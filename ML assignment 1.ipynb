{
 "cells": [
  {
   "cell_type": "code",
   "execution_count": null,
   "id": "3e00fa4a",
   "metadata": {},
   "outputs": [],
   "source": [
    "1.Ans---Machine learning (ML) is a type of artificial intelligence (AI) that allows software applications to become more accurate at predicting outcomes without being explicitly programmed to do so. Machine learning algorithms use historical data as input to predict new output values\n",
    "\n",
    "2.Ans---Machine learning algorithms have had good results on problems such has spam detection in email, cancer diagnosis, fraudulent credit card transactions, and automatically driving vehicles.\n",
    "\n",
    "3.Ans--The training set is used to train the algorithm, and then you use the trained model on the test set to predict the response variable values that are already known. The final step is to compare the predicted responses against the actual (observed) responses to see how close they are\n",
    "\n",
    "4.Ans--The two most common supervised learning tasks are regression and classification. In a regression problem we our prediciton is a scalar value. When we're trying to solve a classification problem, our output is either 1 or 0.\n",
    "\n",
    "5.Ans--Common unsupervised tasks include clustering, visualization, dimensionality reduction, and association rule learning\n",
    "\n",
    "\n",
    "6.Ans--The best Machine Learning algorithm to allow a robot to walk in unknown terrain is Reinforced Learning, where the robot can learn from response of the terrain to optimize itself.\n",
    "\n",
    "\n",
    "7.Ans--We will use the k-means clustering algorithm to derive the optimum number of clusters and understand the underlying customer segments based on the data provided\n",
    "\n",
    "8.Ans--The data. Spam detection is a supervised machine learning problem. This means you must provide your machine learning model with a set of examples of spam and ham messages and let it find the relevant patterns that separate the two different categories.\n",
    "\n",
    "9.Ans--What is the concept of an online learning system"
   ]
  }
 ],
 "metadata": {
  "kernelspec": {
   "display_name": "Python 3 (ipykernel)",
   "language": "python",
   "name": "python3"
  },
  "language_info": {
   "codemirror_mode": {
    "name": "ipython",
    "version": 3
   },
   "file_extension": ".py",
   "mimetype": "text/x-python",
   "name": "python",
   "nbconvert_exporter": "python",
   "pygments_lexer": "ipython3",
   "version": "3.9.12"
  }
 },
 "nbformat": 4,
 "nbformat_minor": 5
}

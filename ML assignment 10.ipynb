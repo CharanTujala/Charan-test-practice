{
 "cells": [
  {
   "cell_type": "code",
   "execution_count": null,
   "id": "9f870bf6",
   "metadata": {},
   "outputs": [],
   "source": [
    "1.Ans--Logical, epistemic, and inductive probability.\n",
    "\n",
    "2.Ans--P(A or B) = P(A) + P(B). The chance of any (one or more) of two or more events occurring is called the union of the events. The probability of the union of disjoint events is the sum of their individual probabilities\n",
    "\n",
    "\n",
    "3.Ans--Probabilities are combined using multiplication, therefore the joint probability of independent events is calculated as the probability of event A multiplied by the probability of event B. This can be stated formally as follows: Joint Probability: P(A and B) = P(A) * P(B\n",
    "\n",
    "\n",
    "4.Ans--What is chain rule of probability\n",
    "\n",
    "5.Ans--Conditional probability is defined as the likelihood of an event or outcome occurring, based on the occurrence of a previous event or outcome. Conditional probability is calculated by multiplying the probability of the preceding event by the updated probability of the succeeding, or conditional, event.\n",
    "\n",
    "\n",
    "6.Ans-Continuous Random Variables. A continuous random variable is one which takes an infinite number of possible values. Continuous random variables are usually measurements. Examples include height, weight, the amount of sugar in an orange, the time required to run a mile.\n",
    "\n",
    "\n",
    "7.Ans--What are Bernoulli distributions? What is the formula of it\n",
    "\n",
    "\n",
    "8.Ans--the property of a function of retaining its form when the variables are linearly transformed.\n",
    "\n",
    "\n",
    "9.Ans--There is a correlation between a person’s diet and height.\n",
    "\n",
    "\n",
    "10.Ans--OECD Statistics. Definition: When a sampling unit is drawn from a finite population and is returned to that population, after its characteristic(s) have been recorded, before the next unit is drawn, the sampling is said to be “with replacement”\n",
    "\n",
    "\n",
    "11.Ans--In sampling without replacement, each sample unit of the population has only one chance to be selected in the sample. For example, if one draws a simple random sample such that no unit occurs more than one time in the sample, the sample is drawn without replacement.\n",
    "\n"
   ]
  }
 ],
 "metadata": {
  "kernelspec": {
   "display_name": "Python 3 (ipykernel)",
   "language": "python",
   "name": "python3"
  },
  "language_info": {
   "codemirror_mode": {
    "name": "ipython",
    "version": 3
   },
   "file_extension": ".py",
   "mimetype": "text/x-python",
   "name": "python",
   "nbconvert_exporter": "python",
   "pygments_lexer": "ipython3",
   "version": "3.9.12"
  }
 },
 "nbformat": 4,
 "nbformat_minor": 5
}

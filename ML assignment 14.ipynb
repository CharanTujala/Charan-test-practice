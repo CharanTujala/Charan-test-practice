{
 "cells": [
  {
   "cell_type": "code",
   "execution_count": null,
   "id": "14eb8c2f",
   "metadata": {},
   "outputs": [],
   "source": [
    "1.Ans--Supervised learning, also known as supervised machine learning, is a subcategory of machine learning and artificial intelligence. It is defined by its use of labeled datasets to train algorithms that to classify data or predict outcomes accurately\n",
    "\n",
    "2.Ans-n both these cases, the computer is approximating what a trained physician is already capable of doing with high accuracy. Supervised learning is often used to estimate risk. The Framingham Risk Score3 for coronary heart disease (CHD) may in fact be the most commonly used instance of supervised learning in medicine\n",
    "\n",
    "3.Ans-Supervised learning algorithms\n",
    "Various algorithms and computation techniques are used in supervised machine learning processes. ...\n",
    "Neural networks. ...\n",
    "Naive Bayes. ...\n",
    "Linear regression. ...\n",
    "\n",
    "\n",
    "\n",
    "4.Ans--Classification Algorithms are used with discrete data. In Regression, we try to find the best fit line, which can predict the output more accurately. In Classification, we try to find the decision boundary, which can divide the dataset into different classes.\n",
    "\n",
    "\n",
    "5.Ans-3.1 Comparison Matrix\n",
    "Classification Algorithms\tAccuracy\tF1-Score\n",
    "Logistic Regression\t84.60%\t0.6337\n",
    "Naïve Bayes\t80.11%\t0.6005\n",
    "Stochastic Gradient Descent\t82.20%\t0.5780\n",
    "K-Nearest Neighbours\t83.56%\t0.5924\n",
    "\n",
    "6.Ans--SVM or Support Vector Machine is a linear model for classification and regression problems. It can solve linear and non-linear problems and work well for many practical problems. The idea of SVM is simple: The algorithm creates a line or a hyperplane which separates the data into classes.\n",
    "    \n",
    "    \n",
    "7.Ans--In SVM, what is the cost of misclassification \n",
    "\n",
    "\n",
    "8.Ans-Support Vectors:\n",
    "The data points or vectors that are the closest to the hyperplane and which affect the position of the hyperplane are termed as Support Vector. \n",
    "\n",
    "\n",
    "9.Ans--A kernel is a function used in SVM for helping to solve problems. They provide shortcuts to avoid complex calculations. The amazing thing about kernel is that we can go to higher dimensions and perform smooth calculations with the help of it. We can go up to an infinite number of dimensions using kernels.\n",
    "\n",
    "\n",
    "10.Ans-What are the factors that influence SVM&#39;s effectiveness\n",
    "\n",
    "\n",
    "11.Ans--SVM model has some excellent advantages such as (a) highly effective (b) efficient memory (c) works well with both semi-structured and unstructured data (d) effective for high dimensional data (e) less overfitting issues (f) works well for small dataset [27], [28]\n",
    "\n",
    "\n",
    "12.Ans--SVM Disadvantages\n",
    "Long training time for large datasets. Difficult to understand and interpret the final model, variable weights and individual impact. Since the final model is not so easy to see, we can not do small calibrations to the model hence its tough to incorporate our business logic.\n",
    "\n",
    "\n",
    "\n"
   ]
  }
 ],
 "metadata": {
  "kernelspec": {
   "display_name": "Python 3 (ipykernel)",
   "language": "python",
   "name": "python3"
  },
  "language_info": {
   "codemirror_mode": {
    "name": "ipython",
    "version": 3
   },
   "file_extension": ".py",
   "mimetype": "text/x-python",
   "name": "python",
   "nbconvert_exporter": "python",
   "pygments_lexer": "ipython3",
   "version": "3.9.12"
  }
 },
 "nbformat": 4,
 "nbformat_minor": 5
}

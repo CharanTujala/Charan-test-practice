{
 "cells": [
  {
   "cell_type": "code",
   "execution_count": null,
   "id": "7f9b01b2",
   "metadata": {},
   "outputs": [],
   "source": [
    "1.Ans--Recognize the differences between supervised, semi-supervised, and unsupervised learning.\n",
    "\n",
    "\n",
    "2.Ans--Classification problems are supervised learning problems wherein the training data set consists of data related to independent and response variables (label).\n",
    "...\n",
    "What are ML Classification Problems?\n",
    "Logistic regression.\n",
    "Decision trees.\n",
    "Random forest.\n",
    "XGBoost.\n",
    "\n",
    "\n",
    "3.Ans-process of classification consists of two phases [4]: 1. Construction of the classifier; 2. Usage of the classifier. Basic functional blocks and components used in these two phases are depicted on Figur\n",
    "    \n",
    "    \n",
    "4.Ans---Support vector machine is a supervised learning system and used for classification and regression problems.\n",
    "...\n",
    "Disadvantages of support vector machine :\n",
    "Support vector machine algorithm is not acceptable for large data sets.\n",
    "It does not execute very well when the data set has more sound i.e. target classes are overlapping.\n",
    "\n",
    "\n",
    "5.Ans--Go over the kNN model in depth.\n",
    "\n",
    "\n",
    "6.Ans-By observing validation error rate we can interpret that At K=1, we were over fitting the boundaries. In Validation graph Error rate initially decreases and reaches a minima. After the minima point, it then increase with increasing K. This value of K where error reaches minima should be used for all predictions.\n",
    "\n",
    "\n",
    "7.Ans--For kNN, talk about how to measure the difference between the test and training results.\n",
    "\n",
    "\n",
    "8.Ans--In the example shown above following steps are performed:\n",
    "The k-nearest neighbor algorithm is imported from the scikit-learn package.\n",
    "Create feature and target variables.\n",
    "Split data into training and test data.\n",
    "Generate a k-NN model using neighbors value.\n",
    "Train or fit the data into the model\n",
    "\n",
    "\n",
    "9.Ans--Describe the different ways to scan a decision tree.\n",
    "\n",
    "\n",
    "10.Ans--Describe in depth the decision tree algorithm.\n",
    "\n",
    "\n",
    "11.Ans--In a decision tree, what is inductive bias? What would you do to stop overfitting"
   ]
  }
 ],
 "metadata": {
  "kernelspec": {
   "display_name": "Python 3 (ipykernel)",
   "language": "python",
   "name": "python3"
  },
  "language_info": {
   "codemirror_mode": {
    "name": "ipython",
    "version": 3
   },
   "file_extension": ".py",
   "mimetype": "text/x-python",
   "name": "python",
   "nbconvert_exporter": "python",
   "pygments_lexer": "ipython3",
   "version": "3.9.12"
  }
 },
 "nbformat": 4,
 "nbformat_minor": 5
}

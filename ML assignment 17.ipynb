{
 "cells": [
  {
   "cell_type": "code",
   "execution_count": null,
   "id": "56c5bd39",
   "metadata": {},
   "outputs": [],
   "source": [
    "1.Ans--Using a graph to illustrate slope and intercept, define basic linear regression.\n",
    "\n",
    "\n",
    "2.Ans--The vertical change between two points is called the rise, and the horizontal change is called the run. The slope equals the rise divided by the run: Slope =riserun Slope = rise run . You can determine the slope of a line from its graph by looking at the rise and run.\n",
    "    \n",
    "    \n",
    "3.Ans--Use a graph to demonstrate slope, linear positive slope, and linear negative slope, as well as the\n",
    "different conditions that contribute to the slope.\n",
    "\n",
    "\n",
    "4.Ans--Use a graph to demonstrate curve linear negative slope and curve linear positive slope.\n",
    "\n",
    "\n",
    "5.Ans--Use a graph to show the maximum and low points of curves.\n",
    "\n",
    "\n",
    "6.Ans--Use the formulas for a and b to explain ordinary least squares.\n",
    "\n",
    "\n",
    "7.Ans-Let's take a simple example. ...\n",
    "Calculate the error of each variable from the mean.\n",
    "Multiply the error for each x with the error for each y and calculate the sum of these multiplications.\n",
    "Square the residual of each x value from the mean and sum of these squared values.\n",
    "\n",
    "\n",
    "8.Ans--What is the regression&#39;s standard error? To represent the same, make a graph.\n",
    "\n",
    "\n",
    "9.Ans--As an example, an analyst may want to know how the movement of the market affects the price of ExxonMobil (XOM). In this case, their linear equation will have the value of the S&P 500 index as the independent variable, or predictor, and the price of XOM as the dependent variable.\n",
    "\n",
    "10.Ans--Describe the regression analysis assumptions and the BLUE principle.\n",
    "\n",
    "\n",
    "11.Ans-Regression model is linear in coefficients and the error term. The error term has an expected value of zero. Homoscedasticity: the conditional variance of the error term is constant for all observations. The error terms are independently distributed and are not correlated with each other\n",
    "    \n",
    "    \n",
    "12.Ans-How can the linear regression model&#39;s accuracy be improved    \n",
    "\n",
    "\n",
    "\n",
    "    \n",
    "    \n",
    "    "
   ]
  }
 ],
 "metadata": {
  "kernelspec": {
   "display_name": "Python 3 (ipykernel)",
   "language": "python",
   "name": "python3"
  },
  "language_info": {
   "codemirror_mode": {
    "name": "ipython",
    "version": 3
   },
   "file_extension": ".py",
   "mimetype": "text/x-python",
   "name": "python",
   "nbconvert_exporter": "python",
   "pygments_lexer": "ipython3",
   "version": "3.9.12"
  }
 },
 "nbformat": 4,
 "nbformat_minor": 5
}

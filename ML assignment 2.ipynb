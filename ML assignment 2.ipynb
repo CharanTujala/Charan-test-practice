{
 "cells": [
  {
   "cell_type": "code",
   "execution_count": null,
   "id": "48b79fce",
   "metadata": {},
   "outputs": [],
   "source": [
    "1.Ans--Many examples of this case are found in case of human learning. Learning to drive a motor-car, typewriting, singing or memorizing a poem or a mathematical table, and music etc. need exercise and repetition of various movements and actions many times.\n",
    "\n",
    "\n",
    "2.Ans--What different forms of human learning are there? Are there any machine learning equivalents\n",
    "\n",
    "3.Ans--Machine learning (ML) is a type of artificial intelligence (AI) that allows software applications to become more accurate at predicting outcomes without being explicitly programmed to do so. Machine learning algorithms use historical data as input to predict new output values.\n",
    "\n",
    "\n",
    "4.Ans--A reinforcement learning algorithm, which may also be referred to as an agent, learns by interacting with its environment. The agent receives rewards by performing correctly and penalties for performing incorrectly. The agent learns without intervention from a human by maximizing its reward and minimizing its penalty.\n",
    "\n",
    "5.Ans-Searching through a large space of hypotheses implicitly defined by the hypothesis representation (same for more general learning). The hypothesis representation defines the space of hypotheses the program can ever represent and therefore can ever learn\n",
    "\n",
    "6.Ans-The Goals of Machine Learning.\n",
    "(1) To make the computers smarter, more intelligent. The more direct objective in this aspect is to develop systems (programs) for specific practical learning tasks in application domains. (2) To dev elop computational models of human learning process and perform computer simulations.\n",
    "\n",
    "7.Ans--Illustrate the various elements of machine learning using a real-life illustration.\n",
    "\n",
    "8.Ans--Example of Abstract class that has an abstract method\n",
    "abstract class Bike{\n",
    "abstract void run();\n",
    "}\n",
    "class Honda4 extends Bike{\n",
    "void run(){System.out.println(\"running safely\");}\n",
    "public static void main(String args[]){\n",
    "    \n",
    "    \n",
    "9ans--Generalization refers to your model's ability to adapt properly to new, previously unseen data, drawn from the same distribution as the one used to create the model. Develop intuition about overfitting\n",
    "    \n",
    "10.Ans--    "
   ]
  }
 ],
 "metadata": {
  "kernelspec": {
   "display_name": "Python 3 (ipykernel)",
   "language": "python",
   "name": "python3"
  },
  "language_info": {
   "codemirror_mode": {
    "name": "ipython",
    "version": 3
   },
   "file_extension": ".py",
   "mimetype": "text/x-python",
   "name": "python",
   "nbconvert_exporter": "python",
   "pygments_lexer": "ipython3",
   "version": "3.9.12"
  }
 },
 "nbformat": 4,
 "nbformat_minor": 5
}

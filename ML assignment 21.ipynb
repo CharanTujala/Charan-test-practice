{
 "cells": [
  {
   "cell_type": "code",
   "execution_count": null,
   "id": "17b0718b",
   "metadata": {},
   "outputs": [],
   "source": [
    "1.Ans--What is the approximate depth of a Decision Tree trained (without restrictions) on a training set with 1 million instances? (106) ≈ 20 (actually a bit more since the tree will generally not be perfectly well balanced).\n",
    "\n",
    "2.Ans--A node's Gini impurity is generally lower than its parent's. This is ensured by the CART training algorithm's cost function, which splits each node in a way that minimizes the weighted sum of its children's Gini impurities\n",
    "\n",
    "3.Ans--Explain if its a good idea to reduce max depth if a Decision Tree is overfitting the training set\n",
    "\n",
    "4.Ans--If a Decision Tree is underfitting the training set, is it a good idea to try scaling the input features? Decision Trees don't care whether or not the training data is scaled or centered; scaling the input features will just be a waste of time.\n",
    "\n",
    "5.Ans-How much time will it take to train another Decision Tree on a training set of 10 million instances\n",
    "if it takes an hour to train a Decision Tree on a training set with 1 million instances\n",
    "\n",
    "\n",
    "6.Ans--If your training set contains 100,000 instances, will setting presort=True speed up training? Presorting the training set speeds up training only if the dataset is smaller than a few thousand instances. If it contains 100,000 instances, setting presort=True will considerably slow down training.\n",
    "\n",
    "\n",
    "7.Ans-Follow these steps to train and fine-tune a Decision Tree for the moons dataset\n",
    "\n",
    "\n",
    "    \n",
    "    \n",
    "    "
   ]
  }
 ],
 "metadata": {
  "kernelspec": {
   "display_name": "Python 3 (ipykernel)",
   "language": "python",
   "name": "python3"
  },
  "language_info": {
   "codemirror_mode": {
    "name": "ipython",
    "version": 3
   },
   "file_extension": ".py",
   "mimetype": "text/x-python",
   "name": "python",
   "nbconvert_exporter": "python",
   "pygments_lexer": "ipython3",
   "version": "3.9.12"
  }
 },
 "nbformat": 4,
 "nbformat_minor": 5
}

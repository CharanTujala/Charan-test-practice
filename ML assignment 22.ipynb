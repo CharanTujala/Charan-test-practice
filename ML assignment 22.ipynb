{
 "cells": [
  {
   "cell_type": "code",
   "execution_count": null,
   "id": "d61dbbbf",
   "metadata": {},
   "outputs": [],
   "source": [
    "1.Ans--1. Is there any way to combine five different models that have all been trained on the same training\n",
    "data and have all achieved 95 percent precision? If so, how can you go about doing it? If not, what is\n",
    "the reason?\n",
    "2. What&#39;s the difference between hard voting classifiers and soft voting classifiers?\n",
    "3. Is it possible to distribute a bagging ensemble&#39;s training through several servers to speed up the\n",
    "process? Pasting ensembles, boosting ensembles, Random Forests, and stacking ensembles are all\n",
    "options.\n",
    "\n",
    "4. What is the advantage of evaluating out of the bag?\n",
    "\n",
    "5. What distinguishes Extra-Trees from ordinary Random Forests? What good would this extra\n",
    "randomness do? Is it true that Extra-Tree Random Forests are slower or faster than normal Random\n",
    "Forests?\n",
    "\n",
    "6. Which hyperparameters and how do you tweak if your AdaBoost ensemble underfits the training\n",
    "data?\n",
    "\n",
    "7. Should you raise or decrease the learning rate if your Gradient Boosting ensemble overfits the\n",
    "training set?"
   ]
  }
 ],
 "metadata": {
  "kernelspec": {
   "display_name": "Python 3 (ipykernel)",
   "language": "python",
   "name": "python3"
  },
  "language_info": {
   "codemirror_mode": {
    "name": "ipython",
    "version": 3
   },
   "file_extension": ".py",
   "mimetype": "text/x-python",
   "name": "python",
   "nbconvert_exporter": "python",
   "pygments_lexer": "ipython3",
   "version": "3.9.12"
  }
 },
 "nbformat": 4,
 "nbformat_minor": 5
}

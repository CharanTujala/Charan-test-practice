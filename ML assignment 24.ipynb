{
 "cells": [
  {
   "cell_type": "code",
   "execution_count": null,
   "id": "dfd40a19",
   "metadata": {},
   "outputs": [],
   "source": [
    "1.Ans--Introduction Cluster analysis or clustering is an unsupervised machine learning algorithm that groups unlabeled datasets. It aims to form clusters or groups using the data points in a dataset in such a way that there is high intra-cluster\n",
    "\n",
    "2.Ans-The Top 5 Clustering Algorithms Data Scientists Should Know\n",
    "K-means Clustering Algorithm. ...\n",
    "Mean-Shift Clustering Algorithm. ...\n",
    "DBSCAN – Density-Based Spatial Clustering of Applications with Noise. ...\n",
    "EM using GMM – Expectation-Maximization (EM) Clustering using Gaussian Mixture Models (GMM) ...\n",
    "Agglomerative Hierarchical Clustering.\n",
    "\n",
    "3.Ans--The optimal number of clusters can be defined as follow: Compute clustering algorithm (e.g., k-means clustering) for different values of k. For instance, by varying k from 1 to 10 clusters. For each k, calculate the total within-cluster sum of square (wss)\n",
    "    \n",
    "    \n",
    "4.Ans--Forward Propagation is the way to move from the Input layer (left) to the Output layer (right) in the neural network. The process of moving from the right to left i.e backward from the Output to the Input layer is called the Backward Propagation\n",
    "\n",
    "\n",
    "5.Ans-Provide two examples of clustering algorithms that can handle large datasets. And two that look\n",
    "for high-density areas\n",
    "\n",
    "\n",
    "6.Ans--Can you think of a scenario in which constructive learning will be advantageous? How can you go\n",
    "about putting it into action\n",
    "\n",
    "7.Ans--In this context an outlier is also called a novelty. Outlier detection and novelty detection are both used for anomaly detection, where one is interested in detecting abnormal or unusual observations.\n",
    "...\n",
    "Novelty detection with Local Outlier Factor.\n",
    "Method\tOutlier detection\tNovelty detection\n",
    "negative_outlier_factor_\tOK\tOK\n",
    "\n",
    "\n",
    "8.Ans--Gaussian mixture models (GMMs) are a type of machine learning algorithm. They are used to classify data into different categories based on the probability distribution. Gaussian mixture models can be used in many different areas, including finance, marketing and so much more!\n",
    "\n",
    "\n",
    "9.Ans--The two most popular evaluation metrics for picking cluster numbers for fitting Gaussian Mixture models are BIC and AIC. BIC stands for Bayesian information criterion and AIC stands for Akaike information criterion\n",
    "\n"
   ]
  }
 ],
 "metadata": {
  "kernelspec": {
   "display_name": "Python 3 (ipykernel)",
   "language": "python",
   "name": "python3"
  },
  "language_info": {
   "codemirror_mode": {
    "name": "ipython",
    "version": 3
   },
   "file_extension": ".py",
   "mimetype": "text/x-python",
   "name": "python",
   "nbconvert_exporter": "python",
   "pygments_lexer": "ipython3",
   "version": "3.9.12"
  }
 },
 "nbformat": 4,
 "nbformat_minor": 5
}

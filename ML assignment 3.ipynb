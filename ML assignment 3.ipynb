{
 "cells": [
  {
   "cell_type": "code",
   "execution_count": null,
   "id": "64804090",
   "metadata": {},
   "outputs": [],
   "source": [
    "1.Ans--1.Explain the term machine learning, and how does it work? Explain two machine learning\n",
    "applications in the business world. What are some of the ethical concerns that machine learning\n",
    "applications could raise\n",
    "\n",
    "2.Ans--Based on the methods and way of learning, machine learning is divided into mainly four types, which are: Supervised Machine Learning. Unsupervised Machine Learning. Semi-Supervised Machine Learning.\n",
    "...\n",
    "b) Regression\n",
    "Simple Linear Regression Algorithm.\n",
    "Multivariate Regression Algorithm.\n",
    "Decision Tree Algorithm.\n",
    "Lasso Regression.\n",
    "\n",
    "3.Ans--These are three types of machine learning: supervised learning, unsupervised learning, and reinforcement learning\n",
    "    \n",
    "    \n",
    "4.Ans--The formal definition of Well posed learning problem is, “A computer program is said to learn from Experience E when given a task T, and some performance measure P. If it performs on T with a performance measure P, then it upgrades with experience E\n",
    "\n",
    "\n",
    "5.Ans--Machine learning uses two techniques: supervised learning, which trains a model on known input and output data to predict future outputs, and unsupervised learning, which uses hidden patterns or internal structures in the input data.\n",
    "    \n",
    "    \n",
    "    \n",
    "6.Ans--Can you explain the various forms of supervised learning? Explain each one with an example\n",
    "application.\n",
    "\n",
    "7.Ans--The main difference between supervised and unsupervised learning: Labeled data. The main distinction between the two approaches is the use of labeled datasets. To put it simply, supervised learning uses labeled input and output data, while an unsupervised learning algorithm does not\n",
    "    \n",
    "    \n",
    "8.Ans--    "
   ]
  }
 ],
 "metadata": {
  "kernelspec": {
   "display_name": "Python 3 (ipykernel)",
   "language": "python",
   "name": "python3"
  },
  "language_info": {
   "codemirror_mode": {
    "name": "ipython",
    "version": 3
   },
   "file_extension": ".py",
   "mimetype": "text/x-python",
   "name": "python",
   "nbconvert_exporter": "python",
   "pygments_lexer": "ipython3",
   "version": "3.9.12"
  }
 },
 "nbformat": 4,
 "nbformat_minor": 5
}

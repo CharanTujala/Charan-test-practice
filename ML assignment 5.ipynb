{
 "cells": [
  {
   "cell_type": "code",
   "execution_count": null,
   "id": "3d617184",
   "metadata": {},
   "outputs": [],
   "source": [
    "1.Ans--Data preprocessing is a process of preparing the raw data and making it suitable for a machine learning model. It is the first and crucial step while creating a machine learning model. When creating a machine learning project, it is not always a case that we come across the clean and formatted data.\n",
    "\n",
    "2.Ans-Quantitative data is numbers-based, countable, or measurable. Qualitative data is interpretation-based, descriptive, and relating to language. Quantitative data tells us how many, how much, or how often in calculations. Qualitative data can help us to understand why, how, or what happened behind certain behaviors.\n",
    "\n",
    "3.Ans--Create a basic data collection that includes some sample records. Have at least one attribute from\n",
    "each of the machine learning data types.\n",
    "\n",
    "4.Ans-Let's have a look.\n",
    "Poor Quality of Data. Data plays a significant role in the machine learning process. ...\n",
    "Underfitting of Training Data. ...\n",
    "Overfitting of Training Data. ...\n",
    "Machine Learning is a Complex Process. ...\n",
    "Lack of Training Data. ...\n",
    "\n",
    "\n",
    "5.ANs--Demonstrate various approaches to categorical data exploration with appropriate examples.\n",
    "\n",
    "6.Ans-How would the learning activity be affected if certain variables have missing values? Having said\n",
    "that, what can be done about it\n",
    "\n",
    "7.Ans--If the missing value is of the type Missing Not At Random (MNAR), then it should not be deleted. If the missing value is of type Missing At Random (MAR) or Missing Completely At Random (MCAR) then it can be deleted. The disadvantage of this method is one might end up deleting some useful data from the dataset.\n",
    "\n",
    "8.Ans--What are the various data pre-processing techniques? Explain dimensionality reduction and\n",
    "function selection in a few words.\n"
   ]
  }
 ],
 "metadata": {
  "kernelspec": {
   "display_name": "Python 3 (ipykernel)",
   "language": "python",
   "name": "python3"
  },
  "language_info": {
   "codemirror_mode": {
    "name": "ipython",
    "version": 3
   },
   "file_extension": ".py",
   "mimetype": "text/x-python",
   "name": "python",
   "nbconvert_exporter": "python",
   "pygments_lexer": "ipython3",
   "version": "3.9.12"
  }
 },
 "nbformat": 4,
 "nbformat_minor": 5
}

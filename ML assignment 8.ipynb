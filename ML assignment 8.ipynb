{
 "cells": [
  {
   "cell_type": "code",
   "execution_count": null,
   "id": "4c2fae10",
   "metadata": {},
   "outputs": [],
   "source": [
    "1.Ans--What exactly is a feature,Give an example to illustrate your point.\n",
    "\n",
    "2.Ans--What are the various circumstances in which feature construction is required\n",
    "\n",
    "3.Ans--Nominal Encoding\n",
    "When we have a feature where variables are just names and there is no order or rank to this variable's feature. For example: City of person lives in, Gender of person, Marital Status, etc… In the above example, We do not have any order or rank, or sequence.\n",
    "\n",
    "4.Ans--Describe how numeric features are converted to categorical features.\n",
    "\n",
    "5.Ans-Describe the feature selection wrapper approach. State the advantages and disadvantages of this\n",
    "approach\n",
    "\n",
    "6.Ans-When is a feature considered irrelevant? What can be said to quantify it\n",
    "\n",
    "7.Ans--When is a function considered redundant? What criteria are used to identify features that could\n",
    "be redundant\n",
    "\n",
    "8.Ans--Perhaps four of the most commonly used distance measures in machine learning are as follows: Hamming Distance. Euclidean Distance. Manhattan Distance.\n",
    "    \n",
    "    \n",
    "9.Ans--Euclidean distance is the shortest path between source and destination which is a straight line as shown in Figure 1.3. but Manhattan distance is sum of all the real distances between source(s) and destination(d) and each distance are always the straight lines as shown in\n",
    "\n",
    "\n",
    "10.Ans--Feature selection is a process that chooses a subset of features from the original features so that the fea- ture space is optimally reduced according to a certain criterion. Feature extraction/construction is a process through which a set of new features is created. They are used either in isolation or in combination.\n",
    "\n",
    "\n",
    "\n"
   ]
  }
 ],
 "metadata": {
  "kernelspec": {
   "display_name": "Python 3 (ipykernel)",
   "language": "python",
   "name": "python3"
  },
  "language_info": {
   "codemirror_mode": {
    "name": "ipython",
    "version": 3
   },
   "file_extension": ".py",
   "mimetype": "text/x-python",
   "name": "python",
   "nbconvert_exporter": "python",
   "pygments_lexer": "ipython3",
   "version": "3.9.12"
  }
 },
 "nbformat": 4,
 "nbformat_minor": 5
}

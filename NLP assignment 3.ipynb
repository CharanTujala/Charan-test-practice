{
 "cells": [
  {
   "cell_type": "code",
   "execution_count": null,
   "id": "d74632b1",
   "metadata": {},
   "outputs": [],
   "source": [
    "1.Ans--RNN has a concept of “memory” which remembers all information about what has been calculated till time step t. RNNs are called recurrent because they perform the same task for every element of a sequence, with the output being depended on the previous computations.\n",
    "\n",
    "2.Ans--Backpropagation Through Time, or BPTT, is the application of the Backpropagation training algorithm to recurrent neural network applied to sequence data like a time series. A recurrent neural network is shown one input each timestep and predicts one output. Conceptually, BPTT works by unrolling all input timesteps.\n",
    "\n",
    "3.Ans--Explain Vanishing and exploding gradients\n",
    "\n",
    "4.Ans--Long short-term memory (LSTM) is an artificial neural network used in the fields of artificial intelligence and deep learning. Unlike standard feedforward neural networks, LSTM has feedback connections.\n",
    "\n",
    "5.Ans--The Gated Recurrent Unit (GRU) is a type of Recurrent Neural Network (RNN) that, in certain cases, has advantages over long short term memory (LSTM). GRU uses less memory and is faster than LSTM, however, LSTM is more accurate when using datasets with longer sequences.\n",
    "\n",
    "6.Ans--Long short-term memory, a recurrent neural network unit, is widely used in sequence-prediction-related problems. There are different architectures of LSTMs for different purposes\n",
    "\n",
    "7.Ans--Bidirectional RNNs\n",
    "\n",
    "8.Ans--Explain the gates of LSTM with equations.\n",
    "\n",
    "9.Ans--Bidirectional LSTM (BiLSTM) is a recurrent neural network used primarily on natural language processing. Unlike standard LSTM, the input flows in both directions, and it's capable of utilizing information from both sides\n",
    "\n",
    "\n",
    "10.Ans--A Bidirectional GRU, or BiGRU, is a sequence processing model that consists of two GRUs. one taking the input in a forward direction, and the other in a backwards direction. It is a bidirectional recurrent neural network with only the input and forget gates\n",
    "\n"
   ]
  }
 ],
 "metadata": {
  "kernelspec": {
   "display_name": "Python 3 (ipykernel)",
   "language": "python",
   "name": "python3"
  },
  "language_info": {
   "codemirror_mode": {
    "name": "ipython",
    "version": 3
   },
   "file_extension": ".py",
   "mimetype": "text/x-python",
   "name": "python",
   "nbconvert_exporter": "python",
   "pygments_lexer": "ipython3",
   "version": "3.9.12"
  }
 },
 "nbformat": 4,
 "nbformat_minor": 5
}

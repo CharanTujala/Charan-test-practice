{
 "cells": [
  {
   "cell_type": "code",
   "execution_count": null,
   "id": "9135e1db",
   "metadata": {},
   "outputs": [],
   "source": [
    "1.Ans--Can you think of a few applications for a sequence-to-sequence RNN? What about a\n",
    "sequence-to-vector RNN? And a vector-to-sequence RNN\n",
    "\n",
    "2.Ans0--Why do people use encoder–decoder RNNs rather than plain sequence-to-sequence RNNs\n",
    "for automatic translation\n",
    "\n",
    "\n",
    "3.Ans-How could you combine a convolutional neural network with an RNN to classify videos\n",
    "\n",
    "4.Ans--What are the advantages of building an RNN using dynamic_rnn() rather than static_rnn()\n",
    "\n",
    "5.Ans--The first and simplest way of handling variable length input is to set a special mask value in the dataset, and pad out the length of each input to the standard length with this mask value set for all additional entries created. Then, create a Masking layer in the model, placed ahead of all downstream layers.\n",
    "\n",
    "6.Ans--There are two most common ways how to distribute training between mini-processors (in our case GPUs): data parallelism and model parallelism."
   ]
  }
 ],
 "metadata": {
  "kernelspec": {
   "display_name": "Python 3 (ipykernel)",
   "language": "python",
   "name": "python3"
  },
  "language_info": {
   "codemirror_mode": {
    "name": "ipython",
    "version": 3
   },
   "file_extension": ".py",
   "mimetype": "text/x-python",
   "name": "python",
   "nbconvert_exporter": "python",
   "pygments_lexer": "ipython3",
   "version": "3.9.12"
  }
 },
 "nbformat": 4,
 "nbformat_minor": 5
}

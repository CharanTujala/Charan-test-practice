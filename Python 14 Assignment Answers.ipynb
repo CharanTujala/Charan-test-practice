{
 "cells": [
  {
   "cell_type": "code",
   "execution_count": null,
   "id": "c38ee645",
   "metadata": {},
   "outputs": [],
   "source": [
    "class gen:\n",
    "    def __init__(self,a,b):\n",
    "        self.a=a\n",
    "        self.b=b\n",
    "    def foo(self,a,b):\n",
    "        for i in range (a,b):\n",
    "            yield i\n",
    "    def div(self):\n",
    "        for i in obj.foo(self.a,self.b):\n",
    "            if i%7==0:\n",
    "                print(i)"
   ]
  },
  {
   "cell_type": "code",
   "execution_count": null,
   "id": "4908a4e7",
   "metadata": {},
   "outputs": [],
   "source": [
    "obj=gen(0,100)\n"
   ]
  },
  {
   "cell_type": "code",
   "execution_count": 1,
   "id": "3d844f7a",
   "metadata": {},
   "outputs": [
    {
     "ename": "NameError",
     "evalue": "name 'obj' is not defined",
     "output_type": "error",
     "traceback": [
      "\u001b[1;31m---------------------------------------------------------------------------\u001b[0m",
      "\u001b[1;31mNameError\u001b[0m                                 Traceback (most recent call last)",
      "Input \u001b[1;32mIn [1]\u001b[0m, in \u001b[0;36m<cell line: 2>\u001b[1;34m()\u001b[0m\n\u001b[0;32m      1\u001b[0m \u001b[38;5;66;03m#Number didivisible by 7, between a given range 0 and 100.\u001b[39;00m\n\u001b[1;32m----> 2\u001b[0m \u001b[43mobj\u001b[49m\u001b[38;5;241m.\u001b[39mdiv()\n",
      "\u001b[1;31mNameError\u001b[0m: name 'obj' is not defined"
     ]
    }
   ],
   "source": [
    "#Number didivisible by 7, between a given range 0 and 100.\n",
    "obj.div()"
   ]
  },
  {
   "cell_type": "code",
   "execution_count": 2,
   "id": "a5c912f0",
   "metadata": {},
   "outputs": [
    {
     "name": "stdout",
     "output_type": "stream",
     "text": [
      "Enter the string----->New to Python or choosing between Python 2 and Python 3? Read Python 2 or Python 3\n",
      "2 : 2\n",
      "3 : 1\n",
      "3? : 1\n",
      "New : 1\n",
      "Python : 5\n",
      "Read : 1\n",
      "and : 1\n",
      "between : 1\n",
      "choosing : 1\n",
      "or : 2\n",
      "to : 1\n"
     ]
    }
   ],
   "source": [
    "string=input(\"Enter the string----->\")\n",
    "words = [word for word in string.split(\" \")]\n",
    "words.sort()\n",
    "dict={}\n",
    "for i in words:\n",
    "    dict[i]=words.count(i)\n",
    "for i in dict:\n",
    "    print(i,\":\",dict[i])"
   ]
  },
  {
   "cell_type": "code",
   "execution_count": null,
   "id": "f6a39bc8",
   "metadata": {},
   "outputs": [],
   "source": [
    "class Person:\n",
    "    def __init__(self,name):\n",
    "        self.name=name\n",
    "        \n",
    "    \n",
    "class Male(Person):\n",
    "    def getGender(self):\n",
    "        print(self.name,\"'s gender is Male\")\n",
    "\n",
    "class Female(Person):\n",
    "    def getGender(self):\n",
    "        print(self.name,\"'s gender is Female\")    "
   ]
  },
  {
   "cell_type": "code",
   "execution_count": null,
   "id": "b5693923",
   "metadata": {},
   "outputs": [],
   "source": [
    "obj1=Male(\"sagnik\")\n",
    "obj2=Female(\"Asima\")"
   ]
  },
  {
   "cell_type": "code",
   "execution_count": 3,
   "id": "fb871c5b",
   "metadata": {},
   "outputs": [
    {
     "ename": "NameError",
     "evalue": "name 'obj1' is not defined",
     "output_type": "error",
     "traceback": [
      "\u001b[1;31m---------------------------------------------------------------------------\u001b[0m",
      "\u001b[1;31mNameError\u001b[0m                                 Traceback (most recent call last)",
      "Input \u001b[1;32mIn [3]\u001b[0m, in \u001b[0;36m<cell line: 1>\u001b[1;34m()\u001b[0m\n\u001b[1;32m----> 1\u001b[0m \u001b[43mobj1\u001b[49m\u001b[38;5;241m.\u001b[39mgetGender()\n",
      "\u001b[1;31mNameError\u001b[0m: name 'obj1' is not defined"
     ]
    }
   ],
   "source": [
    "obj1.getGender()"
   ]
  },
  {
   "cell_type": "code",
   "execution_count": null,
   "id": "0ebc11e9",
   "metadata": {},
   "outputs": [],
   "source": [
    "subj= [\"I\", \"You\"]\n",
    "verb=[\"Play\", \"Love\"]\n",
    "object=[\"Hockey\",\"Football\"]"
   ]
  },
  {
   "cell_type": "code",
   "execution_count": 4,
   "id": "8d13d5db",
   "metadata": {},
   "outputs": [
    {
     "ename": "NameError",
     "evalue": "name 'subj' is not defined",
     "output_type": "error",
     "traceback": [
      "\u001b[1;31m---------------------------------------------------------------------------\u001b[0m",
      "\u001b[1;31mNameError\u001b[0m                                 Traceback (most recent call last)",
      "Input \u001b[1;32mIn [4]\u001b[0m, in \u001b[0;36m<cell line: 1>\u001b[1;34m()\u001b[0m\n\u001b[1;32m----> 1\u001b[0m \u001b[38;5;28;01mfor\u001b[39;00m i \u001b[38;5;129;01min\u001b[39;00m \u001b[43msubj\u001b[49m:\n\u001b[0;32m      2\u001b[0m     \u001b[38;5;28;01mfor\u001b[39;00m j \u001b[38;5;129;01min\u001b[39;00m verb:\n\u001b[0;32m      3\u001b[0m         \u001b[38;5;28;01mfor\u001b[39;00m k \u001b[38;5;129;01min\u001b[39;00m \u001b[38;5;28mobject\u001b[39m:\n",
      "\u001b[1;31mNameError\u001b[0m: name 'subj' is not defined"
     ]
    }
   ],
   "source": [
    "for i in subj:\n",
    "    for j in verb:\n",
    "        for k in object:\n",
    "            print(i+\" \"+j+\" \"+k)"
   ]
  },
  {
   "cell_type": "code",
   "execution_count": 5,
   "id": "1256c5a8",
   "metadata": {},
   "outputs": [
    {
     "name": "stdout",
     "output_type": "stream",
     "text": [
      "Compressed string ---> b'\\x1f\\x8b\\x08\\x00F\\xf4\\xecb\\x02\\xff\\xcbH\\xcd\\xc9\\xc9W(\\xcf/\\xcaIQ\\xcc \\x82\\r\\x00\\xd3\\xe6\\xcf\\xae0\\x00\\x00\\x00'\n",
      "Deompressed string ---> b'hello world!hello world!hello world!hello world!'\n"
     ]
    }
   ],
   "source": [
    "# import gzip and decompress\n",
    "import gzip\n",
    "s = b\"hello world!hello world!hello world!hello world!\"\n",
    "s = gzip.compress(s)\n",
    "print(\"Compressed string --->\",s)\n",
    "# using gzip.decompress(s) method\n",
    "t = gzip.decompress(s)\n",
    "print(\"Deompressed string --->\",t)"
   ]
  },
  {
   "cell_type": "code",
   "execution_count": 6,
   "id": "f923f469",
   "metadata": {},
   "outputs": [
    {
     "name": "stdout",
     "output_type": "stream",
     "text": [
      "Element is present at index 2\n"
     ]
    }
   ],
   "source": [
    "# Returns index of x in arr if present, else -1\n",
    "def binary_search(list, low, high, x):\n",
    "\n",
    "# Check base case\n",
    "    if high >= low:\n",
    "\n",
    "        mid = (high + low) // 2\n",
    "\n",
    "        # If element is present at the middle itself\n",
    "        if list[mid] == x:\n",
    "            return mid\n",
    "\n",
    "        # If element is smaller than mid, then it can only\n",
    "        # be present in left subarray\n",
    "        elif list[mid] > x:\n",
    "            return binary_search(list, low, mid - 1, x)\n",
    "\n",
    "        # Else the element can only be present in right subarray\n",
    "        else:\n",
    "            return binary_search(list, mid + 1, high, x)\n",
    "\n",
    "    else:\n",
    "        # Element is not present in the array\n",
    "        return -1\n",
    "\n",
    "# Test array\n",
    "l= [ 2, 3, 4, 10, 40 ]\n",
    "x = 4\n",
    "\n",
    "# Function call\n",
    "result = binary_search(l, 0, len(l)-1, x)\n",
    "\n",
    "if result != -1:\n",
    "    print(\"Element is present at index\", str(result))\n",
    "else:\n",
    "    print(\"Element is not present in array\")"
   ]
  },
  {
   "cell_type": "code",
   "execution_count": null,
   "id": "81018ece",
   "metadata": {},
   "outputs": [],
   "source": []
  }
 ],
 "metadata": {
  "kernelspec": {
   "display_name": "Python 3 (ipykernel)",
   "language": "python",
   "name": "python3"
  },
  "language_info": {
   "codemirror_mode": {
    "name": "ipython",
    "version": 3
   },
   "file_extension": ".py",
   "mimetype": "text/x-python",
   "name": "python",
   "nbconvert_exporter": "python",
   "pygments_lexer": "ipython3",
   "version": "3.9.12"
  }
 },
 "nbformat": 4,
 "nbformat_minor": 5
}

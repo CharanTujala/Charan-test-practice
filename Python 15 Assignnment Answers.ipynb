{
 "cells": [
  {
   "cell_type": "code",
   "execution_count": null,
   "id": "49690ebe",
   "metadata": {},
   "outputs": [],
   "source": [
    "class gen:\n",
    "    \n",
    "    def __init__(self,n):\n",
    "        self.n=n\n",
    "    def foo(self,n):\n",
    "        for i in range (0,n):\n",
    "            yield i\n",
    "    def div(self):\n",
    "        list_1=[]\n",
    "        for i in obj.foo(self.n):\n",
    "            if i%7==0 and i%5==0:\n",
    "                list_1.append(str(i))\n",
    "        joined_string = \",\".join(list_1)\n",
    "        print(\"Number divisible by 7 and 5 between 0 and \",self.n,\"are\") \n",
    "        print(joined_string)"
   ]
  },
  {
   "cell_type": "code",
   "execution_count": 1,
   "id": "c12a83a4",
   "metadata": {},
   "outputs": [
    {
     "ename": "NameError",
     "evalue": "name 'gen' is not defined",
     "output_type": "error",
     "traceback": [
      "\u001b[1;31m---------------------------------------------------------------------------\u001b[0m",
      "\u001b[1;31mNameError\u001b[0m                                 Traceback (most recent call last)",
      "Input \u001b[1;32mIn [1]\u001b[0m, in \u001b[0;36m<cell line: 1>\u001b[1;34m()\u001b[0m\n\u001b[1;32m----> 1\u001b[0m obj\u001b[38;5;241m=\u001b[39m\u001b[43mgen\u001b[49m(\u001b[38;5;241m100\u001b[39m)\n\u001b[0;32m      2\u001b[0m obj\u001b[38;5;241m.\u001b[39mdiv()\n",
      "\u001b[1;31mNameError\u001b[0m: name 'gen' is not defined"
     ]
    }
   ],
   "source": [
    "obj=gen(100)\n",
    "obj.div()"
   ]
  },
  {
   "cell_type": "code",
   "execution_count": null,
   "id": "fe380b65",
   "metadata": {},
   "outputs": [],
   "source": [
    "class even: \n",
    "    \n",
    "    def __init__(self,n):\n",
    "        self.n=n\n",
    "    def foo(self,n):\n",
    "        for i in range (0,n+1):\n",
    "            yield i\n",
    "    def div(self):\n",
    "        list_2=[]\n",
    "        for i in obj.foo(self.n):\n",
    "            if i%2==0 :\n",
    "                list_2.append(str(i))\n",
    "        joined_string = \",\".join(list_2)\n",
    "        print(\"Even number between o to \",self.n,\"are\")\n",
    "        print(joined_string)"
   ]
  },
  {
   "cell_type": "code",
   "execution_count": 2,
   "id": "8886cdf4",
   "metadata": {},
   "outputs": [
    {
     "ename": "NameError",
     "evalue": "name 'even' is not defined",
     "output_type": "error",
     "traceback": [
      "\u001b[1;31m---------------------------------------------------------------------------\u001b[0m",
      "\u001b[1;31mNameError\u001b[0m                                 Traceback (most recent call last)",
      "Input \u001b[1;32mIn [2]\u001b[0m, in \u001b[0;36m<cell line: 1>\u001b[1;34m()\u001b[0m\n\u001b[1;32m----> 1\u001b[0m obj\u001b[38;5;241m=\u001b[39m\u001b[43meven\u001b[49m(\u001b[38;5;241m10\u001b[39m)\n\u001b[0;32m      2\u001b[0m l\u001b[38;5;241m=\u001b[39mobj\u001b[38;5;241m.\u001b[39mdiv()\n",
      "\u001b[1;31mNameError\u001b[0m: name 'even' is not defined"
     ]
    }
   ],
   "source": [
    "obj=even(10)\n",
    "l=obj.div()"
   ]
  },
  {
   "cell_type": "code",
   "execution_count": null,
   "id": "7977dfb0",
   "metadata": {},
   "outputs": [],
   "source": [
    "def fibo(n):\n",
    "    lis=[0,1]\n",
    "    for i in range(2,n+1):\n",
    "        lis.insert(i,lis[i-2]+lis[i-1])\n",
    "    joined_string = \",\".join(list(map(str, lis)))\n",
    "    print(joined_string) "
   ]
  },
  {
   "cell_type": "code",
   "execution_count": 3,
   "id": "1a421f2d",
   "metadata": {},
   "outputs": [
    {
     "ename": "NameError",
     "evalue": "name 'fibo' is not defined",
     "output_type": "error",
     "traceback": [
      "\u001b[1;31m---------------------------------------------------------------------------\u001b[0m",
      "\u001b[1;31mNameError\u001b[0m                                 Traceback (most recent call last)",
      "Input \u001b[1;32mIn [3]\u001b[0m, in \u001b[0;36m<cell line: 1>\u001b[1;34m()\u001b[0m\n\u001b[1;32m----> 1\u001b[0m \u001b[43mfibo\u001b[49m(\u001b[38;5;241m7\u001b[39m)\n",
      "\u001b[1;31mNameError\u001b[0m: name 'fibo' is not defined"
     ]
    }
   ],
   "source": [
    "fibo(7)"
   ]
  },
  {
   "cell_type": "code",
   "execution_count": null,
   "id": "10d74bb4",
   "metadata": {},
   "outputs": [],
   "source": [
    "def email():\n",
    "    str=input(\"Enter email id--->\")\n",
    "    x=str.split(\"@\")\n",
    "    print(\"Name of the person is--->\",x[0])"
   ]
  },
  {
   "cell_type": "code",
   "execution_count": 4,
   "id": "c7ded1f8",
   "metadata": {},
   "outputs": [
    {
     "ename": "NameError",
     "evalue": "name 'email' is not defined",
     "output_type": "error",
     "traceback": [
      "\u001b[1;31m---------------------------------------------------------------------------\u001b[0m",
      "\u001b[1;31mNameError\u001b[0m                                 Traceback (most recent call last)",
      "Input \u001b[1;32mIn [4]\u001b[0m, in \u001b[0;36m<cell line: 1>\u001b[1;34m()\u001b[0m\n\u001b[1;32m----> 1\u001b[0m \u001b[43memail\u001b[49m()\n",
      "\u001b[1;31mNameError\u001b[0m: name 'email' is not defined"
     ]
    }
   ],
   "source": [
    "email()\n"
   ]
  },
  {
   "cell_type": "code",
   "execution_count": null,
   "id": "f5e8efcd",
   "metadata": {},
   "outputs": [],
   "source": [
    "class Shape():\n",
    "    def __init__(self,length):\n",
    "        self.length=length\n",
    "    def area(self):\n",
    "        print(\"area is--->\",0)\n",
    "class Square(Shape):\n",
    "    def __init__(self,length):\n",
    "        self.length=length\n",
    "    def area(self):\n",
    "        print(\"area is--->\",self.length*self.length)"
   ]
  },
  {
   "cell_type": "code",
   "execution_count": 5,
   "id": "620d305b",
   "metadata": {},
   "outputs": [
    {
     "ename": "NameError",
     "evalue": "name 'Shape' is not defined",
     "output_type": "error",
     "traceback": [
      "\u001b[1;31m---------------------------------------------------------------------------\u001b[0m",
      "\u001b[1;31mNameError\u001b[0m                                 Traceback (most recent call last)",
      "Input \u001b[1;32mIn [5]\u001b[0m, in \u001b[0;36m<cell line: 1>\u001b[1;34m()\u001b[0m\n\u001b[1;32m----> 1\u001b[0m obj_parent\u001b[38;5;241m=\u001b[39m\u001b[43mShape\u001b[49m(\u001b[38;5;241m10\u001b[39m)\n\u001b[0;32m      2\u001b[0m obj_parent\u001b[38;5;241m.\u001b[39marea()\n",
      "\u001b[1;31mNameError\u001b[0m: name 'Shape' is not defined"
     ]
    }
   ],
   "source": [
    "obj_parent=Shape(10)\n",
    "obj_parent.area()"
   ]
  },
  {
   "cell_type": "code",
   "execution_count": 6,
   "id": "001e7c7d",
   "metadata": {},
   "outputs": [
    {
     "ename": "NameError",
     "evalue": "name 'Square' is not defined",
     "output_type": "error",
     "traceback": [
      "\u001b[1;31m---------------------------------------------------------------------------\u001b[0m",
      "\u001b[1;31mNameError\u001b[0m                                 Traceback (most recent call last)",
      "Input \u001b[1;32mIn [6]\u001b[0m, in \u001b[0;36m<cell line: 1>\u001b[1;34m()\u001b[0m\n\u001b[1;32m----> 1\u001b[0m obj_class\u001b[38;5;241m=\u001b[39m\u001b[43mSquare\u001b[49m(\u001b[38;5;241m5\u001b[39m)\n\u001b[0;32m      2\u001b[0m obj_class\u001b[38;5;241m.\u001b[39marea()\n",
      "\u001b[1;31mNameError\u001b[0m: name 'Square' is not defined"
     ]
    }
   ],
   "source": [
    "obj_class=Square(5)\n",
    "obj_class.area()"
   ]
  },
  {
   "cell_type": "code",
   "execution_count": null,
   "id": "aeabe3fc",
   "metadata": {},
   "outputs": [],
   "source": []
  }
 ],
 "metadata": {
  "kernelspec": {
   "display_name": "Python 3 (ipykernel)",
   "language": "python",
   "name": "python3"
  },
  "language_info": {
   "codemirror_mode": {
    "name": "ipython",
    "version": 3
   },
   "file_extension": ".py",
   "mimetype": "text/x-python",
   "name": "python",
   "nbconvert_exporter": "python",
   "pygments_lexer": "ipython3",
   "version": "3.9.12"
  }
 },
 "nbformat": 4,
 "nbformat_minor": 5
}

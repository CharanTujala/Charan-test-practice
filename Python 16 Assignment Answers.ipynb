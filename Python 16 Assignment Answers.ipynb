{
 "cells": [
  {
   "cell_type": "code",
   "execution_count": null,
   "id": "efb4e09c",
   "metadata": {},
   "outputs": [],
   "source": [
    "def stutter(st):\n",
    "    st=st.lower()\n",
    "    print(st[0:2]+\"...\"+st[0:2]+\"...\"+st+\"?\")"
   ]
  },
  {
   "cell_type": "code",
   "execution_count": 2,
   "id": "d6b7a486",
   "metadata": {},
   "outputs": [
    {
     "ename": "NameError",
     "evalue": "name 'stutter' is not defined",
     "output_type": "error",
     "traceback": [
      "\u001b[1;31m---------------------------------------------------------------------------\u001b[0m",
      "\u001b[1;31mNameError\u001b[0m                                 Traceback (most recent call last)",
      "Input \u001b[1;32mIn [2]\u001b[0m, in \u001b[0;36m<cell line: 1>\u001b[1;34m()\u001b[0m\n\u001b[1;32m----> 1\u001b[0m \u001b[43mstutter\u001b[49m(\u001b[38;5;124m\"\u001b[39m\u001b[38;5;124menthusiastic\u001b[39m\u001b[38;5;124m\"\u001b[39m)\n",
      "\u001b[1;31mNameError\u001b[0m: name 'stutter' is not defined"
     ]
    }
   ],
   "source": [
    "stutter(\"enthusiastic\")\n"
   ]
  },
  {
   "cell_type": "code",
   "execution_count": 3,
   "id": "319b15f8",
   "metadata": {},
   "outputs": [
    {
     "name": "stdout",
     "output_type": "stream",
     "text": [
      "in... in... incredible?\n"
     ]
    }
   ],
   "source": [
    "def stutter(word):\n",
    "    s = word[:2]\n",
    "    return (2 * (s + '... ')) + word + '?'\n",
    "\n",
    "\n",
    "print(stutter(\"incredible\"))"
   ]
  },
  {
   "cell_type": "code",
   "execution_count": null,
   "id": "4aef8eff",
   "metadata": {},
   "outputs": [],
   "source": [
    "def radians_to_degrees(a):\n",
    "    b=22/7\n",
    "    c=180\n",
    "    print(\"radians_to_degrees\",a,\"➞\",round(((c/b)*a),1))"
   ]
  },
  {
   "cell_type": "code",
   "execution_count": 4,
   "id": "b975899a",
   "metadata": {},
   "outputs": [
    {
     "ename": "NameError",
     "evalue": "name 'radians_to_degrees' is not defined",
     "output_type": "error",
     "traceback": [
      "\u001b[1;31m---------------------------------------------------------------------------\u001b[0m",
      "\u001b[1;31mNameError\u001b[0m                                 Traceback (most recent call last)",
      "Input \u001b[1;32mIn [4]\u001b[0m, in \u001b[0;36m<cell line: 1>\u001b[1;34m()\u001b[0m\n\u001b[1;32m----> 1\u001b[0m \u001b[43mradians_to_degrees\u001b[49m(\u001b[38;5;241m1\u001b[39m)\n\u001b[0;32m      2\u001b[0m radians_to_degrees(\u001b[38;5;241m20\u001b[39m)\n\u001b[0;32m      3\u001b[0m radians_to_degrees(\u001b[38;5;241m50\u001b[39m)\n",
      "\u001b[1;31mNameError\u001b[0m: name 'radians_to_degrees' is not defined"
     ]
    }
   ],
   "source": [
    "radians_to_degrees(1)\n",
    "radians_to_degrees(20)\n",
    "radians_to_degrees(50)"
   ]
  },
  {
   "cell_type": "code",
   "execution_count": 5,
   "id": "6b3687f4",
   "metadata": {},
   "outputs": [],
   "source": [
    "def is_curzon(a):\n",
    "    b=(2**a)+1\n",
    "    c=(2*a)+1\n",
    "    if b%c==0:\n",
    "        print(\"is_curzon\",a,\"➞\",\"True\")\n",
    "        print(\"2**\",a,\"+\",\"1\",\"=\",b)\n",
    "        print(\"2*\",a,\"+\",1,\"=\",c)\n",
    "        print(b,\" is a multiple of \",c)\n",
    "    else:\n",
    "        print(\"is_curzon\",a,\"➞\",\"False\")\n",
    "        print(\"2**\",a,\"+\",\"1\",\"=\",b)\n",
    "        print(\"2*\",a,\"+\",1,\"=\",c)\n",
    "        print(b,\" is not a multiple of \",c)"
   ]
  },
  {
   "cell_type": "code",
   "execution_count": 6,
   "id": "24a98f72",
   "metadata": {},
   "outputs": [
    {
     "name": "stdout",
     "output_type": "stream",
     "text": [
      "is_curzon 5 ➞ True\n",
      "2** 5 + 1 = 33\n",
      "2* 5 + 1 = 11\n",
      "33  is a multiple of  11\n"
     ]
    }
   ],
   "source": [
    "is_curzon(5)\n"
   ]
  },
  {
   "cell_type": "code",
   "execution_count": 7,
   "id": "5e82635a",
   "metadata": {},
   "outputs": [
    {
     "name": "stdout",
     "output_type": "stream",
     "text": [
      "is_curzon 10 ➞ False\n",
      "2** 10 + 1 = 1025\n",
      "2* 10 + 1 = 21\n",
      "1025  is not a multiple of  21\n"
     ]
    }
   ],
   "source": [
    "is_curzon(10)"
   ]
  },
  {
   "cell_type": "code",
   "execution_count": 8,
   "id": "b503daee",
   "metadata": {},
   "outputs": [
    {
     "name": "stdout",
     "output_type": "stream",
     "text": [
      "is_curzon 14 ➞ True\n",
      "2** 14 + 1 = 16385\n",
      "2* 14 + 1 = 29\n",
      "16385  is a multiple of  29\n"
     ]
    }
   ],
   "source": [
    "is_curzon(14)\n"
   ]
  },
  {
   "cell_type": "code",
   "execution_count": 9,
   "id": "3bbc96b4",
   "metadata": {},
   "outputs": [],
   "source": [
    "#formulla for  area of hexagon is (3√3 s2)/ 2\n",
    "#so we directly use (3√3)/2=2.598\n",
    "def area_of_hexagon(s):\n",
    "    a=2.598\n",
    "    print(\"area_of_hexagon\",\"➞\",round(a*s**2,1))"
   ]
  },
  {
   "cell_type": "code",
   "execution_count": 10,
   "id": "30616d36",
   "metadata": {},
   "outputs": [
    {
     "name": "stdout",
     "output_type": "stream",
     "text": [
      "area_of_hexagon ➞ 2.6\n",
      "area_of_hexagon ➞ 10.4\n",
      "area_of_hexagon ➞ 23.4\n"
     ]
    }
   ],
   "source": [
    "area_of_hexagon(1)\n",
    "area_of_hexagon(2)\n",
    "area_of_hexagon(3)"
   ]
  },
  {
   "cell_type": "code",
   "execution_count": 11,
   "id": "b2413939",
   "metadata": {},
   "outputs": [],
   "source": [
    "def binary(a):\n",
    "    l=[]\n",
    "    if a==1:\n",
    "            l.append(1)\n",
    "    else:\n",
    "        while a!=1:    \n",
    "            if a%2==0:\n",
    "                l.append(0)\n",
    "                a=a/2\n",
    "            else:\n",
    "                l.append(1)\n",
    "                a=int(a/2)\n",
    "        l.append(1)   \n",
    "    \n",
    "    ints = l[::-1]\n",
    "    string_ints = [str(int) for int in ints] \n",
    "    str_of_ints = \",\". join(string_ints) \n",
    "    print(\"binary is-->\",str_of_ints)"
   ]
  },
  {
   "cell_type": "code",
   "execution_count": 12,
   "id": "4195610f",
   "metadata": {},
   "outputs": [
    {
     "name": "stdout",
     "output_type": "stream",
     "text": [
      "binary is--> 1\n",
      "binary is--> 1,0,1\n",
      "binary is--> 1,0,1,0\n",
      "binary is--> 1,0,0,0,1\n"
     ]
    }
   ],
   "source": [
    "binary(1)\n",
    "binary(5)\n",
    "binary(10)\n",
    "binary(17)"
   ]
  },
  {
   "cell_type": "code",
   "execution_count": null,
   "id": "8f27a6b6",
   "metadata": {},
   "outputs": [],
   "source": []
  }
 ],
 "metadata": {
  "kernelspec": {
   "display_name": "Python 3 (ipykernel)",
   "language": "python",
   "name": "python3"
  },
  "language_info": {
   "codemirror_mode": {
    "name": "ipython",
    "version": 3
   },
   "file_extension": ".py",
   "mimetype": "text/x-python",
   "name": "python",
   "nbconvert_exporter": "python",
   "pygments_lexer": "ipython3",
   "version": "3.9.12"
  }
 },
 "nbformat": 4,
 "nbformat_minor": 5
}

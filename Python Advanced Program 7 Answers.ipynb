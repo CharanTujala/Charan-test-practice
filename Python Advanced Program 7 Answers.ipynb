{
 "cells": [
  {
   "cell_type": "code",
   "execution_count": null,
   "id": "edc6755d",
   "metadata": {},
   "outputs": [],
   "source": [
    "Ans--The try block lets you test a block of code for errors. The except block lets you handle the error. The else block lets you execute code when there is no error\n",
    "\n",
    "Ans--Error in Python can be of two types i.e. Syntax errors and Exceptions\n",
    "\n",
    "Ans--The raise keyword is used to raise an exception. You can define what kind of error to raise, and the text to print to the user.\n",
    "\n",
    "\n",
    "Ans--"
   ]
  }
 ],
 "metadata": {
  "kernelspec": {
   "display_name": "Python 3 (ipykernel)",
   "language": "python",
   "name": "python3"
  },
  "language_info": {
   "codemirror_mode": {
    "name": "ipython",
    "version": 3
   },
   "file_extension": ".py",
   "mimetype": "text/x-python",
   "name": "python",
   "nbconvert_exporter": "python",
   "pygments_lexer": "ipython3",
   "version": "3.9.12"
  }
 },
 "nbformat": 4,
 "nbformat_minor": 5
}

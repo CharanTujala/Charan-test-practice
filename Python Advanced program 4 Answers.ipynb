{
 "cells": [
  {
   "cell_type": "code",
   "execution_count": null,
   "id": "dff4e900",
   "metadata": {},
   "outputs": [],
   "source": [
    "\"setslice\" and \"delslice\" are deprecated, if you want to do the interception you need to work with python slice objects passed to \"setitem\" and \"delitem\". If you want to intecept both slices and ordinary accesses this code works perfectly in python\n",
    "2.iadd() This function is used to assign the current value and add them. ...\n",
    "isub() This function is used to assign the current value and subtract them. ...\n",
    "imul() This function is used to assign the current value and multiply them. ...\n",
    "itruediv() ...\n",
    "imod()\n",
    "\n",
    "\n",
    "Operator overloading is mostly useful when you're making a new class that falls into an existing \"Abstract Base Class\" (ABC) -- indeed, many of the ABCs in standard library module collections rely on the presence of certain special methods (and special methods, one with names starting and ending with double underscores ..\n",
    "\n"
   ]
  }
 ],
 "metadata": {
  "kernelspec": {
   "display_name": "Python 3 (ipykernel)",
   "language": "python",
   "name": "python3"
  },
  "language_info": {
   "codemirror_mode": {
    "name": "ipython",
    "version": 3
   },
   "file_extension": ".py",
   "mimetype": "text/x-python",
   "name": "python",
   "nbconvert_exporter": "python",
   "pygments_lexer": "ipython3",
   "version": "3.9.12"
  }
 },
 "nbformat": 4,
 "nbformat_minor": 5
}

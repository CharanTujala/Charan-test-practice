{
 "cells": [
  {
   "cell_type": "code",
   "execution_count": null,
   "id": "d8ce8dc9",
   "metadata": {},
   "outputs": [],
   "source": [
    "Ans--Base class for all exceptions that occur outside the Python environment. Raised when an input/ output operation fails, such as the print statement or the open() function when trying to open a file that does not exist. Raised for operating system-related errors. Raised when there is an error in Python syntax\n",
    "\n",
    "Ans--When an exception occurred, if you don't handle it, the program terminates abruptly and the code past the line that caused the exception will not get executed.\n",
    "\n",
    "Ans--n Python, we catch exceptions and handle them using try and except code blocks. The try clause contains the code that can raise an exception, while the except clause contains the code lines that handle the exception.\n",
    "\n",
    "Ans--n python there are three types of errors; syntax errors, logic errors and exceptions\n",
    "\n",
    "Ans--"
   ]
  }
 ],
 "metadata": {
  "kernelspec": {
   "display_name": "Python 3 (ipykernel)",
   "language": "python",
   "name": "python3"
  },
  "language_info": {
   "codemirror_mode": {
    "name": "ipython",
    "version": 3
   },
   "file_extension": ".py",
   "mimetype": "text/x-python",
   "name": "python",
   "nbconvert_exporter": "python",
   "pygments_lexer": "ipython3",
   "version": "3.9.12"
  }
 },
 "nbformat": 4,
 "nbformat_minor": 5
}

{
 "cells": [
  {
   "cell_type": "code",
   "execution_count": null,
   "id": "33f3d11a",
   "metadata": {},
   "outputs": [],
   "source": [
    "def double_char(st):\n",
    "    list=[]\n",
    "    for i in range(0,len(st)):\n",
    "        list.append(st[i])\n",
    "        list.append(st[i])\n",
    "    string= [str(int) for int in list] \n",
    "    strr= \"\". join(string)\n",
    "    return strr"
   ]
  },
  {
   "cell_type": "code",
   "execution_count": 1,
   "id": "e7a82ff2",
   "metadata": {},
   "outputs": [
    {
     "ename": "NameError",
     "evalue": "name 'double_char' is not defined",
     "output_type": "error",
     "traceback": [
      "\u001b[1;31m---------------------------------------------------------------------------\u001b[0m",
      "\u001b[1;31mNameError\u001b[0m                                 Traceback (most recent call last)",
      "Input \u001b[1;32mIn [1]\u001b[0m, in \u001b[0;36m<cell line: 1>\u001b[1;34m()\u001b[0m\n\u001b[1;32m----> 1\u001b[0m \u001b[43mdouble_char\u001b[49m(\u001b[38;5;124m\"\u001b[39m\u001b[38;5;124mString\u001b[39m\u001b[38;5;124m\"\u001b[39m)\n",
      "\u001b[1;31mNameError\u001b[0m: name 'double_char' is not defined"
     ]
    }
   ],
   "source": [
    "double_char(\"String\")\n",
    "\n"
   ]
  },
  {
   "cell_type": "code",
   "execution_count": null,
   "id": "55db6c99",
   "metadata": {},
   "outputs": [],
   "source": []
  }
 ],
 "metadata": {
  "kernelspec": {
   "display_name": "Python 3 (ipykernel)",
   "language": "python",
   "name": "python3"
  },
  "language_info": {
   "codemirror_mode": {
    "name": "ipython",
    "version": 3
   },
   "file_extension": ".py",
   "mimetype": "text/x-python",
   "name": "python",
   "nbconvert_exporter": "python",
   "pygments_lexer": "ipython3",
   "version": "3.9.12"
  }
 },
 "nbformat": 4,
 "nbformat_minor": 5
}

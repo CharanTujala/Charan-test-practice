{
 "cells": [
  {
   "cell_type": "code",
   "execution_count": null,
   "id": "d27a17d5",
   "metadata": {},
   "outputs": [],
   "source": [
    "def is_symmetrical(a):\n",
    "    res = [int(x) for x in str(a)]\n",
    "    while res==res[::-1]:\n",
    "        return True\n",
    "        break \n",
    "    while res!=res[::-1]:\n",
    "        return False\n",
    "        break "
   ]
  },
  {
   "cell_type": "code",
   "execution_count": 3,
   "id": "e26e74d4",
   "metadata": {},
   "outputs": [
    {
     "ename": "NameError",
     "evalue": "name 'is_symmetrical' is not defined",
     "output_type": "error",
     "traceback": [
      "\u001b[1;31m---------------------------------------------------------------------------\u001b[0m",
      "\u001b[1;31mNameError\u001b[0m                                 Traceback (most recent call last)",
      "Input \u001b[1;32mIn [3]\u001b[0m, in \u001b[0;36m<cell line: 1>\u001b[1;34m()\u001b[0m\n\u001b[1;32m----> 1\u001b[0m \u001b[43mis_symmetrical\u001b[49m(\u001b[38;5;241m7227\u001b[39m)\n",
      "\u001b[1;31mNameError\u001b[0m: name 'is_symmetrical' is not defined"
     ]
    }
   ],
   "source": [
    "is_symmetrical(7227)\n"
   ]
  },
  {
   "cell_type": "code",
   "execution_count": null,
   "id": "479b6fac",
   "metadata": {},
   "outputs": [],
   "source": []
  }
 ],
 "metadata": {
  "kernelspec": {
   "display_name": "Python 3 (ipykernel)",
   "language": "python",
   "name": "python3"
  },
  "language_info": {
   "codemirror_mode": {
    "name": "ipython",
    "version": 3
   },
   "file_extension": ".py",
   "mimetype": "text/x-python",
   "name": "python",
   "nbconvert_exporter": "python",
   "pygments_lexer": "ipython3",
   "version": "3.9.12"
  }
 },
 "nbformat": 4,
 "nbformat_minor": 5
}

{
 "cells": [
  {
   "cell_type": "code",
   "execution_count": null,
   "id": "d0cb98f6",
   "metadata": {},
   "outputs": [],
   "source": [
    "def evenly_divisible(a,b,c):\n",
    "    l=[]\n",
    "    for i in range(a,b+1):\n",
    "        if i%c==0:\n",
    "            l.append(i)\n",
    "    return sum(l)    "
   ]
  },
  {
   "cell_type": "code",
   "execution_count": 1,
   "id": "09161f49",
   "metadata": {},
   "outputs": [
    {
     "ename": "NameError",
     "evalue": "name 'evenly_divisible' is not defined",
     "output_type": "error",
     "traceback": [
      "\u001b[1;31m---------------------------------------------------------------------------\u001b[0m",
      "\u001b[1;31mNameError\u001b[0m                                 Traceback (most recent call last)",
      "Input \u001b[1;32mIn [1]\u001b[0m, in \u001b[0;36m<cell line: 1>\u001b[1;34m()\u001b[0m\n\u001b[1;32m----> 1\u001b[0m \u001b[43mevenly_divisible\u001b[49m(\u001b[38;5;241m1\u001b[39m,\u001b[38;5;241m10\u001b[39m,\u001b[38;5;241m20\u001b[39m)\n",
      "\u001b[1;31mNameError\u001b[0m: name 'evenly_divisible' is not defined"
     ]
    }
   ],
   "source": [
    "evenly_divisible(1,10,20)\n"
   ]
  },
  {
   "cell_type": "code",
   "execution_count": 2,
   "id": "e46941f8",
   "metadata": {},
   "outputs": [
    {
     "ename": "NameError",
     "evalue": "name 'evenly_divisible' is not defined",
     "output_type": "error",
     "traceback": [
      "\u001b[1;31m---------------------------------------------------------------------------\u001b[0m",
      "\u001b[1;31mNameError\u001b[0m                                 Traceback (most recent call last)",
      "Input \u001b[1;32mIn [2]\u001b[0m, in \u001b[0;36m<cell line: 1>\u001b[1;34m()\u001b[0m\n\u001b[1;32m----> 1\u001b[0m \u001b[43mevenly_divisible\u001b[49m(\u001b[38;5;241m1\u001b[39m,\u001b[38;5;241m10\u001b[39m,\u001b[38;5;241m2\u001b[39m)\n",
      "\u001b[1;31mNameError\u001b[0m: name 'evenly_divisible' is not defined"
     ]
    }
   ],
   "source": [
    "evenly_divisible(1,10,2)\n"
   ]
  },
  {
   "cell_type": "code",
   "execution_count": 3,
   "id": "1bd7fb07",
   "metadata": {},
   "outputs": [
    {
     "ename": "NameError",
     "evalue": "name 'evenly_divisible' is not defined",
     "output_type": "error",
     "traceback": [
      "\u001b[1;31m---------------------------------------------------------------------------\u001b[0m",
      "\u001b[1;31mNameError\u001b[0m                                 Traceback (most recent call last)",
      "Input \u001b[1;32mIn [3]\u001b[0m, in \u001b[0;36m<cell line: 1>\u001b[1;34m()\u001b[0m\n\u001b[1;32m----> 1\u001b[0m \u001b[43mevenly_divisible\u001b[49m(\u001b[38;5;241m1\u001b[39m,\u001b[38;5;241m10\u001b[39m,\u001b[38;5;241m3\u001b[39m)\n",
      "\u001b[1;31mNameError\u001b[0m: name 'evenly_divisible' is not defined"
     ]
    }
   ],
   "source": [
    "evenly_divisible(1,10,3)"
   ]
  },
  {
   "cell_type": "code",
   "execution_count": 4,
   "id": "f66c5b82",
   "metadata": {},
   "outputs": [
    {
     "name": "stdout",
     "output_type": "stream",
     "text": [
      "True\n",
      "False\n",
      "True\n"
     ]
    }
   ],
   "source": [
    "# definition  \n",
    "# inequality function \n",
    "\n",
    "def check(s):\n",
    "    regex=eval(s)\n",
    "    if regex:\n",
    "        return True\n",
    "    else:\n",
    "        return False \n",
    "\n",
    "# printing result \n",
    "\n",
    "print(check(\"3 < 7 < 11\"))\n",
    "\n",
    "print(check(\"13 > 44 > 33 > 1\"))\n",
    "\n",
    "print(check(\"1 < 2 < 6< 9 > 3\"))"
   ]
  },
  {
   "cell_type": "code",
   "execution_count": null,
   "id": "dafff9aa",
   "metadata": {},
   "outputs": [],
   "source": [
    "def replace_vowels(a,b):\n",
    "    l=[\"a\",\"e\",\"i\",\"o\",\"u\"]\n",
    "    a=a.lower()\n",
    "    for i in l:\n",
    "        for j in a:\n",
    "            if i==j:\n",
    "                a=a.replace(i,b)\n",
    "    return a      "
   ]
  },
  {
   "cell_type": "code",
   "execution_count": 5,
   "id": "3982d48e",
   "metadata": {},
   "outputs": [
    {
     "ename": "NameError",
     "evalue": "name 'replace_vowels' is not defined",
     "output_type": "error",
     "traceback": [
      "\u001b[1;31m---------------------------------------------------------------------------\u001b[0m",
      "\u001b[1;31mNameError\u001b[0m                                 Traceback (most recent call last)",
      "Input \u001b[1;32mIn [5]\u001b[0m, in \u001b[0;36m<cell line: 1>\u001b[1;34m()\u001b[0m\n\u001b[1;32m----> 1\u001b[0m \u001b[43mreplace_vowels\u001b[49m(\u001b[38;5;124m\"\u001b[39m\u001b[38;5;124mminnie mouse\u001b[39m\u001b[38;5;124m\"\u001b[39m, \u001b[38;5;124m\"\u001b[39m\u001b[38;5;124m?\u001b[39m\u001b[38;5;124m\"\u001b[39m)\n",
      "\u001b[1;31mNameError\u001b[0m: name 'replace_vowels' is not defined"
     ]
    }
   ],
   "source": [
    "replace_vowels(\"minnie mouse\", \"?\")"
   ]
  },
  {
   "cell_type": "code",
   "execution_count": 6,
   "id": "e19bfaa2",
   "metadata": {},
   "outputs": [
    {
     "ename": "NameError",
     "evalue": "name 'replace_vowels' is not defined",
     "output_type": "error",
     "traceback": [
      "\u001b[1;31m---------------------------------------------------------------------------\u001b[0m",
      "\u001b[1;31mNameError\u001b[0m                                 Traceback (most recent call last)",
      "Input \u001b[1;32mIn [6]\u001b[0m, in \u001b[0;36m<cell line: 1>\u001b[1;34m()\u001b[0m\n\u001b[1;32m----> 1\u001b[0m \u001b[43mreplace_vowels\u001b[49m(\u001b[38;5;124m\"\u001b[39m\u001b[38;5;124mthe aardvark\u001b[39m\u001b[38;5;124m\"\u001b[39m, \u001b[38;5;124m\"\u001b[39m\u001b[38;5;124m#\u001b[39m\u001b[38;5;124m\"\u001b[39m)\n",
      "\u001b[1;31mNameError\u001b[0m: name 'replace_vowels' is not defined"
     ]
    }
   ],
   "source": [
    "replace_vowels(\"the aardvark\", \"#\")\n"
   ]
  },
  {
   "cell_type": "code",
   "execution_count": null,
   "id": "de810106",
   "metadata": {},
   "outputs": [],
   "source": [
    "def Hamming_distance(a,b):\n",
    "    a=a.lower()\n",
    "    b=b.lower()\n",
    "    count=0\n",
    "    for i in range(0,len(a)):\n",
    "        if a[i]!=b[i]:\n",
    "            count=count+1\n",
    "        else:\n",
    "            pass\n",
    "    return count    "
   ]
  },
  {
   "cell_type": "code",
   "execution_count": 7,
   "id": "6552f5a1",
   "metadata": {},
   "outputs": [
    {
     "ename": "NameError",
     "evalue": "name 'Hamming_distance' is not defined",
     "output_type": "error",
     "traceback": [
      "\u001b[1;31m---------------------------------------------------------------------------\u001b[0m",
      "\u001b[1;31mNameError\u001b[0m                                 Traceback (most recent call last)",
      "Input \u001b[1;32mIn [7]\u001b[0m, in \u001b[0;36m<cell line: 1>\u001b[1;34m()\u001b[0m\n\u001b[1;32m----> 1\u001b[0m \u001b[43mHamming_distance\u001b[49m(\u001b[38;5;124m\"\u001b[39m\u001b[38;5;124mabcde\u001b[39m\u001b[38;5;124m\"\u001b[39m, \u001b[38;5;124m\"\u001b[39m\u001b[38;5;124mbcdef\u001b[39m\u001b[38;5;124m\"\u001b[39m)\n",
      "\u001b[1;31mNameError\u001b[0m: name 'Hamming_distance' is not defined"
     ]
    }
   ],
   "source": [
    "Hamming_distance(\"abcde\", \"bcdef\") \n"
   ]
  },
  {
   "cell_type": "code",
   "execution_count": 8,
   "id": "6501d7bd",
   "metadata": {},
   "outputs": [
    {
     "ename": "NameError",
     "evalue": "name 'Hamming_distance' is not defined",
     "output_type": "error",
     "traceback": [
      "\u001b[1;31m---------------------------------------------------------------------------\u001b[0m",
      "\u001b[1;31mNameError\u001b[0m                                 Traceback (most recent call last)",
      "Input \u001b[1;32mIn [8]\u001b[0m, in \u001b[0;36m<cell line: 1>\u001b[1;34m()\u001b[0m\n\u001b[1;32m----> 1\u001b[0m \u001b[43mHamming_distance\u001b[49m(\u001b[38;5;124m\"\u001b[39m\u001b[38;5;124mabcde\u001b[39m\u001b[38;5;124m\"\u001b[39m, \u001b[38;5;124m\"\u001b[39m\u001b[38;5;124mabcde\u001b[39m\u001b[38;5;124m\"\u001b[39m)\n",
      "\u001b[1;31mNameError\u001b[0m: name 'Hamming_distance' is not defined"
     ]
    }
   ],
   "source": [
    "Hamming_distance(\"abcde\", \"abcde\")\n"
   ]
  },
  {
   "cell_type": "code",
   "execution_count": 9,
   "id": "067ff155",
   "metadata": {},
   "outputs": [
    {
     "ename": "NameError",
     "evalue": "name 'Hamming_distance' is not defined",
     "output_type": "error",
     "traceback": [
      "\u001b[1;31m---------------------------------------------------------------------------\u001b[0m",
      "\u001b[1;31mNameError\u001b[0m                                 Traceback (most recent call last)",
      "Input \u001b[1;32mIn [9]\u001b[0m, in \u001b[0;36m<cell line: 1>\u001b[1;34m()\u001b[0m\n\u001b[1;32m----> 1\u001b[0m \u001b[43mHamming_distance\u001b[49m(\u001b[38;5;124m\"\u001b[39m\u001b[38;5;124mstrong\u001b[39m\u001b[38;5;124m\"\u001b[39m, \u001b[38;5;124m\"\u001b[39m\u001b[38;5;124mstrung\u001b[39m\u001b[38;5;124m\"\u001b[39m)\n",
      "\u001b[1;31mNameError\u001b[0m: name 'Hamming_distance' is not defined"
     ]
    }
   ],
   "source": [
    "Hamming_distance(\"strong\", \"strung\") \n"
   ]
  },
  {
   "cell_type": "code",
   "execution_count": null,
   "id": "c2281cac",
   "metadata": {},
   "outputs": [],
   "source": []
  }
 ],
 "metadata": {
  "kernelspec": {
   "display_name": "Python 3 (ipykernel)",
   "language": "python",
   "name": "python3"
  },
  "language_info": {
   "codemirror_mode": {
    "name": "ipython",
    "version": 3
   },
   "file_extension": ".py",
   "mimetype": "text/x-python",
   "name": "python",
   "nbconvert_exporter": "python",
   "pygments_lexer": "ipython3",
   "version": "3.9.12"
  }
 },
 "nbformat": 4,
 "nbformat_minor": 5
}

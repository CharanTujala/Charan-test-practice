{
 "cells": [
  {
   "cell_type": "code",
   "execution_count": 1,
   "id": "3faa1b5b",
   "metadata": {},
   "outputs": [
    {
     "name": "stdout",
     "output_type": "stream",
     "text": [
      "user input--->175\n",
      "175 ---->This number is Disarium number\n"
     ]
    }
   ],
   "source": [
    "a=input(\"user input--->\")\n",
    "sum=0\n",
    "for i in range(1,len(a)+1):\n",
    "    sum=sum+(int(a[i-1])**i)\n",
    "\n",
    "if a==str(sum):\n",
    "    print(a,\"---->This number is Disarium number\")\n",
    "else:\n",
    "    print(a,\"----->This number is not Disarium Number\")"
   ]
  },
  {
   "cell_type": "code",
   "execution_count": 2,
   "id": "0076a3b5",
   "metadata": {},
   "outputs": [
    {
     "name": "stdout",
     "output_type": "stream",
     "text": [
      "1 ---->This number is Disarium number\n",
      "2 ---->This number is Disarium number\n",
      "3 ---->This number is Disarium number\n",
      "4 ---->This number is Disarium number\n",
      "5 ---->This number is Disarium number\n",
      "6 ---->This number is Disarium number\n",
      "7 ---->This number is Disarium number\n",
      "8 ---->This number is Disarium number\n",
      "9 ---->This number is Disarium number\n",
      "89 ---->This number is Disarium number\n"
     ]
    }
   ],
   "source": [
    "for a in range(1,101):\n",
    "    a=str(a)\n",
    "    sum=0\n",
    "    for i in range(1,len(a)+1):\n",
    "        sum=sum+(int(a[i-1])**i)\n",
    "    if a==str(sum):\n",
    "        print(a,\"---->This number is Disarium number\")"
   ]
  },
  {
   "cell_type": "code",
   "execution_count": 4,
   "id": "4c7c1c24",
   "metadata": {},
   "outputs": [
    {
     "name": "stdout",
     "output_type": "stream",
     "text": [
      "Enter the number79\n",
      "Is Happy number: 79 True\n"
     ]
    }
   ],
   "source": [
    "class Solution(object):\n",
    "    def isHappy(self, n):\n",
    "        \"\"\"\n",
    "        :type n: int\n",
    "        :rtype: bool\n",
    "       \"\"\"\n",
    "        return self.solve(n,{})\n",
    "    def solve(self,n,visited):\n",
    "        if n == 1:\n",
    "            return True\n",
    "        if n in visited:\n",
    "            return False\n",
    "        visited[n]= 1\n",
    "        n = str(n)\n",
    "        l = list(n)\n",
    "        l = list(map(int,l))\n",
    "        temp = 0\n",
    "        for i in l:\n",
    "            temp += (i**2)\n",
    "        return self.solve(temp,visited)\n",
    "    \n",
    "        \n",
    "ob1 = Solution()\n",
    "num=int(input(\"Enter the number\"))\n",
    "op = ob1.isHappy(num)\n",
    "print(\"Is Happy number:\",num,op)  "
   ]
  },
  {
   "cell_type": "code",
   "execution_count": 5,
   "id": "82767b66",
   "metadata": {},
   "outputs": [
    {
     "name": "stdout",
     "output_type": "stream",
     "text": [
      "1 -->is HAPPY number\n",
      "7 -->is HAPPY number\n",
      "10 -->is HAPPY number\n",
      "13 -->is HAPPY number\n",
      "19 -->is HAPPY number\n",
      "23 -->is HAPPY number\n",
      "28 -->is HAPPY number\n",
      "31 -->is HAPPY number\n",
      "32 -->is HAPPY number\n",
      "44 -->is HAPPY number\n",
      "49 -->is HAPPY number\n",
      "68 -->is HAPPY number\n",
      "70 -->is HAPPY number\n",
      "79 -->is HAPPY number\n",
      "82 -->is HAPPY number\n",
      "86 -->is HAPPY number\n",
      "91 -->is HAPPY number\n",
      "94 -->is HAPPY number\n",
      "97 -->is HAPPY number\n",
      "100 -->is HAPPY number\n"
     ]
    }
   ],
   "source": [
    "# Here i create odject from previous created class\n",
    "\n",
    "for i in range(1,101):\n",
    "    ob2 = Solution()\n",
    "    op = ob2.isHappy(i)\n",
    "    if op==True:\n",
    "        print(i,\"-->is HAPPY number\")"
   ]
  },
  {
   "cell_type": "code",
   "execution_count": 6,
   "id": "a446199c",
   "metadata": {},
   "outputs": [
    {
     "name": "stdout",
     "output_type": "stream",
     "text": [
      "Enter the number--->378\n",
      "Given number  378  is Harshad number \n"
     ]
    }
   ],
   "source": [
    "a=input(\"Enter the number--->\")\n",
    "sum=0\n",
    "for i in range (0,len(a)):\n",
    "    sum=sum+int(a[i])\n",
    "\n",
    "if int(a)%sum==0:\n",
    "    print(\"Given number \",a,\" is Harshad number \")\n",
    "else:\n",
    "    print(a,\" is not a Harshad number\")\n"
   ]
  },
  {
   "cell_type": "code",
   "execution_count": 7,
   "id": "fa625d69",
   "metadata": {},
   "outputs": [
    {
     "name": "stdout",
     "output_type": "stream",
     "text": [
      "Pronic number is  2  and two consecutive numbers are 2 * 1 = 2\n",
      "Pronic number is  6  and two consecutive numbers are 3 * 2 = 6\n",
      "Pronic number is  12  and two consecutive numbers are 4 * 3 = 12\n",
      "Pronic number is  20  and two consecutive numbers are 5 * 4 = 20\n",
      "Pronic number is  30  and two consecutive numbers are 6 * 5 = 30\n",
      "Pronic number is  42  and two consecutive numbers are 7 * 6 = 42\n",
      "Pronic number is  56  and two consecutive numbers are 8 * 7 = 56\n",
      "Pronic number is  72  and two consecutive numbers are 9 * 8 = 72\n",
      "Pronic number is  90  and two consecutive numbers are 10 * 9 = 90\n"
     ]
    }
   ],
   "source": [
    "for a in range(0,101):\n",
    "    list=[1,2,3,4,5,6,7,8,9,10]\n",
    "    for i in list:\n",
    "        for j in list:\n",
    "            if a==(i*j) and i-j==1 :\n",
    "                print(\"Pronic number is \",a,\" and two consecutive numbers are\",i,\"*\",j,\"=\",a)\n",
    "    "
   ]
  },
  {
   "cell_type": "code",
   "execution_count": null,
   "id": "19c7a812",
   "metadata": {},
   "outputs": [],
   "source": []
  }
 ],
 "metadata": {
  "kernelspec": {
   "display_name": "Python 3 (ipykernel)",
   "language": "python",
   "name": "python3"
  },
  "language_info": {
   "codemirror_mode": {
    "name": "ipython",
    "version": 3
   },
   "file_extension": ".py",
   "mimetype": "text/x-python",
   "name": "python",
   "nbconvert_exporter": "python",
   "pygments_lexer": "ipython3",
   "version": "3.9.12"
  }
 },
 "nbformat": 4,
 "nbformat_minor": 5
}

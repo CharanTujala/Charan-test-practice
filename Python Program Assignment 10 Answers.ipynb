{
 "cells": [
  {
   "cell_type": "code",
   "execution_count": 1,
   "id": "30d9f896",
   "metadata": {},
   "outputs": [],
   "source": [
    "1-Ans-list=[1,2,3,44,5,66,2]\n"
   ]
  },
  {
   "cell_type": "code",
   "execution_count": 2,
   "id": "e8b5159b",
   "metadata": {},
   "outputs": [
    {
     "name": "stdout",
     "output_type": "stream",
     "text": [
      "sum of the list is ---> 123\n"
     ]
    }
   ],
   "source": [
    "a=0\n",
    "for i in list:\n",
    "    a=a+i\n",
    "\n",
    "print(\"sum of the list is --->\",a)"
   ]
  },
  {
   "cell_type": "code",
   "execution_count": 3,
   "id": "84242db0",
   "metadata": {},
   "outputs": [
    {
     "data": {
      "text/plain": [
       "123"
      ]
     },
     "execution_count": 3,
     "metadata": {},
     "output_type": "execute_result"
    }
   ],
   "source": [
    "sum(list)\n"
   ]
  },
  {
   "cell_type": "code",
   "execution_count": 4,
   "id": "f921f204",
   "metadata": {},
   "outputs": [
    {
     "data": {
      "text/plain": [
       "[1, 2, 3, 44, 5, 66, 2]"
      ]
     },
     "execution_count": 4,
     "metadata": {},
     "output_type": "execute_result"
    }
   ],
   "source": [
    "2-Ans-list\n"
   ]
  },
  {
   "cell_type": "code",
   "execution_count": 5,
   "id": "ceb552f8",
   "metadata": {},
   "outputs": [
    {
     "name": "stdout",
     "output_type": "stream",
     "text": [
      "multiplication of list is--> 174240\n"
     ]
    }
   ],
   "source": [
    "mul=1\n",
    "for i in list:\n",
    "    mul=mul*i\n",
    "\n",
    "print(\"multiplication of list is-->\",mul)"
   ]
  },
  {
   "cell_type": "code",
   "execution_count": 6,
   "id": "2a94ed2b",
   "metadata": {},
   "outputs": [
    {
     "data": {
      "text/plain": [
       "[1, 2, 3, 44, 5, 66, 2]"
      ]
     },
     "execution_count": 6,
     "metadata": {},
     "output_type": "execute_result"
    }
   ],
   "source": [
    "list\n"
   ]
  },
  {
   "cell_type": "code",
   "execution_count": 7,
   "id": "b52e5e98",
   "metadata": {},
   "outputs": [],
   "source": [
    "3-Ans-list.sort()\n"
   ]
  },
  {
   "cell_type": "code",
   "execution_count": 8,
   "id": "d0ba2fc3",
   "metadata": {},
   "outputs": [
    {
     "name": "stdout",
     "output_type": "stream",
     "text": [
      "Smallest number insude the list is ----> 1\n"
     ]
    }
   ],
   "source": [
    "print(\"Smallest number insude the list is ---->\",list[0])\n"
   ]
  },
  {
   "cell_type": "code",
   "execution_count": 9,
   "id": "d4fa2f7e",
   "metadata": {},
   "outputs": [],
   "source": [
    "4-Ans-list=[1, 2, 3, 44, 5, 66, 2]\n"
   ]
  },
  {
   "cell_type": "code",
   "execution_count": null,
   "id": "ed1e03d6",
   "metadata": {},
   "outputs": [],
   "source": [
    "list.sort()\n"
   ]
  },
  {
   "cell_type": "code",
   "execution_count": 10,
   "id": "3ad1197f",
   "metadata": {},
   "outputs": [
    {
     "name": "stdout",
     "output_type": "stream",
     "text": [
      "Max number inside the list is---> 2\n"
     ]
    }
   ],
   "source": [
    "print(\"Max number inside the list is--->\",list[len(list)-1])\n"
   ]
  },
  {
   "cell_type": "code",
   "execution_count": null,
   "id": "b4bc4f37",
   "metadata": {},
   "outputs": [],
   "source": [
    "5-Ans-list=[1, 2, 3, 44, 5, 66, 2]\n",
    "\n"
   ]
  },
  {
   "cell_type": "code",
   "execution_count": null,
   "id": "545fba39",
   "metadata": {},
   "outputs": [],
   "source": [
    "list.sort()\n"
   ]
  },
  {
   "cell_type": "code",
   "execution_count": 11,
   "id": "284dedbb",
   "metadata": {},
   "outputs": [
    {
     "name": "stdout",
     "output_type": "stream",
     "text": [
      "Second largest number inside the list is---> 66\n"
     ]
    }
   ],
   "source": [
    "print(\"Second largest number inside the list is--->\",list[len(list)-2])\n"
   ]
  },
  {
   "cell_type": "code",
   "execution_count": null,
   "id": "e61e73f3",
   "metadata": {},
   "outputs": [],
   "source": [
    "6-Ans-def n_large(list,n):\n",
    "    \"\"\"\n",
    "    list=Input list\n",
    "    n=Nth highest number  \n",
    "    \"\"\"\n",
    "    list.sort()\n",
    "    list.reverse()\n",
    "    print(\"First \",n,\" largest element of the list are\")\n",
    "    for i in range(0,n):\n",
    "        print(list[i])"
   ]
  },
  {
   "cell_type": "code",
   "execution_count": 12,
   "id": "ecf866c8",
   "metadata": {},
   "outputs": [
    {
     "ename": "NameError",
     "evalue": "name 'n_large' is not defined",
     "output_type": "error",
     "traceback": [
      "\u001b[1;31m---------------------------------------------------------------------------\u001b[0m",
      "\u001b[1;31mNameError\u001b[0m                                 Traceback (most recent call last)",
      "Input \u001b[1;32mIn [12]\u001b[0m, in \u001b[0;36m<cell line: 1>\u001b[1;34m()\u001b[0m\n\u001b[1;32m----> 1\u001b[0m \u001b[43mn_large\u001b[49m([\u001b[38;5;241m55\u001b[39m,\u001b[38;5;241m44\u001b[39m,\u001b[38;5;241m66\u001b[39m,\u001b[38;5;241m22\u001b[39m,\u001b[38;5;241m333\u001b[39m,\u001b[38;5;241m15\u001b[39m,\u001b[38;5;241m4\u001b[39m,\u001b[38;5;241m2\u001b[39m,\u001b[38;5;241m3\u001b[39m,\u001b[38;5;241m4\u001b[39m,\u001b[38;5;241m56\u001b[39m,\u001b[38;5;241m53222\u001b[39m,\u001b[38;5;241m45452\u001b[39m],\u001b[38;5;241m3\u001b[39m)\n",
      "\u001b[1;31mNameError\u001b[0m: name 'n_large' is not defined"
     ]
    }
   ],
   "source": [
    "n_large([55,44,66,22,333,15,4,2,3,4,56,53222,45452],3)\n"
   ]
  },
  {
   "cell_type": "code",
   "execution_count": 13,
   "id": "40d4c962",
   "metadata": {},
   "outputs": [
    {
     "name": "stdout",
     "output_type": "stream",
     "text": [
      "Random number list is : [5, 2, 5, 8, 20, 45, 7]\n"
     ]
    }
   ],
   "source": [
    "7-Ans-# Python3 code to demonstrate\n",
    "# to generate random number list\n",
    "# using list comprehension + randrange()\n",
    "import random\n",
    "\n",
    "# using list comprehension + randrange()\n",
    "# to generate random number list\n",
    "res = [random.randrange(1, 50, 1) for i in range(7)]\n",
    "\n",
    "# printing result\n",
    "print (\"Random number list is : \" + str(res))"
   ]
  },
  {
   "cell_type": "code",
   "execution_count": 14,
   "id": "5f7be795",
   "metadata": {},
   "outputs": [
    {
     "name": "stdout",
     "output_type": "stream",
     "text": [
      "Even Number inside list res are-->\n",
      "2\n",
      "8\n",
      "20\n"
     ]
    }
   ],
   "source": [
    "print(\"Even Number inside list res are-->\")\n",
    "for i in res:\n",
    "    if i%2==0:\n",
    "        print(i)"
   ]
  },
  {
   "cell_type": "code",
   "execution_count": 15,
   "id": "1cba5970",
   "metadata": {},
   "outputs": [
    {
     "name": "stdout",
     "output_type": "stream",
     "text": [
      "Random number list is : [25, 13, 9, 36, 48, 45, 26, 39, 3, 38]\n"
     ]
    }
   ],
   "source": [
    "8-Ans--res = [random.randrange(1, 50, 1) for i in range(10)]\n",
    "\n",
    "# printing result\n",
    "print (\"Random number list is : \" + str(res))"
   ]
  },
  {
   "cell_type": "code",
   "execution_count": 16,
   "id": "b6342b90",
   "metadata": {},
   "outputs": [
    {
     "name": "stdout",
     "output_type": "stream",
     "text": [
      "Odd Number inside list res are-->\n",
      "25\n",
      "13\n",
      "9\n",
      "45\n",
      "39\n",
      "3\n"
     ]
    }
   ],
   "source": [
    "print(\"Odd Number inside list res are-->\")\n",
    "for i in res:\n",
    "    if i%2!=0:\n",
    "        print(i)"
   ]
  },
  {
   "cell_type": "code",
   "execution_count": null,
   "id": "ff975d8b",
   "metadata": {},
   "outputs": [],
   "source": [
    "9-Ans-#this list consist empty list\n",
    "list=[1,22,33,[],[12,2,3],44,5,6,(5,2,3),[]]"
   ]
  },
  {
   "cell_type": "code",
   "execution_count": null,
   "id": "c0ae05b7",
   "metadata": {},
   "outputs": [],
   "source": [
    "for i in range(0,len(list)-1):\n",
    "    if list[i]==[]:\n",
    "        list.pop(i)"
   ]
  },
  {
   "cell_type": "code",
   "execution_count": 17,
   "id": "9cd29e2f",
   "metadata": {},
   "outputs": [
    {
     "name": "stdout",
     "output_type": "stream",
     "text": [
      "this list does not contain empty list\n"
     ]
    },
    {
     "data": {
      "text/plain": [
       "[1, 2, 3, 44, 5, 66, 2]"
      ]
     },
     "execution_count": 17,
     "metadata": {},
     "output_type": "execute_result"
    }
   ],
   "source": [
    "print(\"this list does not contain empty list\")\n",
    "list"
   ]
  },
  {
   "cell_type": "code",
   "execution_count": 18,
   "id": "6abc026a",
   "metadata": {},
   "outputs": [
    {
     "name": "stdout",
     "output_type": "stream",
     "text": [
      "Random number list is : [39, 98, 45, 88, 87, 60, 29, 33, 5, 15, 78, 98, 95, 4, 98, 19, 69, 73, 98, 47]\n"
     ]
    }
   ],
   "source": [
    "10-Ans-list_original= [random.randrange(1,100) for i in range(20)]\n",
    "print (\"Random number list is : \" + str(list_original))"
   ]
  },
  {
   "cell_type": "code",
   "execution_count": null,
   "id": "73fcd7a2",
   "metadata": {},
   "outputs": [],
   "source": [
    "list_clone=[]\n",
    "for i in range(0,len(list_original)):\n",
    "    list_clone.insert(i,list_original[i])"
   ]
  },
  {
   "cell_type": "code",
   "execution_count": 20,
   "id": "638006e0",
   "metadata": {},
   "outputs": [
    {
     "ename": "NameError",
     "evalue": "name 'list_clone' is not defined",
     "output_type": "error",
     "traceback": [
      "\u001b[1;31m---------------------------------------------------------------------------\u001b[0m",
      "\u001b[1;31mNameError\u001b[0m                                 Traceback (most recent call last)",
      "Input \u001b[1;32mIn [20]\u001b[0m, in \u001b[0;36m<cell line: 1>\u001b[1;34m()\u001b[0m\n\u001b[1;32m----> 1\u001b[0m \u001b[38;5;28mprint\u001b[39m(\u001b[38;5;124m\"\u001b[39m\u001b[38;5;124mClone list is -->\u001b[39m\u001b[38;5;130;01m\\n\u001b[39;00m\u001b[38;5;124m\"\u001b[39m,\u001b[43mlist_clone\u001b[49m)\n",
      "\u001b[1;31mNameError\u001b[0m: name 'list_clone' is not defined"
     ]
    }
   ],
   "source": [
    "print(\"Clone list is -->\\n\",list_clone)\n"
   ]
  },
  {
   "cell_type": "code",
   "execution_count": null,
   "id": "b6a4cc53",
   "metadata": {},
   "outputs": [],
   "source": [
    "11.Ans-list=[11,22,22,11,44,11,456,225,522]\n"
   ]
  },
  {
   "cell_type": "code",
   "execution_count": null,
   "id": "78a99424",
   "metadata": {},
   "outputs": [],
   "source": [
    "print(\"occurrences of 11 inside list is-->\")\n",
    "list.count(11)"
   ]
  },
  {
   "cell_type": "code",
   "execution_count": 21,
   "id": "63da1197",
   "metadata": {},
   "outputs": [
    {
     "ename": "SyntaxError",
     "evalue": "invalid syntax (1478438480.py, line 1)",
     "output_type": "error",
     "traceback": [
      "\u001b[1;36m  Input \u001b[1;32mIn [21]\u001b[1;36m\u001b[0m\n\u001b[1;33m    occurrences of 11 inside list is-->\u001b[0m\n\u001b[1;37m                ^\u001b[0m\n\u001b[1;31mSyntaxError\u001b[0m\u001b[1;31m:\u001b[0m invalid syntax\n"
     ]
    }
   ],
   "source": [
    "occurrences of 11 inside list is-->\n"
   ]
  },
  {
   "cell_type": "code",
   "execution_count": null,
   "id": "d0b70069",
   "metadata": {},
   "outputs": [],
   "source": []
  }
 ],
 "metadata": {
  "kernelspec": {
   "display_name": "Python 3 (ipykernel)",
   "language": "python",
   "name": "python3"
  },
  "language_info": {
   "codemirror_mode": {
    "name": "ipython",
    "version": 3
   },
   "file_extension": ".py",
   "mimetype": "text/x-python",
   "name": "python",
   "nbconvert_exporter": "python",
   "pygments_lexer": "ipython3",
   "version": "3.9.12"
  }
 },
 "nbformat": 4,
 "nbformat_minor": 5
}

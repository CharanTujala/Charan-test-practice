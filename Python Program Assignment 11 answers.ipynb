{
 "cells": [
  {
   "cell_type": "code",
   "execution_count": null,
   "id": "364ad785",
   "metadata": {},
   "outputs": [],
   "source": [
    "1.Ans-string=\"To reach a conclusion that the black hole had the ability to give the required extreme condition to create elements like gold, the scientists compared the black hole condition to other cosmic conditions like neutron star collisions, reported Science Alert.\"\n"
   ]
  },
  {
   "cell_type": "code",
   "execution_count": null,
   "id": "aa7defb9",
   "metadata": {},
   "outputs": [],
   "source": [
    "import re\n"
   ]
  },
  {
   "cell_type": "code",
   "execution_count": null,
   "id": "0554a523",
   "metadata": {},
   "outputs": [],
   "source": [
    "a=re.findall(r'\\w+',string)\n"
   ]
  },
  {
   "cell_type": "code",
   "execution_count": null,
   "id": "4b3a5b2a",
   "metadata": {},
   "outputs": [],
   "source": [
    "list=[]\n"
   ]
  },
  {
   "cell_type": "code",
   "execution_count": null,
   "id": "f2bf4567",
   "metadata": {},
   "outputs": [],
   "source": [
    "def foo(k):\n",
    "    for i in a:\n",
    "        if k<len(i):\n",
    "            list.append(i)\n",
    "\n",
    "    "
   ]
  },
  {
   "cell_type": "code",
   "execution_count": null,
   "id": "0352da77",
   "metadata": {},
   "outputs": [],
   "source": [
    "foo(5)\n"
   ]
  },
  {
   "cell_type": "code",
   "execution_count": 1,
   "id": "2a9fa8aa",
   "metadata": {},
   "outputs": [
    {
     "data": {
      "text/plain": [
       "list"
      ]
     },
     "execution_count": 1,
     "metadata": {},
     "output_type": "execute_result"
    }
   ],
   "source": [
    "#Words greater than length 5\n",
    "list"
   ]
  },
  {
   "cell_type": "code",
   "execution_count": null,
   "id": "79f5a3ab",
   "metadata": {},
   "outputs": [],
   "source": [
    "stri=\"this is An example of string\"\n"
   ]
  },
  {
   "cell_type": "code",
   "execution_count": 7,
   "id": "982076dc",
   "metadata": {},
   "outputs": [],
   "source": [
    "def char_rem(i):\n",
    "    a=stri.replace(\" \", \"\")[:i]\n",
    "    b=stri.replace(\" \", \"\")[i+1:]\n",
    "    return a+b"
   ]
  },
  {
   "cell_type": "code",
   "execution_count": 8,
   "id": "190c9809",
   "metadata": {},
   "outputs": [
    {
     "ename": "NameError",
     "evalue": "name 'char_rem1' is not defined",
     "output_type": "error",
     "traceback": [
      "\u001b[1;31m---------------------------------------------------------------------------\u001b[0m",
      "\u001b[1;31mNameError\u001b[0m                                 Traceback (most recent call last)",
      "Input \u001b[1;32mIn [8]\u001b[0m, in \u001b[0;36m<cell line: 1>\u001b[1;34m()\u001b[0m\n\u001b[1;32m----> 1\u001b[0m \u001b[43mchar_rem1\u001b[49m(\u001b[38;5;241m2\u001b[39m)\n",
      "\u001b[1;31mNameError\u001b[0m: name 'char_rem1' is not defined"
     ]
    }
   ],
   "source": [
    "char_rem1(2)\n"
   ]
  },
  {
   "cell_type": "code",
   "execution_count": null,
   "id": "69ab3ee5",
   "metadata": {},
   "outputs": [],
   "source": [
    "def char_rem1(i):\n",
    "    a=stri[:i]\n",
    "    b=stri[i+1:]\n",
    "    return a+b"
   ]
  },
  {
   "cell_type": "code",
   "execution_count": 9,
   "id": "f66f6181",
   "metadata": {},
   "outputs": [
    {
     "ename": "NameError",
     "evalue": "name 'char_rem1' is not defined",
     "output_type": "error",
     "traceback": [
      "\u001b[1;31m---------------------------------------------------------------------------\u001b[0m",
      "\u001b[1;31mNameError\u001b[0m                                 Traceback (most recent call last)",
      "Input \u001b[1;32mIn [9]\u001b[0m, in \u001b[0;36m<cell line: 1>\u001b[1;34m()\u001b[0m\n\u001b[1;32m----> 1\u001b[0m \u001b[43mchar_rem1\u001b[49m(\u001b[38;5;241m2\u001b[39m)\n",
      "\u001b[1;31mNameError\u001b[0m: name 'char_rem1' is not defined"
     ]
    }
   ],
   "source": [
    "char_rem1(2)\n"
   ]
  },
  {
   "cell_type": "code",
   "execution_count": null,
   "id": "80975747",
   "metadata": {},
   "outputs": [],
   "source": [
    "str=\"program to split and join a string\"\n"
   ]
  },
  {
   "cell_type": "code",
   "execution_count": null,
   "id": "d5b3f34a",
   "metadata": {},
   "outputs": [],
   "source": [
    "def split_string(string):\n",
    "  \n",
    "    # Split the string based on space delimiter\n",
    "    list_string = string.split(' ')\n",
    "      \n",
    "    return list_string"
   ]
  },
  {
   "cell_type": "code",
   "execution_count": 10,
   "id": "09407612",
   "metadata": {},
   "outputs": [
    {
     "ename": "NameError",
     "evalue": "name 'split_string' is not defined",
     "output_type": "error",
     "traceback": [
      "\u001b[1;31m---------------------------------------------------------------------------\u001b[0m",
      "\u001b[1;31mNameError\u001b[0m                                 Traceback (most recent call last)",
      "Input \u001b[1;32mIn [10]\u001b[0m, in \u001b[0;36m<cell line: 1>\u001b[1;34m()\u001b[0m\n\u001b[1;32m----> 1\u001b[0m \u001b[43msplit_string\u001b[49m(\u001b[38;5;28mstr\u001b[39m)\n",
      "\u001b[1;31mNameError\u001b[0m: name 'split_string' is not defined"
     ]
    }
   ],
   "source": [
    "split_string(str)\n"
   ]
  },
  {
   "cell_type": "code",
   "execution_count": null,
   "id": "f6447fb6",
   "metadata": {},
   "outputs": [],
   "source": [
    "def join_string(list_string):\n",
    "  \n",
    "    # Join the string based on '-' delimiter\n",
    "    string = ' '.join(list_string)\n",
    "      \n",
    "    return string"
   ]
  },
  {
   "cell_type": "code",
   "execution_count": 11,
   "id": "74c3ea13",
   "metadata": {},
   "outputs": [
    {
     "ename": "NameError",
     "evalue": "name 'join_string' is not defined",
     "output_type": "error",
     "traceback": [
      "\u001b[1;31m---------------------------------------------------------------------------\u001b[0m",
      "\u001b[1;31mNameError\u001b[0m                                 Traceback (most recent call last)",
      "Input \u001b[1;32mIn [11]\u001b[0m, in \u001b[0;36m<cell line: 1>\u001b[1;34m()\u001b[0m\n\u001b[1;32m----> 1\u001b[0m \u001b[43mjoin_string\u001b[49m([\u001b[38;5;124m'\u001b[39m\u001b[38;5;124mprogram\u001b[39m\u001b[38;5;124m'\u001b[39m, \u001b[38;5;124m'\u001b[39m\u001b[38;5;124mto\u001b[39m\u001b[38;5;124m'\u001b[39m, \u001b[38;5;124m'\u001b[39m\u001b[38;5;124msplit\u001b[39m\u001b[38;5;124m'\u001b[39m, \u001b[38;5;124m'\u001b[39m\u001b[38;5;124mand\u001b[39m\u001b[38;5;124m'\u001b[39m, \u001b[38;5;124m'\u001b[39m\u001b[38;5;124mjoin\u001b[39m\u001b[38;5;124m'\u001b[39m, \u001b[38;5;124m'\u001b[39m\u001b[38;5;124ma\u001b[39m\u001b[38;5;124m'\u001b[39m, \u001b[38;5;124m'\u001b[39m\u001b[38;5;124mstring\u001b[39m\u001b[38;5;124m'\u001b[39m])\n",
      "\u001b[1;31mNameError\u001b[0m: name 'join_string' is not defined"
     ]
    }
   ],
   "source": [
    "join_string(['program', 'to', 'split', 'and', 'join', 'a', 'string'])\n"
   ]
  },
  {
   "cell_type": "code",
   "execution_count": null,
   "id": "082f629d",
   "metadata": {},
   "outputs": [],
   "source": [
    "def check(string) :\n",
    " \n",
    "    # set function convert string\n",
    "    # into set of characters .\n",
    "    p = set(string)\n",
    " \n",
    "    # declare set of '0', '1' .\n",
    "    s = {'0', '1'}\n",
    " \n",
    "    # check set p is same as set s\n",
    "    # or set p contains only '0'\n",
    "    # or set p contains only '1'\n",
    "    # or not, if any one condition\n",
    "    # is true then string is accepted\n",
    "    # otherwise not .\n",
    "    if s == p or p == {'0'} or p == {'1'}:\n",
    "        print(\"Yes\")\n",
    "    else :\n",
    "        print(\"No\")"
   ]
  },
  {
   "cell_type": "code",
   "execution_count": null,
   "id": "5d205ac0",
   "metadata": {},
   "outputs": [],
   "source": [
    "str1=\"0110101010101111\"\n",
    "str2=\"010101dsadasd01\""
   ]
  },
  {
   "cell_type": "code",
   "execution_count": 12,
   "id": "11ee6912",
   "metadata": {},
   "outputs": [
    {
     "ename": "NameError",
     "evalue": "name 'check' is not defined",
     "output_type": "error",
     "traceback": [
      "\u001b[1;31m---------------------------------------------------------------------------\u001b[0m",
      "\u001b[1;31mNameError\u001b[0m                                 Traceback (most recent call last)",
      "Input \u001b[1;32mIn [12]\u001b[0m, in \u001b[0;36m<cell line: 1>\u001b[1;34m()\u001b[0m\n\u001b[1;32m----> 1\u001b[0m \u001b[43mcheck\u001b[49m(str1)\n",
      "\u001b[1;31mNameError\u001b[0m: name 'check' is not defined"
     ]
    }
   ],
   "source": [
    "check(str1)\n"
   ]
  },
  {
   "cell_type": "code",
   "execution_count": 13,
   "id": "d6fa5c20",
   "metadata": {},
   "outputs": [
    {
     "ename": "NameError",
     "evalue": "name 'check' is not defined",
     "output_type": "error",
     "traceback": [
      "\u001b[1;31m---------------------------------------------------------------------------\u001b[0m",
      "\u001b[1;31mNameError\u001b[0m                                 Traceback (most recent call last)",
      "Input \u001b[1;32mIn [13]\u001b[0m, in \u001b[0;36m<cell line: 1>\u001b[1;34m()\u001b[0m\n\u001b[1;32m----> 1\u001b[0m \u001b[43mcheck\u001b[49m(str2)\n",
      "\u001b[1;31mNameError\u001b[0m: name 'check' is not defined"
     ]
    }
   ],
   "source": [
    "check(str2)\n"
   ]
  },
  {
   "cell_type": "code",
   "execution_count": null,
   "id": "12a75622",
   "metadata": {},
   "outputs": [],
   "source": []
  }
 ],
 "metadata": {
  "kernelspec": {
   "display_name": "Python 3 (ipykernel)",
   "language": "python",
   "name": "python3"
  },
  "language_info": {
   "codemirror_mode": {
    "name": "ipython",
    "version": 3
   },
   "file_extension": ".py",
   "mimetype": "text/x-python",
   "name": "python",
   "nbconvert_exporter": "python",
   "pygments_lexer": "ipython3",
   "version": "3.9.12"
  }
 },
 "nbformat": 4,
 "nbformat_minor": 5
}

{
 "cells": [
  {
   "cell_type": "code",
   "execution_count": null,
   "id": "d7558d5a",
   "metadata": {},
   "outputs": [],
   "source": [
    "def stutter(st):\n",
    "    st=st.lower()\n",
    "    print(st[0:2]+\"...\"+st[0:2]+\"...\"+st+\"?\")"
   ]
  },
  {
   "cell_type": "code",
   "execution_count": 1,
   "id": "4b564299",
   "metadata": {},
   "outputs": [
    {
     "ename": "NameError",
     "evalue": "name 'stutter' is not defined",
     "output_type": "error",
     "traceback": [
      "\u001b[1;31m---------------------------------------------------------------------------\u001b[0m",
      "\u001b[1;31mNameError\u001b[0m                                 Traceback (most recent call last)",
      "Input \u001b[1;32mIn [1]\u001b[0m, in \u001b[0;36m<cell line: 1>\u001b[1;34m()\u001b[0m\n\u001b[1;32m----> 1\u001b[0m \u001b[43mstutter\u001b[49m(\u001b[38;5;124m\"\u001b[39m\u001b[38;5;124menthusiastic\u001b[39m\u001b[38;5;124m\"\u001b[39m)\n",
      "\u001b[1;31mNameError\u001b[0m: name 'stutter' is not defined"
     ]
    }
   ],
   "source": [
    "stutter(\"enthusiastic\")"
   ]
  },
  {
   "cell_type": "code",
   "execution_count": null,
   "id": "5aa72f9b",
   "metadata": {},
   "outputs": [],
   "source": [
    "ef is_curzon(a):\n",
    "    b=(2**a)+1\n",
    "    c=(2*a)+1\n",
    "    if b%c==0:\n",
    "        print(\"is_curzon\",a,\"➞\",\"True\")\n",
    "        print(\"2**\",a,\"+\",\"1\",\"=\",b)\n",
    "        print(\"2*\",a,\"+\",1,\"=\",c)\n",
    "        print(b,\" is a multiple of \",c)\n",
    "    else:\n",
    "        print(\"is_curzon\",a,\"➞\",\"False\")\n",
    "        print(\"2**\",a,\"+\",\"1\",\"=\",b)\n",
    "        print(\"2*\",a,\"+\",1,\"=\",c)\n",
    "        print(b,\" is not a multiple of \",c)\n",
    "        "
   ]
  },
  {
   "cell_type": "code",
   "execution_count": 2,
   "id": "7c26c755",
   "metadata": {},
   "outputs": [
    {
     "ename": "NameError",
     "evalue": "name 'is_curzon' is not defined",
     "output_type": "error",
     "traceback": [
      "\u001b[1;31m---------------------------------------------------------------------------\u001b[0m",
      "\u001b[1;31mNameError\u001b[0m                                 Traceback (most recent call last)",
      "Input \u001b[1;32mIn [2]\u001b[0m, in \u001b[0;36m<cell line: 1>\u001b[1;34m()\u001b[0m\n\u001b[1;32m----> 1\u001b[0m \u001b[43mis_curzon\u001b[49m(\u001b[38;5;241m5\u001b[39m)\n",
      "\u001b[1;31mNameError\u001b[0m: name 'is_curzon' is not defined"
     ]
    }
   ],
   "source": [
    "is_curzon(5)\n"
   ]
  },
  {
   "cell_type": "code",
   "execution_count": null,
   "id": "6a00f7e1",
   "metadata": {},
   "outputs": [],
   "source": []
  }
 ],
 "metadata": {
  "kernelspec": {
   "display_name": "Python 3 (ipykernel)",
   "language": "python",
   "name": "python3"
  },
  "language_info": {
   "codemirror_mode": {
    "name": "ipython",
    "version": 3
   },
   "file_extension": ".py",
   "mimetype": "text/x-python",
   "name": "python",
   "nbconvert_exporter": "python",
   "pygments_lexer": "ipython3",
   "version": "3.9.12"
  }
 },
 "nbformat": 4,
 "nbformat_minor": 5
}

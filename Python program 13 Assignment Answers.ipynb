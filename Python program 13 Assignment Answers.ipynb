{
 "cells": [
  {
   "cell_type": "code",
   "execution_count": null,
   "id": "16fd2d8c",
   "metadata": {},
   "outputs": [],
   "source": [
    "def fun(*args):\n",
    "    C=50\n",
    "    H=30\n",
    "    for i in args:\n",
    "        print(round(((2 * C * i)/H)**.5))"
   ]
  },
  {
   "cell_type": "code",
   "execution_count": 1,
   "id": "994da3aa",
   "metadata": {},
   "outputs": [
    {
     "ename": "NameError",
     "evalue": "name 'fun' is not defined",
     "output_type": "error",
     "traceback": [
      "\u001b[1;31m---------------------------------------------------------------------------\u001b[0m",
      "\u001b[1;31mNameError\u001b[0m                                 Traceback (most recent call last)",
      "Input \u001b[1;32mIn [1]\u001b[0m, in \u001b[0;36m<cell line: 1>\u001b[1;34m()\u001b[0m\n\u001b[1;32m----> 1\u001b[0m \u001b[43mfun\u001b[49m(\u001b[38;5;241m100\u001b[39m,\u001b[38;5;241m150\u001b[39m,\u001b[38;5;241m180\u001b[39m)\n",
      "\u001b[1;31mNameError\u001b[0m: name 'fun' is not defined"
     ]
    }
   ],
   "source": [
    "fun(100,150,180)\n"
   ]
  },
  {
   "cell_type": "code",
   "execution_count": null,
   "id": "a882a4e5",
   "metadata": {},
   "outputs": [],
   "source": [
    "import numpy as np\n",
    "def array(x,y):\n",
    "    a=np.empty((x,y))\n",
    "    for i in range(0,x):\n",
    "        for j in range(0,y):\n",
    "            a[i][j]=round(i*j)\n",
    "    return a.astype(\"int32\")  "
   ]
  },
  {
   "cell_type": "code",
   "execution_count": 2,
   "id": "e1c27c54",
   "metadata": {},
   "outputs": [
    {
     "ename": "NameError",
     "evalue": "name 'array' is not defined",
     "output_type": "error",
     "traceback": [
      "\u001b[1;31m---------------------------------------------------------------------------\u001b[0m",
      "\u001b[1;31mNameError\u001b[0m                                 Traceback (most recent call last)",
      "Input \u001b[1;32mIn [2]\u001b[0m, in \u001b[0;36m<cell line: 1>\u001b[1;34m()\u001b[0m\n\u001b[1;32m----> 1\u001b[0m \u001b[43marray\u001b[49m(\u001b[38;5;241m3\u001b[39m,\u001b[38;5;241m5\u001b[39m)\n",
      "\u001b[1;31mNameError\u001b[0m: name 'array' is not defined"
     ]
    }
   ],
   "source": [
    "array(3,5)\n"
   ]
  },
  {
   "cell_type": "code",
   "execution_count": 3,
   "id": "29428c69",
   "metadata": {},
   "outputs": [
    {
     "name": "stdout",
     "output_type": "stream",
     "text": [
      "Input comma separated sequence of words are---->without,hello,bag,world bag,hello,without,world\n",
      "bag,hello,without,world,world bag\n"
     ]
    }
   ],
   "source": [
    "items = input(\"Input comma separated sequence of words are---->\")\n",
    "words = [word for word in items.split(\",\")]\n",
    "print(\",\".join(sorted(list(set(words)))))"
   ]
  },
  {
   "cell_type": "code",
   "execution_count": 4,
   "id": "e17df527",
   "metadata": {},
   "outputs": [
    {
     "name": "stdout",
     "output_type": "stream",
     "text": [
      "Input whitespace separated sequence of words are----> again and hello makes perfect practice world\n",
      "Final output is --->  again and hello makes perfect practice world\n"
     ]
    }
   ],
   "source": [
    "items = input(\"Input whitespace separated sequence of words are---->\")\n",
    "words = [word for word in items.split(\" \")]\n",
    "print(\"Final output is --->\",\" \".join(sorted(set(words))))"
   ]
  },
  {
   "cell_type": "code",
   "execution_count": 5,
   "id": "2837bb10",
   "metadata": {},
   "outputs": [
    {
     "name": "stdout",
     "output_type": "stream",
     "text": [
      "Enter the sentence---->hello world! 123\n"
     ]
    }
   ],
   "source": [
    "import re\n",
    "sen=input(\"Enter the sentence---->\")\n",
    "sen=re.sub(r\"[^a-zA-Z0-9]\",\"\",sen)"
   ]
  },
  {
   "cell_type": "code",
   "execution_count": null,
   "id": "9c04cd12",
   "metadata": {},
   "outputs": [],
   "source": [
    "DIGITS=0\n",
    "LETTERS=0\n",
    "for i in sen: \n",
    "    if i.isnumeric()==True:\n",
    "        DIGITS=DIGITS+1\n",
    "    else:\n",
    "        LETTERS=LETTERS+1"
   ]
  },
  {
   "cell_type": "code",
   "execution_count": 6,
   "id": "59820c48",
   "metadata": {},
   "outputs": [
    {
     "ename": "NameError",
     "evalue": "name 'LETTERS' is not defined",
     "output_type": "error",
     "traceback": [
      "\u001b[1;31m---------------------------------------------------------------------------\u001b[0m",
      "\u001b[1;31mNameError\u001b[0m                                 Traceback (most recent call last)",
      "Input \u001b[1;32mIn [6]\u001b[0m, in \u001b[0;36m<cell line: 1>\u001b[1;34m()\u001b[0m\n\u001b[1;32m----> 1\u001b[0m \u001b[38;5;28mprint\u001b[39m(\u001b[38;5;124m\"\u001b[39m\u001b[38;5;124mLETTERS\u001b[39m\u001b[38;5;124m\"\u001b[39m,\u001b[43mLETTERS\u001b[49m)\n",
      "\u001b[1;31mNameError\u001b[0m: name 'LETTERS' is not defined"
     ]
    }
   ],
   "source": [
    "print(\"LETTERS\",LETTERS)"
   ]
  },
  {
   "cell_type": "code",
   "execution_count": 7,
   "id": "15170e55",
   "metadata": {},
   "outputs": [
    {
     "ename": "NameError",
     "evalue": "name 'DIGITS' is not defined",
     "output_type": "error",
     "traceback": [
      "\u001b[1;31m---------------------------------------------------------------------------\u001b[0m",
      "\u001b[1;31mNameError\u001b[0m                                 Traceback (most recent call last)",
      "Input \u001b[1;32mIn [7]\u001b[0m, in \u001b[0;36m<cell line: 1>\u001b[1;34m()\u001b[0m\n\u001b[1;32m----> 1\u001b[0m \u001b[38;5;28mprint\u001b[39m(\u001b[38;5;124m\"\u001b[39m\u001b[38;5;124mDIGITS\u001b[39m\u001b[38;5;124m\"\u001b[39m,\u001b[43mDIGITS\u001b[49m)\n",
      "\u001b[1;31mNameError\u001b[0m: name 'DIGITS' is not defined"
     ]
    }
   ],
   "source": [
    "print(\"DIGITS\",DIGITS)\n"
   ]
  },
  {
   "cell_type": "code",
   "execution_count": 8,
   "id": "bea77ebf",
   "metadata": {},
   "outputs": [
    {
     "name": "stdout",
     "output_type": "stream",
     "text": [
      "Type in: ABd1234@1,a F1#,2w3E*,2We3345 ABd1234@1\n",
      "ABd1234@1\n"
     ]
    }
   ],
   "source": [
    "import re\n",
    "\n",
    "passwords = input(\"Type in: \")\n",
    "passwords = passwords.split(\",\")\n",
    "\n",
    "accepted_pass = []\n",
    "for i in passwords:\n",
    "    \n",
    "    if len(i) < 6 or len(i) > 12:\n",
    "        continue\n",
    "\n",
    "    elif not re.search(\"([a-z])+\", i):\n",
    "        continue\n",
    "\n",
    "    elif not re.search(\"([A-Z])+\", i):\n",
    "        continue\n",
    "\n",
    "    elif not re.search(\"([0-9])+\", i):\n",
    "        continue\n",
    "\n",
    "    elif not re.search(\"([!@$%^&])+\", i):\n",
    "        continue\n",
    "\n",
    "    else:\n",
    "        accepted_pass.append(i)\n",
    "\n",
    "print((\" \").join(accepted_pass))"
   ]
  },
  {
   "cell_type": "code",
   "execution_count": null,
   "id": "5ce77c77",
   "metadata": {},
   "outputs": [],
   "source": []
  }
 ],
 "metadata": {
  "kernelspec": {
   "display_name": "Python 3 (ipykernel)",
   "language": "python",
   "name": "python3"
  },
  "language_info": {
   "codemirror_mode": {
    "name": "ipython",
    "version": 3
   },
   "file_extension": ".py",
   "mimetype": "text/x-python",
   "name": "python",
   "nbconvert_exporter": "python",
   "pygments_lexer": "ipython3",
   "version": "3.9.12"
  }
 },
 "nbformat": 4,
 "nbformat_minor": 5
}

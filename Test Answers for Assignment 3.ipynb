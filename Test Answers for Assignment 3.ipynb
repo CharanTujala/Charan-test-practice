{
 "cells": [
  {
   "cell_type": "code",
   "execution_count": null,
   "id": "79cb733a",
   "metadata": {},
   "outputs": [],
   "source": [
    "1.the advantages of using functions in our programms a.Avoid repetition of codes b.Increases program readability c.Divide a complex problem into simpler ones.\n",
    "  d.Reduces chances of error\n",
    "    \n",
    "\n",
    "7.A return statement is used to end the execution of the function call and “returns” the result (value of the expression following the return keyword) to the caller. \n",
    "8.If no return statement appears in a function definition, control automatically returns to the calling function after the last statement of the called function is executed. In this case, the return value of the called function is undefined\n",
    "9.If you want to refer to a global variable in a function, you can use the global keyword to declare which variables are global\n",
    "10.The None keyword is used to define a null value, or no value at all. None is not the same as 0, False, or an empty string. None is a data type of its own (NoneType) and only None can be None\n",
    "11.What does the import areallyourpetsnamederic statement do? That import statement imports a module named areallyourpetsnamederic.\n",
    "12.i = i + 1. If you had a function named bacon() inside a module named spam, how would you call it after importing spam ? This function can be called with spam. bacon().\n",
    "13.When it encounters an error, the control is passed to the except block, skipping the code in between. As seen in the above code, we have moved our code inside a try and except statement. Try running the program and it should throw an error message instead of crashing the program\n",
    "14.The try block lets you test a block of code for errors. The except block lets you handle the error. The else block lets you execute code when there is no error. The finally block lets you execute code, regardless of the result of the try- and except blocks.\n",
    "6.When the execution of the function terminates (returns), the local variables are destroyed. Codelens helps you visualize this because the local variables disappear after the function returns.\n",
    "2.When a function is \"called\" the program \"leaves\" the current section of code and begins to execute the first line inside the function\n",
    "3.A statement that executes a function. It consists of the name of the function followed by a list of arguments enclosed in parentheses. Using the output from one function call as the input to another. A statement that creates a new function, specifying its name, parameters, and the statements it execute\n",
    "4.a.A function is a block of code that does a particular operation and returns a result. It usually accepts inputs as parameters and returns a result. The parameters are not mandatory.\n",
    "  b.A function call is the code used to pass control to a function.\n",
    "5.There are two types of variables: global variables and local variables. The scope of global variables is the entire program whereas the scope of local variable is limited to the function where it is defined.\n"
   ]
  }
 ],
 "metadata": {
  "kernelspec": {
   "display_name": "Python 3 (ipykernel)",
   "language": "python",
   "name": "python3"
  },
  "language_info": {
   "codemirror_mode": {
    "name": "ipython",
    "version": 3
   },
   "file_extension": ".py",
   "mimetype": "text/x-python",
   "name": "python",
   "nbconvert_exporter": "python",
   "pygments_lexer": "ipython3",
   "version": "3.9.12"
  }
 },
 "nbformat": 4,
 "nbformat_minor": 5
}

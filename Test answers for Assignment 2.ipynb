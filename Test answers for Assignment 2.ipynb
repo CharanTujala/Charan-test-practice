{
 "cells": [
  {
   "cell_type": "code",
   "execution_count": null,
   "id": "44f63712",
   "metadata": {},
   "outputs": [],
   "source": [
    "1.The Boolean value can be two types either True or False . Checking some conditions such as “a==b” or “a<b” or “a>b” can be considered as boolean examples.\n",
    "2. There are basically three types Boolean search commands --AND ,OR and NOT.for example,searching on Politics and youth ,death penalty  or capital punishment\n",
    "3.please provide answer for this \n"
   ]
  },
  {
   "cell_type": "code",
   "execution_count": 9,
   "id": "7bec3bad",
   "metadata": {},
   "outputs": [
    {
     "ename": "SyntaxError",
     "evalue": "invalid syntax (1049710140.py, line 1)",
     "output_type": "error",
     "traceback": [
      "\u001b[1;36m  Input \u001b[1;32mIn [9]\u001b[1;36m\u001b[0m\n\u001b[1;33m    4. (5>4)and(3==5) (5>4)or(3==5)not((5>4))or(3==5)) (True and True) and (True==False) (not False)or(not True)\u001b[0m\n\u001b[1;37m                                      ^\u001b[0m\n\u001b[1;31mSyntaxError\u001b[0m\u001b[1;31m:\u001b[0m invalid syntax\n"
     ]
    }
   ],
   "source": [
    "4. (5>4)and(3==5) (5>4)or(3==5)not((5>4))or(3==5)) (True and True) and (True==False) (not False)or(not True)"
   ]
  },
  {
   "cell_type": "code",
   "execution_count": null,
   "id": "87566ee8",
   "metadata": {},
   "outputs": [],
   "source": [
    "5.Python has six comparison operators: less than ( < ), less than or equal to ( <= ), greater than ( > ), greater than or equal to ( >= ), equal to ( == ), and not equal to ( != )."
   ]
  },
  {
   "cell_type": "code",
   "execution_count": 11,
   "id": "308c2e7f",
   "metadata": {},
   "outputs": [
    {
     "ename": "SyntaxError",
     "evalue": "invalid syntax (2876411917.py, line 1)",
     "output_type": "error",
     "traceback": [
      "\u001b[1;36m  Input \u001b[1;32mIn [11]\u001b[1;36m\u001b[0m\n\u001b[1;33m    6.The “=” is an assignment operator is used to assign the value on the right to the variable on the left example -\u001b[0m\n\u001b[1;37m      ^\u001b[0m\n\u001b[1;31mSyntaxError\u001b[0m\u001b[1;31m:\u001b[0m invalid syntax\n"
     ]
    }
   ],
   "source": [
    "6.The “=” is an assignment operator is used to assign the value on the right to the variable on the left example -a=10;b=20"
   ]
  },
  {
   "cell_type": "code",
   "execution_count": null,
   "id": "df0cccc2",
   "metadata": {},
   "outputs": [],
   "source": [
    "7.please provide me answer for this"
   ]
  },
  {
   "cell_type": "code",
   "execution_count": null,
   "id": "43c92b17",
   "metadata": {},
   "outputs": [],
   "source": [
    "8.please provide me answer for this\n",
    "9.CTRL+C\n",
    "10.The primary difference between break and continue statement in C is that the break statement leads to an immediate exit of the innermost switch or enclosing loop. On the other hand, the continue statement begins the next iteration of the while, enclosing for, or do loop.\n",
    "11.please provide me answer for this\n",
    "12.please provide me answer for this\n",
    "13.please provide me answer for this"
   ]
  }
 ],
 "metadata": {
  "kernelspec": {
   "display_name": "Python 3 (ipykernel)",
   "language": "python",
   "name": "python3"
  },
  "language_info": {
   "codemirror_mode": {
    "name": "ipython",
    "version": 3
   },
   "file_extension": ".py",
   "mimetype": "text/x-python",
   "name": "python",
   "nbconvert_exporter": "python",
   "pygments_lexer": "ipython3",
   "version": "3.9.12"
  }
 },
 "nbformat": 4,
 "nbformat_minor": 5
}

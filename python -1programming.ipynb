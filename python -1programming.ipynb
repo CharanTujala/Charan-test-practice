{
 "cells": [
  {
   "cell_type": "code",
   "execution_count": 2,
   "id": "9cbe00dc",
   "metadata": {},
   "outputs": [
    {
     "name": "stdout",
     "output_type": "stream",
     "text": [
      "Hello Python\n"
     ]
    }
   ],
   "source": [
    "1.print(\"Hello Python\")\n",
    "\n"
   ]
  },
  {
   "cell_type": "code",
   "execution_count": 7,
   "id": "b115e4e2",
   "metadata": {},
   "outputs": [],
   "source": [
    "def arithmetic(a,b):\n",
    "    c=input(\"Addition or Division --> \").upper()\n",
    "    if c==\"ADDITION\":\n",
    "        print(\"Result of addition is \",(a+b))\n",
    "    elif c==\"DIVISION\":\n",
    "        print(\"Result of division is \",(a/b))\n",
    "        "
   ]
  },
  {
   "cell_type": "code",
   "execution_count": 8,
   "id": "129da7f2",
   "metadata": {},
   "outputs": [
    {
     "name": "stdout",
     "output_type": "stream",
     "text": [
      "Addition or Division --> 11\n"
     ]
    }
   ],
   "source": [
    "arithmetic(5,6)\n"
   ]
  },
  {
   "cell_type": "code",
   "execution_count": 9,
   "id": "998f0667",
   "metadata": {},
   "outputs": [],
   "source": [
    "#formulla for area of triangle-->1/2*(base)*perpendicular hight\n"
   ]
  },
  {
   "cell_type": "code",
   "execution_count": 10,
   "id": "b96c70e2",
   "metadata": {},
   "outputs": [
    {
     "name": "stdout",
     "output_type": "stream",
     "text": [
      "Length of base-->5\n",
      "Length of height-->5\n",
      "Area of triangle is --> 12.5\n"
     ]
    }
   ],
   "source": [
    "a=int(input(\"Length of base-->\"))\n",
    "b=int(input(\"Length of height-->\"))\n",
    "\n",
    "print(\"Area of triangle is -->\",.5*a*b)"
   ]
  },
  {
   "cell_type": "code",
   "execution_count": 11,
   "id": "4af220e6",
   "metadata": {},
   "outputs": [
    {
     "ename": "SyntaxError",
     "evalue": "invalid syntax (517512128.py, line 1)",
     "output_type": "error",
     "traceback": [
      "\u001b[1;36m  Input \u001b[1;32mIn [11]\u001b[1;36m\u001b[0m\n\u001b[1;33m    Length of base-->10\u001b[0m\n\u001b[1;37m           ^\u001b[0m\n\u001b[1;31mSyntaxError\u001b[0m\u001b[1;31m:\u001b[0m invalid syntax\n"
     ]
    }
   ],
   "source": [
    "Length of base-->10\n",
    "Length of height-->10\n",
    "Area of triangle is --> 50.0"
   ]
  },
  {
   "cell_type": "code",
   "execution_count": null,
   "id": "c02124f2",
   "metadata": {},
   "outputs": [],
   "source": [
    "a=int(input(\"Enter first number-->\"))\n",
    "b=int(input(\"Enter second number-->\"))\n",
    "\n",
    "print(\"Value of a and b before swiping is --->\",\"a=\",a,\"b=\",b)\n",
    "\n",
    "#creating a temp variable to store data temporary\n",
    "\n",
    "temp=a\n",
    "a=b\n",
    "b=temp\n",
    "\n",
    "print(\"Value of a and b after swiping is --->\",\"a=\",a,\"b=\",b)"
   ]
  },
  {
   "cell_type": "code",
   "execution_count": null,
   "id": "f0910db4",
   "metadata": {},
   "outputs": [],
   "source": [
    "Enter first number-->55\n",
    "Enter second number-->66\n",
    "Value of a and b before swiping is ---> a= 55 b= 66\n",
    "Value of a and b after swiping is ---> a= 66 b= 55"
   ]
  },
  {
   "cell_type": "code",
   "execution_count": null,
   "id": "990e71c6",
   "metadata": {},
   "outputs": [],
   "source": [
    "#Generating random number between 0 and 1 randomly(FLOAT)\n",
    "import random\n",
    "n = random.random()\n",
    "print(n)"
   ]
  },
  {
   "cell_type": "code",
   "execution_count": null,
   "id": "3ad488a5",
   "metadata": {},
   "outputs": [],
   "source": [
    "#Generating random number(INTEGER) between given numbers from user side\n",
    "\n",
    "a=int(input(\"Enter starting number--->\"))\n",
    "b=int(input(\"Enter last number--->\"))\n",
    "\n",
    "import random\n",
    "n = random.randint(a,b)\n",
    "print(n)"
   ]
  },
  {
   "cell_type": "code",
   "execution_count": null,
   "id": "ab4bcfe8",
   "metadata": {},
   "outputs": [],
   "source": []
  }
 ],
 "metadata": {
  "kernelspec": {
   "display_name": "Python 3 (ipykernel)",
   "language": "python",
   "name": "python3"
  },
  "language_info": {
   "codemirror_mode": {
    "name": "ipython",
    "version": 3
   },
   "file_extension": ".py",
   "mimetype": "text/x-python",
   "name": "python",
   "nbconvert_exporter": "python",
   "pygments_lexer": "ipython3",
   "version": "3.9.12"
  }
 },
 "nbformat": 4,
 "nbformat_minor": 5
}

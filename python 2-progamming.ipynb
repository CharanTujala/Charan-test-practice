{
 "cells": [
  {
   "cell_type": "code",
   "execution_count": 1,
   "id": "2f49fc2e",
   "metadata": {},
   "outputs": [
    {
     "name": "stdout",
     "output_type": "stream",
     "text": [
      "Enter your value in km 102\n",
      "102.0  Km means  63.382799999999996 miles\n"
     ]
    }
   ],
   "source": [
    "1.a=float(input(\"Enter your value in km \"))\n",
    "\n",
    "print(a,\" Km means \",(.6214*a),\"miles\")"
   ]
  },
  {
   "cell_type": "code",
   "execution_count": 2,
   "id": "46327887",
   "metadata": {},
   "outputs": [
    {
     "name": "stdout",
     "output_type": "stream",
     "text": [
      "Enter Tempareture in celcius32\n",
      "32.0 °C means 89.6 °F\n"
     ]
    }
   ],
   "source": [
    "2.a=float(input(\"Enter Tempareture in celcius\"))\n",
    "\n",
    "print(a,\"°C means\",(a*9/5)+32 ,\"°F\")"
   ]
  },
  {
   "cell_type": "code",
   "execution_count": 3,
   "id": "c34abb18",
   "metadata": {},
   "outputs": [
    {
     "name": "stdout",
     "output_type": "stream",
     "text": [
      "Enter year-->1996\n",
      "Enter month-->1\n",
      "\n",
      "\n",
      "    January 1996\n",
      "Mo Tu We Th Fr Sa Su\n",
      " 1  2  3  4  5  6  7\n",
      " 8  9 10 11 12 13 14\n",
      "15 16 17 18 19 20 21\n",
      "22 23 24 25 26 27 28\n",
      "29 30 31\n",
      "\n"
     ]
    }
   ],
   "source": [
    "3.import calendar\n",
    "\n",
    "a=int(input(\"Enter year-->\"))\n",
    "b=int(input(\"Enter month-->\"))\n",
    "print(\"\\n\")\n",
    "print(calendar.month(a,b))"
   ]
  },
  {
   "cell_type": "code",
   "execution_count": 4,
   "id": "1baf0521",
   "metadata": {},
   "outputs": [
    {
     "name": "stdout",
     "output_type": "stream",
     "text": [
      "Enter value of a 1\n",
      "Enter value of b -5\n",
      "Enter value of c -6\n",
      "Our quadratic equation is --> 1.0 x2  +   -5.0 x  +   -6.0 = 0\n",
      "First root of our equation is  6.0\n",
      "Second root of our equation is  -1.0\n"
     ]
    }
   ],
   "source": [
    "4.a=float(input(\"Enter value of a \"))\n",
    "b=float(input(\"Enter value of b \"))\n",
    "c=float(input(\"Enter value of c \"))\n",
    "\n",
    "print(\"Our quadratic equation is -->\",a,\"x2  +  \",b,\"x  +  \",c,\"= 0\")\n",
    "\n",
    "print(\"First root of our equation is \",(-b +(b ** 2 - 4 * a * c) ** 0.5) / (2 * a))\n",
    "print(\"Second root of our equation is \",(-b -(b ** 2 - 4 * a * c) ** 0.5) / (2 * a))"
   ]
  },
  {
   "cell_type": "code",
   "execution_count": 5,
   "id": "bd6fa13a",
   "metadata": {},
   "outputs": [
    {
     "name": "stdout",
     "output_type": "stream",
     "text": [
      "Enter value  100\n",
      "Enter value  hello\n",
      "Before swiping value of a is = 100 and b is = hello\n",
      "After swiping value of a is = hello and b is = 100\n"
     ]
    }
   ],
   "source": [
    "5.a=input(\"Enter value  \")\n",
    "b=input(\"Enter value  \")\n",
    "\n",
    "print(\"Before swiping value of a is =\",a,\"and b is =\",b)\n",
    "\n",
    "a,b=b,a\n",
    "\n",
    "print(\"After swiping value of a is =\",a,\"and b is =\",b)"
   ]
  },
  {
   "cell_type": "code",
   "execution_count": null,
   "id": "7cf3a351",
   "metadata": {},
   "outputs": [],
   "source": []
  }
 ],
 "metadata": {
  "kernelspec": {
   "display_name": "Python 3 (ipykernel)",
   "language": "python",
   "name": "python3"
  },
  "language_info": {
   "codemirror_mode": {
    "name": "ipython",
    "version": 3
   },
   "file_extension": ".py",
   "mimetype": "text/x-python",
   "name": "python",
   "nbconvert_exporter": "python",
   "pygments_lexer": "ipython3",
   "version": "3.9.12"
  }
 },
 "nbformat": 4,
 "nbformat_minor": 5
}

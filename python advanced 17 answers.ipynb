{
 "cells": [
  {
   "cell_type": "code",
   "execution_count": null,
   "id": "96d4c45b",
   "metadata": {},
   "outputs": [],
   "source": [
    "Strings are Arrays\n",
    "Like many other popular programming languages, strings in Python are arrays of bytes representing unicode characters. However, Python does not have a character data type, a single character is simply a string with a length of 1. Square brackets can be used to access elements of the string\n",
    "\n",
    "\n",
    "2.Ans--The logical operators and, or and not are also referred to as boolean operators. While and as well as or operator needs two operands, which may evaluate to true or false, not operator needs one operand evaluating to true or false. Boolean and operator returns true if both operands return true\n",
    "\n",
    "3.Ans--“Indexing” means referring to an element of an iterable by its position within the iterable. “Slicing” means getting a subset of elements from an iterable based on their indices.\n",
    "\n",
    "\n",
    "4.Ans--String indexing in Python is zero-based i.e., first character in the string has index value “0” and the next character in the string has value “1” and so on. There are two types of sting indexing: positive string indexing and negative string indexing.\n",
    "    \n",
    "    \n",
    "5.Ans-- Benefits of natural gas and propane generators:\n",
    "These gases are tasteless, colourless, and non-toxic with a unique odour added for easy detection in case of leaks. Propane and natural gas do not go bad with time. They are affordable. They are abundant\n",
    "\n",
    "\n",
    "6.Ans--A generator is a special type of function which does not return a single value, instead, it returns an iterator object with a sequence of values. In a generator function, a yield statement is used rather than a return statement.\n",
    "\n",
    "\n",
    "7.Ans--PEP 572 (Assignment Expressions) – The walrus operator (:=) ...\n",
    "PEP 570 (Positional only arguments) ...\n",
    "PEP 590 ( Vectorcall) ...\n",
    "PEP 574 ( Pickle Protocol 5 with out-of-band data) ...\n",
    "F-strings now support = (Easy debugging) ...\n",
    "Improved Typing.\n",
    "\n",
    "\n",
    "8.Ans--In Python, the term monkey patch refers to dynamic (or run-time) modifications of a class or module. In Python, we can actually change the behavior of code at run-time\n",
    "\n",
    "9.Ans--A generator comprehension is a single-line specification for defining a generator in Python. It is absolutely essential to learn this syntax in order to write simple and readable code. Note: Generator comprehensions are not the only method for defining generators in Python.\n",
    "    \n",
    "    \n",
    " Ans-A Regular Expression is used for identifying a search pattern in a text string. It also helps in finding out the correctness of the data and even operations such as finding, replacing and formatting the data is possible using Regular Expressions\n",
    "\n",
    "Ans--"
   ]
  }
 ],
 "metadata": {
  "kernelspec": {
   "display_name": "Python 3 (ipykernel)",
   "language": "python",
   "name": "python3"
  },
  "language_info": {
   "codemirror_mode": {
    "name": "ipython",
    "version": 3
   },
   "file_extension": ".py",
   "mimetype": "text/x-python",
   "name": "python",
   "nbconvert_exporter": "python",
   "pygments_lexer": "ipython3",
   "version": "3.9.12"
  }
 },
 "nbformat": 4,
 "nbformat_minor": 5
}

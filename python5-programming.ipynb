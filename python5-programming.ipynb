{
 "cells": [
  {
   "cell_type": "code",
   "execution_count": 1,
   "id": "ceb4aa4b",
   "metadata": {},
   "outputs": [],
   "source": [
    "#We know the formulla {LCM (a,b) × HCF (a,b) = a × b}\n",
    "#Use this Formulla to find HCF"
   ]
  },
  {
   "cell_type": "code",
   "execution_count": 3,
   "id": "6d4f80cb",
   "metadata": {},
   "outputs": [
    {
     "name": "stdout",
     "output_type": "stream",
     "text": [
      "enter first number24\n",
      "enter second number8\n",
      "List of  24 table is  [24, 48, 72, 96, 120, 144, 168, 192, 216, 240, 264, 288, 312, 336, 360, 384, 408, 432, 456]\n",
      "List of  8 table is  [8, 16, 24, 32, 40, 48, 56, 64, 72, 80, 88, 96, 104, 112, 120, 128, 136, 144, 152]\n",
      "\n",
      "\n",
      "LCM is---> 24\n"
     ]
    }
   ],
   "source": [
    "\n",
    "a=int(input(\"enter first number\"))\n",
    "b=int(input(\"enter second number\"))\n",
    "#here i create 2 empty list and put all number (table) inside\n",
    "l1=[]\n",
    "l2=[]\n",
    "\n",
    "i=1\n",
    "\n",
    "while i<20:\n",
    "    l1.insert(i,(a*i))\n",
    "    l2.insert(i,(b*i))\n",
    "    i=i+1\n",
    "\n",
    "\n",
    "    \n",
    "print(\"List of \",a,\"table is \",l1)\n",
    "print(\"List of \",b,\"table is \",l2)\n",
    "\n",
    "\n",
    "#Here we put all common factors inside list\n",
    "list=[]\n",
    "for i in l1:\n",
    "    for k in l2:\n",
    "        if i==k:\n",
    "            list.append(i)\n",
    "\n",
    "            \n",
    "#Fetch lowest common factor from list\n",
    "print(\"\\n\")\n",
    "print(\"LCM is--->\",min(list))\n",
    "            "
   ]
  },
  {
   "cell_type": "code",
   "execution_count": 4,
   "id": "a133aa03",
   "metadata": {},
   "outputs": [
    {
     "name": "stdout",
     "output_type": "stream",
     "text": [
      "Enter the first number: 8\n",
      "Enter the second number: 62\n",
      "First Number is:  8\n",
      "Second Number is:  62\n",
      "LCM of the two numbers is:  248\n"
     ]
    }
   ],
   "source": [
    "a = int(input(\"Enter the first number: \"))\n",
    "b = int(input(\"Enter the second number: \"))\n",
    " \n",
    "HCF = 1\n",
    " \n",
    "for i in range(2,a+1):\n",
    "    if(a%i==0 and b%i==0):\n",
    "        HCF = i\n",
    " \n",
    "print(\"First Number is: \",a)\n",
    "print(\"Second Number is: \",b)\n",
    " \n",
    "LCM = int((a*b)/(HCF))\n",
    "print(\"LCM of the two numbers is: \",LCM)"
   ]
  },
  {
   "cell_type": "code",
   "execution_count": 5,
   "id": "96ecf87e",
   "metadata": {},
   "outputs": [
    {
     "name": "stdout",
     "output_type": "stream",
     "text": [
      "enter first number26\n",
      "enter second number22\n",
      "List of  26 table is  [26, 52, 78, 104, 130, 156, 182, 208, 234, 260, 286, 312, 338, 364, 390, 416, 442, 468, 494]\n",
      "List of  22 table is  [22, 44, 66, 88, 110, 132, 154, 176, 198, 220, 242, 264, 286, 308, 330, 352, 374, 396, 418]\n",
      "\n",
      "\n",
      "LCM is---> 286\n",
      "We use formulla LCM (a,b) × HCF (a,b) = a × b \n",
      "HCF of  26 and 22 is 2.0\n"
     ]
    }
   ],
   "source": [
    "a=int(input(\"enter first number\"))\n",
    "b=int(input(\"enter second number\"))\n",
    "#here i create 2 empty list and put all number (table) inside\n",
    "l1=[]\n",
    "l2=[]\n",
    "\n",
    "i=1\n",
    "\n",
    "while i<20:\n",
    "    l1.insert(i,(a*i))\n",
    "    l2.insert(i,(b*i))\n",
    "    i=i+1\n",
    "\n",
    "\n",
    "    \n",
    "print(\"List of \",a,\"table is \",l1)\n",
    "print(\"List of \",b,\"table is \",l2)\n",
    "\n",
    "\n",
    "#Here we put all common factors inside list\n",
    "list=[]\n",
    "for i in l1:\n",
    "    for k in l2:\n",
    "        if i==k:\n",
    "            list.append(i)\n",
    "\n",
    "            \n",
    "#Fetch lowest common factor from list\n",
    "print(\"\\n\")\n",
    "print(\"LCM is--->\",min(list))\n",
    "\n",
    "\n",
    "print(\"We use formulla LCM (a,b) × HCF (a,b) = a × b \")\n",
    "print(\"HCF of \",a,\"and\",b,\"is\",(a*b)/min(list))"
   ]
  },
  {
   "cell_type": "code",
   "execution_count": 6,
   "id": "07f85b77",
   "metadata": {},
   "outputs": [
    {
     "name": "stdout",
     "output_type": "stream",
     "text": [
      "Enter the first number: 26\n",
      "Enter the second number: 24\n",
      "First Number is:  26\n",
      "Second Number is:  24\n",
      "HCF of the numbers is:  2\n"
     ]
    }
   ],
   "source": [
    "a = int(input(\"Enter the first number: \"))\n",
    "b = int(input(\"Enter the second number: \"))\n",
    " \n",
    "HCF = 1\n",
    " \n",
    "for i in range(2,a+1):\n",
    "    if(a%i==0 and b%i==0):\n",
    "        HCF = i\n",
    " \n",
    "print(\"First Number is: \",a)\n",
    "print(\"Second Number is: \",b)\n",
    "print(\"HCF of the numbers is: \",HCF)"
   ]
  },
  {
   "cell_type": "code",
   "execution_count": 7,
   "id": "f0193f6c",
   "metadata": {},
   "outputs": [
    {
     "name": "stdout",
     "output_type": "stream",
     "text": [
      "The decimal value is 456\n",
      "0b111001000 in binary.\n",
      "0o710 in octal.\n",
      "0x1c8 in hexadecimal.\n"
     ]
    }
   ],
   "source": [
    "# Python program to convert decimal into other number systems\n",
    "dec = 456\n",
    "\n",
    "print(\"The decimal value is\", dec)\n",
    "print(bin(dec), \"in binary.\")\n",
    "print(oct(dec), \"in octal.\")\n",
    "print(hex(dec), \"in hexadecimal.\")"
   ]
  },
  {
   "cell_type": "code",
   "execution_count": 10,
   "id": "165df3d8",
   "metadata": {},
   "outputs": [
    {
     "name": "stdout",
     "output_type": "stream",
     "text": [
      "Give the character'0'\n"
     ]
    },
    {
     "ename": "TypeError",
     "evalue": "ord() expected a character, but string of length 3 found",
     "output_type": "error",
     "traceback": [
      "\u001b[1;31m---------------------------------------------------------------------------\u001b[0m",
      "\u001b[1;31mTypeError\u001b[0m                                 Traceback (most recent call last)",
      "Input \u001b[1;32mIn [10]\u001b[0m, in \u001b[0;36m<cell line: 4>\u001b[1;34m()\u001b[0m\n\u001b[0;32m      1\u001b[0m \u001b[38;5;66;03m# Program to find the ASCII value of the given character\u001b[39;00m\n\u001b[0;32m      3\u001b[0m c \u001b[38;5;241m=\u001b[39m\u001b[38;5;28minput\u001b[39m(\u001b[38;5;124m\"\u001b[39m\u001b[38;5;124mGive the character\u001b[39m\u001b[38;5;124m\"\u001b[39m)\n\u001b[1;32m----> 4\u001b[0m \u001b[38;5;28mprint\u001b[39m(\u001b[38;5;124m\"\u001b[39m\u001b[38;5;124mThe ASCII value of \u001b[39m\u001b[38;5;124m'\u001b[39m\u001b[38;5;124m\"\u001b[39m \u001b[38;5;241m+\u001b[39m c \u001b[38;5;241m+\u001b[39m \u001b[38;5;124m\"\u001b[39m\u001b[38;5;124m'\u001b[39m\u001b[38;5;124m is\u001b[39m\u001b[38;5;124m\"\u001b[39m, \u001b[38;5;28;43mord\u001b[39;49m\u001b[43m(\u001b[49m\u001b[43mc\u001b[49m\u001b[43m)\u001b[49m)\n",
      "\u001b[1;31mTypeError\u001b[0m: ord() expected a character, but string of length 3 found"
     ]
    }
   ],
   "source": [
    "# Program to find the ASCII value of the given character\n",
    "\n",
    "c =input(\"Give the character\")\n",
    "print(\"The ASCII value of '\" + c + \"' is\", ord(c))"
   ]
  },
  {
   "cell_type": "code",
   "execution_count": 11,
   "id": "36ad5fd9",
   "metadata": {},
   "outputs": [
    {
     "name": "stdout",
     "output_type": "stream",
     "text": [
      "Press + for summation, * for multiplication, / for division, - for Subtraction. Given input is--->174\n",
      "Enter First Number  174\n",
      "Enter Second Number  174\n"
     ]
    }
   ],
   "source": [
    "math_operation=input(\"Press + for summation, * for multiplication, / for division, - for Subtraction. Given input is--->\")\n",
    "\n",
    "a=int(input(\"Enter First Number  \"))\n",
    "b=int(input(\"Enter Second Number  \"))\n",
    "\n",
    "\n",
    "if math_operation==\"+\":\n",
    "    print(\"summation of \",a,\"and\",b,\" is--> \",a+b)\n",
    "elif math_operation==\"*\":\n",
    "    print(\"multiplication of \",a,\"and\",b,\" is--> \",a*b)\n",
    "elif math_operation==\"/\":\n",
    "    print(\"division of \",a,\"and\",b,\" is--> \",a/b)\n",
    "elif math_operation==\"-\":\n",
    "    print(\"subtraction of \",a,\"and\",b,\" is--> \",a-b)\n",
    "    "
   ]
  },
  {
   "cell_type": "code",
   "execution_count": null,
   "id": "c161736e",
   "metadata": {},
   "outputs": [],
   "source": []
  }
 ],
 "metadata": {
  "kernelspec": {
   "display_name": "Python 3 (ipykernel)",
   "language": "python",
   "name": "python3"
  },
  "language_info": {
   "codemirror_mode": {
    "name": "ipython",
    "version": 3
   },
   "file_extension": ".py",
   "mimetype": "text/x-python",
   "name": "python",
   "nbconvert_exporter": "python",
   "pygments_lexer": "ipython3",
   "version": "3.9.12"
  }
 },
 "nbformat": 4,
 "nbformat_minor": 5
}

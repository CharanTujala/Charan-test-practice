{
 "cells": [
  {
   "cell_type": "code",
   "execution_count": 1,
   "id": "aca2619b",
   "metadata": {},
   "outputs": [
    {
     "name": "stdout",
     "output_type": "stream",
     "text": [
      "Enter the number   5\n",
      "Fibonacci sequence:\n",
      "0\n",
      "1\n",
      "1\n",
      "2\n",
      "3\n"
     ]
    }
   ],
   "source": [
    "def fibo(n):\n",
    "    if n <= 1:\n",
    "        return n\n",
    "    else:\n",
    "        return(fibo(n-1) + fibo(n-2))\n",
    "\n",
    "nterms =int(input(\"Enter the number   \"))\n",
    "\n",
    "# check if the number of terms is valid\n",
    "if nterms <= 0:\n",
    "    print(\"Plese enter a positive integer\")\n",
    "else:\n",
    "    print(\"Fibonacci sequence:\")\n",
    "    for i in range(nterms):\n",
    "        print(fibo(i))"
   ]
  },
  {
   "cell_type": "code",
   "execution_count": 2,
   "id": "d9a8c94d",
   "metadata": {},
   "outputs": [
    {
     "name": "stdout",
     "output_type": "stream",
     "text": [
      "enter the number-->7\n",
      "The factorial of 7 is 5040\n"
     ]
    }
   ],
   "source": [
    "# Factorial of a number using recursion\n",
    "\n",
    "def recur_factorial(n):\n",
    "    if n == 1:\n",
    "        return n\n",
    "    else:\n",
    "        return n*recur_factorial(n-1)\n",
    "\n",
    "num =int(input(\"enter the number-->\"))\n",
    "\n",
    "# check if the number is negative\n",
    "if num < 0:\n",
    "    print(\"Sorry, factorial does not exist for negative numbers\")\n",
    "elif num == 0:\n",
    "    print(\"The factorial of 0 is 1\")\n",
    "else:\n",
    "    print(\"The factorial of\", num, \"is\", recur_factorial(num))"
   ]
  },
  {
   "cell_type": "code",
   "execution_count": 3,
   "id": "350ec544",
   "metadata": {},
   "outputs": [
    {
     "name": "stdout",
     "output_type": "stream",
     "text": [
      "Enter height in feet-->5.7\n",
      "Enter weight in Kg-->85\n",
      "your BMI is--> 28.160430453072518 kg/me2\n",
      "You are over weight.\n"
     ]
    }
   ],
   "source": [
    "height=float(input(\"Enter height in feet-->\"))\n",
    "weight=float(input(\"Enter weight in Kg-->\"))\n",
    "\n",
    "\n",
    "#formulla for BMI=weight / (height)**2 1 feet=.3048 meter\n",
    "\n",
    "\n",
    "BMI=weight/(height*.3048)**2\n",
    "\n",
    "print(\"your BMI is-->\",BMI,\"kg/me2\")\n",
    "\n",
    "\n",
    "\n",
    "if BMI <= 18.4:\n",
    "    print(\"You are underweight.\")\n",
    "elif BMI <= 24.9:\n",
    "    print(\"You are healthy.\")\n",
    "elif BMI <= 29.9:\n",
    "    print(\"You are over weight.\")\n",
    "elif BMI <= 34.9:\n",
    "    print(\"You are severely over weight.\")\n",
    "elif BMI <= 39.9:\n",
    "    print(\"You are obese.\")\n",
    "else:\n",
    "    print(\"You are severely obese.\")"
   ]
  },
  {
   "cell_type": "code",
   "execution_count": 4,
   "id": "cc3a0ace",
   "metadata": {},
   "outputs": [
    {
     "name": "stdout",
     "output_type": "stream",
     "text": [
      "1.0000066849139877\n",
      "0.6931471805599453\n",
      "0.0\n"
     ]
    }
   ],
   "source": [
    "#Import math Library\n",
    "import math\n",
    "\n",
    "# Return the natural logarithm of different numbers\n",
    "print(math.log(2.7183))\n",
    "print(math.log(2))\n",
    "print(math.log(1))"
   ]
  },
  {
   "cell_type": "code",
   "execution_count": 5,
   "id": "75b7f76d",
   "metadata": {},
   "outputs": [
    {
     "name": "stdout",
     "output_type": "stream",
     "text": [
      "Enter number upto which number want to find cube sum-->0\n",
      "List of natural numbers---> []\n",
      "sum of  0 th natural number is --> 0\n"
     ]
    }
   ],
   "source": [
    "a=int(input(\"Enter number upto which number want to find cube sum-->\"))\n",
    "list=[]\n",
    "\n",
    "for i in range(1,a+1):\n",
    "    list.insert(i,i)\n",
    "\n",
    "    \n",
    "print(\"List of natural numbers--->\",list)    \n",
    "sum=0\n",
    "for i in list:\n",
    "    sum=sum+i**3\n",
    "\n",
    "    \n",
    "print(\"sum of \",a,\"th natural number is -->\",sum)"
   ]
  },
  {
   "cell_type": "code",
   "execution_count": null,
   "id": "96aefa3d",
   "metadata": {},
   "outputs": [],
   "source": []
  }
 ],
 "metadata": {
  "kernelspec": {
   "display_name": "Python 3 (ipykernel)",
   "language": "python",
   "name": "python3"
  },
  "language_info": {
   "codemirror_mode": {
    "name": "ipython",
    "version": 3
   },
   "file_extension": ".py",
   "mimetype": "text/x-python",
   "name": "python",
   "nbconvert_exporter": "python",
   "pygments_lexer": "ipython3",
   "version": "3.9.12"
  }
 },
 "nbformat": 4,
 "nbformat_minor": 5
}
